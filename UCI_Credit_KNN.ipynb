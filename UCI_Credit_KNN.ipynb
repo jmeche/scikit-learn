{
  "nbformat": 4,
  "nbformat_minor": 0,
  "metadata": {
    "colab": {
      "name": "Untitled1.ipynb",
      "provenance": [],
      "collapsed_sections": [],
      "authorship_tag": "ABX9TyMKhDLpSKNYUW/ZYtTKdwIy",
      "include_colab_link": true
    },
    "kernelspec": {
      "name": "ir",
      "display_name": "R"
    }
  },
  "cells": [
    {
      "cell_type": "markdown",
      "metadata": {
        "id": "view-in-github",
        "colab_type": "text"
      },
      "source": [
        "<a href=\"https://colab.research.google.com/github/jmeche/scikit-learn/blob/master/UCI_Credit_KNN.ipynb\" target=\"_parent\"><img src=\"https://colab.research.google.com/assets/colab-badge.svg\" alt=\"Open In Colab\"/></a>"
      ]
    },
    {
      "cell_type": "code",
      "metadata": {
        "id": "hui1jDssLZA7",
        "outputId": "6c2865c9-3b13-4d48-cb24-daf1ec748106",
        "colab": {
          "base_uri": "https://localhost:8080/"
        }
      },
      "source": [
        "install.packages(\"caret\")\n",
        "install.packages(\"tidyverse\")\n",
        "install.packages(\"FNN\")\n",
        "install.packages(\"stringr\")"
      ],
      "execution_count": 2,
      "outputs": [
        {
          "output_type": "stream",
          "text": [
            "Installing package into ‘/usr/local/lib/R/site-library’\n",
            "(as ‘lib’ is unspecified)\n",
            "\n",
            "Warning message in install.packages(\"caret\"):\n",
            "“installation of package ‘caret’ had non-zero exit status”\n",
            "Installing package into ‘/usr/local/lib/R/site-library’\n",
            "(as ‘lib’ is unspecified)\n",
            "\n"
          ],
          "name": "stderr"
        }
      ]
    },
    {
      "cell_type": "code",
      "metadata": {
        "id": "HI-_DWNdP5nu",
        "outputId": "04d8bd39-c41d-471f-e2c6-56255c4f2b06",
        "colab": {
          "base_uri": "https://localhost:8080/"
        }
      },
      "source": [
        "install.packages(\"e1071\")\n",
        "library(e1071)"
      ],
      "execution_count": 29,
      "outputs": [
        {
          "output_type": "stream",
          "text": [
            "Installing package into ‘/usr/local/lib/R/site-library’\n",
            "(as ‘lib’ is unspecified)\n",
            "\n"
          ],
          "name": "stderr"
        }
      ]
    },
    {
      "cell_type": "code",
      "metadata": {
        "id": "Mp5DTiLVMn-D"
      },
      "source": [
        "library(caret, tidyverse)\n",
        "library(FNN)\n",
        "library(stringr)"
      ],
      "execution_count": 6,
      "outputs": []
    },
    {
      "cell_type": "code",
      "metadata": {
        "id": "dDzvKanAMygj",
        "outputId": "bb007081-8852-4df3-ec65-92e8cb84aa34",
        "colab": {
          "base_uri": "https://localhost:8080/",
          "height": 55
        }
      },
      "source": [
        "getwd()"
      ],
      "execution_count": 9,
      "outputs": [
        {
          "output_type": "display_data",
          "data": {
            "text/plain": [
              "[1] \"/content\""
            ],
            "text/latex": "'/content'",
            "text/markdown": "'/content'",
            "text/html": [
              "'/content'"
            ]
          },
          "metadata": {
            "tags": []
          }
        }
      ]
    },
    {
      "cell_type": "code",
      "metadata": {
        "id": "tb_7-y_BMycN"
      },
      "source": [
        "df <- read.csv(\"UCI_Credit_Card.csv\")"
      ],
      "execution_count": 10,
      "outputs": []
    },
    {
      "cell_type": "markdown",
      "metadata": {
        "id": "_QNeCeXANaxm"
      },
      "source": [
        "# Data Cleaning"
      ]
    },
    {
      "cell_type": "code",
      "metadata": {
        "id": "NwtqOEKNNKP-",
        "outputId": "2e7e3063-d555-499c-b2b9-7a29356ae034",
        "colab": {
          "base_uri": "https://localhost:8080/",
          "height": 1000
        }
      },
      "source": [
        "dim(df)\n",
        "str(df)"
      ],
      "execution_count": 11,
      "outputs": [
        {
          "output_type": "display_data",
          "data": {
            "text/plain": [
              "[1] 30000    25"
            ],
            "text/latex": "\\begin{enumerate*}\n\\item 30000\n\\item 25\n\\end{enumerate*}\n",
            "text/markdown": "1. 30000\n2. 25\n\n\n",
            "text/html": [
              "<style>\n",
              ".list-inline {list-style: none; margin:0; padding: 0}\n",
              ".list-inline>li {display: inline-block}\n",
              ".list-inline>li:not(:last-child)::after {content: \"\\00b7\"; padding: 0 .5ex}\n",
              "</style>\n",
              "<ol class=list-inline><li>30000</li><li>25</li></ol>\n"
            ]
          },
          "metadata": {
            "tags": []
          }
        },
        {
          "output_type": "stream",
          "text": [
            "'data.frame':\t30000 obs. of  25 variables:\n",
            " $ ID                        : int  1 2 3 4 5 6 7 8 9 10 ...\n",
            " $ LIMIT_BAL                 : num  20000 120000 90000 50000 50000 50000 500000 100000 140000 20000 ...\n",
            " $ SEX                       : int  2 2 2 2 1 1 1 2 2 1 ...\n",
            " $ EDUCATION                 : int  2 2 2 2 2 1 1 2 3 3 ...\n",
            " $ MARRIAGE                  : int  1 2 2 1 1 2 2 2 1 2 ...\n",
            " $ AGE                       : int  24 26 34 37 57 37 29 23 28 35 ...\n",
            " $ PAY_0                     : int  2 -1 0 0 -1 0 0 0 0 -2 ...\n",
            " $ PAY_2                     : int  2 2 0 0 0 0 0 -1 0 -2 ...\n",
            " $ PAY_3                     : int  -1 0 0 0 -1 0 0 -1 2 -2 ...\n",
            " $ PAY_4                     : int  -1 0 0 0 0 0 0 0 0 -2 ...\n",
            " $ PAY_5                     : int  -2 0 0 0 0 0 0 0 0 -1 ...\n",
            " $ PAY_6                     : int  -2 2 0 0 0 0 0 -1 0 -1 ...\n",
            " $ BILL_AMT1                 : num  3913 2682 29239 46990 8617 ...\n",
            " $ BILL_AMT2                 : num  3102 1725 14027 48233 5670 ...\n",
            " $ BILL_AMT3                 : num  689 2682 13559 49291 35835 ...\n",
            " $ BILL_AMT4                 : num  0 3272 14331 28314 20940 ...\n",
            " $ BILL_AMT5                 : num  0 3455 14948 28959 19146 ...\n",
            " $ BILL_AMT6                 : num  0 3261 15549 29547 19131 ...\n",
            " $ PAY_AMT1                  : num  0 0 1518 2000 2000 ...\n",
            " $ PAY_AMT2                  : num  689 1000 1500 2019 36681 ...\n",
            " $ PAY_AMT3                  : num  0 1000 1000 1200 10000 657 38000 0 432 0 ...\n",
            " $ PAY_AMT4                  : num  0 1000 1000 1100 9000 ...\n",
            " $ PAY_AMT5                  : num  0 0 1000 1069 689 ...\n",
            " $ PAY_AMT6                  : num  0 2000 5000 1000 679 ...\n",
            " $ default.payment.next.month: int  1 1 0 0 0 0 0 0 0 0 ...\n"
          ],
          "name": "stdout"
        },
        {
          "output_type": "display_data",
          "data": {
            "text/plain": [
              "   LIMIT_BAL            SEX          EDUCATION        MARRIAGE    \n",
              " Min.   :  10000   Min.   :1.000   Min.   :0.000   Min.   :0.000  \n",
              " 1st Qu.:  50000   1st Qu.:1.000   1st Qu.:1.000   1st Qu.:1.000  \n",
              " Median : 140000   Median :2.000   Median :2.000   Median :2.000  \n",
              " Mean   : 167484   Mean   :1.604   Mean   :1.853   Mean   :1.552  \n",
              " 3rd Qu.: 240000   3rd Qu.:2.000   3rd Qu.:2.000   3rd Qu.:2.000  \n",
              " Max.   :1000000   Max.   :2.000   Max.   :6.000   Max.   :3.000  \n",
              "      AGE            PAY_0             PAY_2             PAY_3        \n",
              " Min.   :21.00   Min.   :-2.0000   Min.   :-2.0000   Min.   :-2.0000  \n",
              " 1st Qu.:28.00   1st Qu.:-1.0000   1st Qu.:-1.0000   1st Qu.:-1.0000  \n",
              " Median :34.00   Median : 0.0000   Median : 0.0000   Median : 0.0000  \n",
              " Mean   :35.49   Mean   :-0.0167   Mean   :-0.1338   Mean   :-0.1662  \n",
              " 3rd Qu.:41.00   3rd Qu.: 0.0000   3rd Qu.: 0.0000   3rd Qu.: 0.0000  \n",
              " Max.   :79.00   Max.   : 8.0000   Max.   : 8.0000   Max.   : 8.0000  \n",
              "     PAY_4             PAY_5             PAY_6           BILL_AMT1      \n",
              " Min.   :-2.0000   Min.   :-2.0000   Min.   :-2.0000   Min.   :-165580  \n",
              " 1st Qu.:-1.0000   1st Qu.:-1.0000   1st Qu.:-1.0000   1st Qu.:   3559  \n",
              " Median : 0.0000   Median : 0.0000   Median : 0.0000   Median :  22382  \n",
              " Mean   :-0.2207   Mean   :-0.2662   Mean   :-0.2911   Mean   :  51223  \n",
              " 3rd Qu.: 0.0000   3rd Qu.: 0.0000   3rd Qu.: 0.0000   3rd Qu.:  67091  \n",
              " Max.   : 8.0000   Max.   : 8.0000   Max.   : 8.0000   Max.   : 964511  \n",
              "   BILL_AMT2        BILL_AMT3         BILL_AMT4         BILL_AMT5     \n",
              " Min.   :-69777   Min.   :-157264   Min.   :-170000   Min.   :-81334  \n",
              " 1st Qu.:  2985   1st Qu.:   2666   1st Qu.:   2327   1st Qu.:  1763  \n",
              " Median : 21200   Median :  20088   Median :  19052   Median : 18104  \n",
              " Mean   : 49179   Mean   :  47013   Mean   :  43263   Mean   : 40311  \n",
              " 3rd Qu.: 64006   3rd Qu.:  60165   3rd Qu.:  54506   3rd Qu.: 50190  \n",
              " Max.   :983931   Max.   :1664089   Max.   : 891586   Max.   :927171  \n",
              "   BILL_AMT6          PAY_AMT1         PAY_AMT2          PAY_AMT3     \n",
              " Min.   :-339603   Min.   :     0   Min.   :      0   Min.   :     0  \n",
              " 1st Qu.:   1256   1st Qu.:  1000   1st Qu.:    833   1st Qu.:   390  \n",
              " Median :  17071   Median :  2100   Median :   2009   Median :  1800  \n",
              " Mean   :  38872   Mean   :  5664   Mean   :   5921   Mean   :  5226  \n",
              " 3rd Qu.:  49198   3rd Qu.:  5006   3rd Qu.:   5000   3rd Qu.:  4505  \n",
              " Max.   : 961664   Max.   :873552   Max.   :1684259   Max.   :896040  \n",
              "    PAY_AMT4         PAY_AMT5           PAY_AMT6       \n",
              " Min.   :     0   Min.   :     0.0   Min.   :     0.0  \n",
              " 1st Qu.:   296   1st Qu.:   252.5   1st Qu.:   117.8  \n",
              " Median :  1500   Median :  1500.0   Median :  1500.0  \n",
              " Mean   :  4826   Mean   :  4799.4   Mean   :  5215.5  \n",
              " 3rd Qu.:  4013   3rd Qu.:  4031.5   3rd Qu.:  4000.0  \n",
              " Max.   :621000   Max.   :426529.0   Max.   :528666.0  \n",
              " default.payment.next.month\n",
              " Min.   :0.0000            \n",
              " 1st Qu.:0.0000            \n",
              " Median :0.0000            \n",
              " Mean   :0.2212            \n",
              " 3rd Qu.:0.0000            \n",
              " Max.   :1.0000            "
            ]
          },
          "metadata": {
            "tags": []
          }
        }
      ]
    },
    {
      "cell_type": "code",
      "metadata": {
        "id": "zNVt5O9ZNXKL"
      },
      "source": [
        "# We can get rid of the ID\n",
        "df = df[,-1]\n",
        "# Sex, Education, Marriage and Default, and all the PAY_X we can convert to factors\n",
        "summary(df)"
      ],
      "execution_count": null,
      "outputs": []
    },
    {
      "cell_type": "code",
      "metadata": {
        "id": "YOzJxXElNi9o",
        "outputId": "d84c3387-a273-4e5a-b5fa-cfd98da53e97",
        "colab": {
          "base_uri": "https://localhost:8080/",
          "height": 55
        }
      },
      "source": [
        "any(is.na(df))\n",
        "# No NA values\n"
      ],
      "execution_count": 12,
      "outputs": [
        {
          "output_type": "display_data",
          "data": {
            "text/plain": [
              "[1] FALSE"
            ],
            "text/latex": "FALSE",
            "text/markdown": "FALSE",
            "text/html": [
              "FALSE"
            ]
          },
          "metadata": {
            "tags": []
          }
        }
      ]
    },
    {
      "cell_type": "code",
      "metadata": {
        "id": "KEJPkO42Nlxv"
      },
      "source": [
        "# We change the name of the output variable to sth more manageable\n",
        "names(df)[names(df) == \"default.payment.next.month\"] <- \"Default\"\n",
        "# And we make the names of the other ones more readable as well\n",
        "for (i in seq(2,5)){\n",
        "  names(df)[i] <- str_to_title(names(df)[i])\n",
        "}\n"
      ],
      "execution_count": 14,
      "outputs": []
    },
    {
      "cell_type": "code",
      "metadata": {
        "id": "QdnzExx0NrIn",
        "outputId": "e8dcf19b-3e9d-49bb-ab3e-ba0f8cc2121d",
        "colab": {
          "base_uri": "https://localhost:8080/",
          "height": 900
        }
      },
      "source": [
        "# We se that the values for education go from 0 to 6, but\n",
        "# According to data Description Education takes on values 1 to 4,\n",
        "# so entries with 0, 5 and 6 are wrong\n",
        "df$Education[df$Education == 0] # 14 entries like this\n",
        "sum(df$Education[df$Education == 1]) / 1 # 10585\n",
        "sum(df$Education[df$Education == 2]) / 2 # 14030\n",
        "sum(df$Education[df$Education == 3]) / 3 # 4917\n",
        "sum(df$Education[df$Education == 4]) / 4 # 123\n",
        "sum(df$Education[df$Education == 5]) / 5 # 280 entries like this\n",
        "sum(df$Education[df$Education == 6]) / 6 # 51 entries like this\n",
        "# the description of the variables is the following:\n",
        "# 1 = graduate school; 2 = university; 3 = high school; 4 = others\n",
        "# So it would make sense to convert 0, 5 and 6 to 4. They are only 345 of 30000\n",
        "df$Education[df$Education == 0 | df$Education == 5| df$Education == 6] = 4\n",
        "summary(df)"
      ],
      "execution_count": 15,
      "outputs": [
        {
          "output_type": "display_data",
          "data": {
            "text/plain": [
              " [1] 0 0 0 0 0 0 0 0 0 0 0 0 0 0"
            ],
            "text/latex": "\\begin{enumerate*}\n\\item 0\n\\item 0\n\\item 0\n\\item 0\n\\item 0\n\\item 0\n\\item 0\n\\item 0\n\\item 0\n\\item 0\n\\item 0\n\\item 0\n\\item 0\n\\item 0\n\\end{enumerate*}\n",
            "text/markdown": "1. 0\n2. 0\n3. 0\n4. 0\n5. 0\n6. 0\n7. 0\n8. 0\n9. 0\n10. 0\n11. 0\n12. 0\n13. 0\n14. 0\n\n\n",
            "text/html": [
              "<style>\n",
              ".list-inline {list-style: none; margin:0; padding: 0}\n",
              ".list-inline>li {display: inline-block}\n",
              ".list-inline>li:not(:last-child)::after {content: \"\\00b7\"; padding: 0 .5ex}\n",
              "</style>\n",
              "<ol class=list-inline><li>0</li><li>0</li><li>0</li><li>0</li><li>0</li><li>0</li><li>0</li><li>0</li><li>0</li><li>0</li><li>0</li><li>0</li><li>0</li><li>0</li></ol>\n"
            ]
          },
          "metadata": {
            "tags": []
          }
        },
        {
          "output_type": "display_data",
          "data": {
            "text/plain": [
              "[1] 10585"
            ],
            "text/latex": "10585",
            "text/markdown": "10585",
            "text/html": [
              "10585"
            ]
          },
          "metadata": {
            "tags": []
          }
        },
        {
          "output_type": "display_data",
          "data": {
            "text/plain": [
              "[1] 14030"
            ],
            "text/latex": "14030",
            "text/markdown": "14030",
            "text/html": [
              "14030"
            ]
          },
          "metadata": {
            "tags": []
          }
        },
        {
          "output_type": "display_data",
          "data": {
            "text/plain": [
              "[1] 4917"
            ],
            "text/latex": "4917",
            "text/markdown": "4917",
            "text/html": [
              "4917"
            ]
          },
          "metadata": {
            "tags": []
          }
        },
        {
          "output_type": "display_data",
          "data": {
            "text/plain": [
              "[1] 123"
            ],
            "text/latex": "123",
            "text/markdown": "123",
            "text/html": [
              "123"
            ]
          },
          "metadata": {
            "tags": []
          }
        },
        {
          "output_type": "display_data",
          "data": {
            "text/plain": [
              "[1] 280"
            ],
            "text/latex": "280",
            "text/markdown": "280",
            "text/html": [
              "280"
            ]
          },
          "metadata": {
            "tags": []
          }
        },
        {
          "output_type": "display_data",
          "data": {
            "text/plain": [
              "[1] 51"
            ],
            "text/latex": "51",
            "text/markdown": "51",
            "text/html": [
              "51"
            ]
          },
          "metadata": {
            "tags": []
          }
        },
        {
          "output_type": "display_data",
          "data": {
            "text/plain": [
              "   LIMIT_BAL            Sex          Education        Marriage    \n",
              " Min.   :  10000   Min.   :1.000   Min.   :1.000   Min.   :0.000  \n",
              " 1st Qu.:  50000   1st Qu.:1.000   1st Qu.:1.000   1st Qu.:1.000  \n",
              " Median : 140000   Median :2.000   Median :2.000   Median :2.000  \n",
              " Mean   : 167484   Mean   :1.604   Mean   :1.842   Mean   :1.552  \n",
              " 3rd Qu.: 240000   3rd Qu.:2.000   3rd Qu.:2.000   3rd Qu.:2.000  \n",
              " Max.   :1000000   Max.   :2.000   Max.   :4.000   Max.   :3.000  \n",
              "      Age            PAY_0             PAY_2             PAY_3        \n",
              " Min.   :21.00   Min.   :-2.0000   Min.   :-2.0000   Min.   :-2.0000  \n",
              " 1st Qu.:28.00   1st Qu.:-1.0000   1st Qu.:-1.0000   1st Qu.:-1.0000  \n",
              " Median :34.00   Median : 0.0000   Median : 0.0000   Median : 0.0000  \n",
              " Mean   :35.49   Mean   :-0.0167   Mean   :-0.1338   Mean   :-0.1662  \n",
              " 3rd Qu.:41.00   3rd Qu.: 0.0000   3rd Qu.: 0.0000   3rd Qu.: 0.0000  \n",
              " Max.   :79.00   Max.   : 8.0000   Max.   : 8.0000   Max.   : 8.0000  \n",
              "     PAY_4             PAY_5             PAY_6           BILL_AMT1      \n",
              " Min.   :-2.0000   Min.   :-2.0000   Min.   :-2.0000   Min.   :-165580  \n",
              " 1st Qu.:-1.0000   1st Qu.:-1.0000   1st Qu.:-1.0000   1st Qu.:   3559  \n",
              " Median : 0.0000   Median : 0.0000   Median : 0.0000   Median :  22382  \n",
              " Mean   :-0.2207   Mean   :-0.2662   Mean   :-0.2911   Mean   :  51223  \n",
              " 3rd Qu.: 0.0000   3rd Qu.: 0.0000   3rd Qu.: 0.0000   3rd Qu.:  67091  \n",
              " Max.   : 8.0000   Max.   : 8.0000   Max.   : 8.0000   Max.   : 964511  \n",
              "   BILL_AMT2        BILL_AMT3         BILL_AMT4         BILL_AMT5     \n",
              " Min.   :-69777   Min.   :-157264   Min.   :-170000   Min.   :-81334  \n",
              " 1st Qu.:  2985   1st Qu.:   2666   1st Qu.:   2327   1st Qu.:  1763  \n",
              " Median : 21200   Median :  20088   Median :  19052   Median : 18104  \n",
              " Mean   : 49179   Mean   :  47013   Mean   :  43263   Mean   : 40311  \n",
              " 3rd Qu.: 64006   3rd Qu.:  60165   3rd Qu.:  54506   3rd Qu.: 50190  \n",
              " Max.   :983931   Max.   :1664089   Max.   : 891586   Max.   :927171  \n",
              "   BILL_AMT6          PAY_AMT1         PAY_AMT2          PAY_AMT3     \n",
              " Min.   :-339603   Min.   :     0   Min.   :      0   Min.   :     0  \n",
              " 1st Qu.:   1256   1st Qu.:  1000   1st Qu.:    833   1st Qu.:   390  \n",
              " Median :  17071   Median :  2100   Median :   2009   Median :  1800  \n",
              " Mean   :  38872   Mean   :  5664   Mean   :   5921   Mean   :  5226  \n",
              " 3rd Qu.:  49198   3rd Qu.:  5006   3rd Qu.:   5000   3rd Qu.:  4505  \n",
              " Max.   : 961664   Max.   :873552   Max.   :1684259   Max.   :896040  \n",
              "    PAY_AMT4         PAY_AMT5           PAY_AMT6           Default      \n",
              " Min.   :     0   Min.   :     0.0   Min.   :     0.0   Min.   :0.0000  \n",
              " 1st Qu.:   296   1st Qu.:   252.5   1st Qu.:   117.8   1st Qu.:0.0000  \n",
              " Median :  1500   Median :  1500.0   Median :  1500.0   Median :0.0000  \n",
              " Mean   :  4826   Mean   :  4799.4   Mean   :  5215.5   Mean   :0.2212  \n",
              " 3rd Qu.:  4013   3rd Qu.:  4031.5   3rd Qu.:  4000.0   3rd Qu.:0.0000  \n",
              " Max.   :621000   Max.   :426529.0   Max.   :528666.0   Max.   :1.0000  "
            ]
          },
          "metadata": {
            "tags": []
          }
        }
      ]
    },
    {
      "cell_type": "code",
      "metadata": {
        "id": "KxeNNXgaNvqq",
        "outputId": "374b79ea-20eb-461f-96ff-23d924262a6f",
        "colab": {
          "base_uri": "https://localhost:8080/",
          "height": 776
        }
      },
      "source": [
        "# In Marriage we have values [0, 3], when we should have [1, 3]\n",
        "# Marital status (1 = married; 2 = single; 3 = others). We'll convert 0's into 3's\n",
        "df$Marriage[df$Marriage == 0] = 3\n",
        "summary(df)\n"
      ],
      "execution_count": 16,
      "outputs": [
        {
          "output_type": "display_data",
          "data": {
            "text/plain": [
              "   LIMIT_BAL            Sex          Education        Marriage    \n",
              " Min.   :  10000   Min.   :1.000   Min.   :1.000   Min.   :1.000  \n",
              " 1st Qu.:  50000   1st Qu.:1.000   1st Qu.:1.000   1st Qu.:1.000  \n",
              " Median : 140000   Median :2.000   Median :2.000   Median :2.000  \n",
              " Mean   : 167484   Mean   :1.604   Mean   :1.842   Mean   :1.557  \n",
              " 3rd Qu.: 240000   3rd Qu.:2.000   3rd Qu.:2.000   3rd Qu.:2.000  \n",
              " Max.   :1000000   Max.   :2.000   Max.   :4.000   Max.   :3.000  \n",
              "      Age            PAY_0             PAY_2             PAY_3        \n",
              " Min.   :21.00   Min.   :-2.0000   Min.   :-2.0000   Min.   :-2.0000  \n",
              " 1st Qu.:28.00   1st Qu.:-1.0000   1st Qu.:-1.0000   1st Qu.:-1.0000  \n",
              " Median :34.00   Median : 0.0000   Median : 0.0000   Median : 0.0000  \n",
              " Mean   :35.49   Mean   :-0.0167   Mean   :-0.1338   Mean   :-0.1662  \n",
              " 3rd Qu.:41.00   3rd Qu.: 0.0000   3rd Qu.: 0.0000   3rd Qu.: 0.0000  \n",
              " Max.   :79.00   Max.   : 8.0000   Max.   : 8.0000   Max.   : 8.0000  \n",
              "     PAY_4             PAY_5             PAY_6           BILL_AMT1      \n",
              " Min.   :-2.0000   Min.   :-2.0000   Min.   :-2.0000   Min.   :-165580  \n",
              " 1st Qu.:-1.0000   1st Qu.:-1.0000   1st Qu.:-1.0000   1st Qu.:   3559  \n",
              " Median : 0.0000   Median : 0.0000   Median : 0.0000   Median :  22382  \n",
              " Mean   :-0.2207   Mean   :-0.2662   Mean   :-0.2911   Mean   :  51223  \n",
              " 3rd Qu.: 0.0000   3rd Qu.: 0.0000   3rd Qu.: 0.0000   3rd Qu.:  67091  \n",
              " Max.   : 8.0000   Max.   : 8.0000   Max.   : 8.0000   Max.   : 964511  \n",
              "   BILL_AMT2        BILL_AMT3         BILL_AMT4         BILL_AMT5     \n",
              " Min.   :-69777   Min.   :-157264   Min.   :-170000   Min.   :-81334  \n",
              " 1st Qu.:  2985   1st Qu.:   2666   1st Qu.:   2327   1st Qu.:  1763  \n",
              " Median : 21200   Median :  20088   Median :  19052   Median : 18104  \n",
              " Mean   : 49179   Mean   :  47013   Mean   :  43263   Mean   : 40311  \n",
              " 3rd Qu.: 64006   3rd Qu.:  60165   3rd Qu.:  54506   3rd Qu.: 50190  \n",
              " Max.   :983931   Max.   :1664089   Max.   : 891586   Max.   :927171  \n",
              "   BILL_AMT6          PAY_AMT1         PAY_AMT2          PAY_AMT3     \n",
              " Min.   :-339603   Min.   :     0   Min.   :      0   Min.   :     0  \n",
              " 1st Qu.:   1256   1st Qu.:  1000   1st Qu.:    833   1st Qu.:   390  \n",
              " Median :  17071   Median :  2100   Median :   2009   Median :  1800  \n",
              " Mean   :  38872   Mean   :  5664   Mean   :   5921   Mean   :  5226  \n",
              " 3rd Qu.:  49198   3rd Qu.:  5006   3rd Qu.:   5000   3rd Qu.:  4505  \n",
              " Max.   : 961664   Max.   :873552   Max.   :1684259   Max.   :896040  \n",
              "    PAY_AMT4         PAY_AMT5           PAY_AMT6           Default      \n",
              " Min.   :     0   Min.   :     0.0   Min.   :     0.0   Min.   :0.0000  \n",
              " 1st Qu.:   296   1st Qu.:   252.5   1st Qu.:   117.8   1st Qu.:0.0000  \n",
              " Median :  1500   Median :  1500.0   Median :  1500.0   Median :0.0000  \n",
              " Mean   :  4826   Mean   :  4799.4   Mean   :  5215.5   Mean   :0.2212  \n",
              " 3rd Qu.:  4013   3rd Qu.:  4031.5   3rd Qu.:  4000.0   3rd Qu.:0.0000  \n",
              " Max.   :621000   Max.   :426529.0   Max.   :528666.0   Max.   :1.0000  "
            ]
          },
          "metadata": {
            "tags": []
          }
        }
      ]
    },
    {
      "cell_type": "code",
      "metadata": {
        "id": "ySP5B96zOEaP",
        "outputId": "7ecd57d2-0f33-47fa-88c8-917e36fc29c6",
        "colab": {
          "base_uri": "https://localhost:8080/",
          "height": 794
        }
      },
      "source": [
        "# Payment variables should take values -1, 1, 2, 3, ..., 9;\n",
        "# and here they go from -2 to 8.\n",
        "df$PAY_0[df$PAY_0 == -2] \n",
        "df$PAY_0[df$PAY_0 == -1] \n",
        "df$PAY_0[df$PAY_0 == 0] "
      ],
      "execution_count": 17,
      "outputs": [
        {
          "output_type": "display_data",
          "data": {
            "text/plain": [
              "   [1] -2 -2 -2 -2 -2 -2 -2 -2 -2 -2 -2 -2 -2 -2 -2 -2 -2 -2 -2 -2 -2 -2 -2 -2\n",
              "  [25] -2 -2 -2 -2 -2 -2 -2 -2 -2 -2 -2 -2 -2 -2 -2 -2 -2 -2 -2 -2 -2 -2 -2 -2\n",
              "  [49] -2 -2 -2 -2 -2 -2 -2 -2 -2 -2 -2 -2 -2 -2 -2 -2 -2 -2 -2 -2 -2 -2 -2 -2\n",
              "  [73] -2 -2 -2 -2 -2 -2 -2 -2 -2 -2 -2 -2 -2 -2 -2 -2 -2 -2 -2 -2 -2 -2 -2 -2\n",
              "  [97] -2 -2 -2 -2 -2 -2 -2 -2 -2 -2 -2 -2 -2 -2 -2 -2 -2 -2 -2 -2 -2 -2 -2 -2\n",
              " [121] -2 -2 -2 -2 -2 -2 -2 -2 -2 -2 -2 -2 -2 -2 -2 -2 -2 -2 -2 -2 -2 -2 -2 -2\n",
              " [145] -2 -2 -2 -2 -2 -2 -2 -2 -2 -2 -2 -2 -2 -2 -2 -2 -2 -2 -2 -2 -2 -2 -2 -2\n",
              " [169] -2 -2 -2 -2 -2 -2 -2 -2 -2 -2 -2 -2 -2 -2 -2 -2 -2 -2 -2 -2 -2 -2 -2 -2\n",
              " [193] -2 -2 -2 -2 -2 -2 -2 -2 -2 -2 -2 -2 -2 -2 -2 -2 -2 -2 -2 -2 -2 -2 -2 -2\n",
              " [217] -2 -2 -2 -2 -2 -2 -2 -2 -2 -2 -2 -2 -2 -2 -2 -2 -2 -2 -2 -2 -2 -2 -2 -2\n",
              " [241] -2 -2 -2 -2 -2 -2 -2 -2 -2 -2 -2 -2 -2 -2 -2 -2 -2 -2 -2 -2 -2 -2 -2 -2\n",
              " [265] -2 -2 -2 -2 -2 -2 -2 -2 -2 -2 -2 -2 -2 -2 -2 -2 -2 -2 -2 -2 -2 -2 -2 -2\n",
              " [289] -2 -2 -2 -2 -2 -2 -2 -2 -2 -2 -2 -2 -2 -2 -2 -2 -2 -2 -2 -2 -2 -2 -2 -2\n",
              " [313] -2 -2 -2 -2 -2 -2 -2 -2 -2 -2 -2 -2 -2 -2 -2 -2 -2 -2 -2 -2 -2 -2 -2 -2\n",
              " [337] -2 -2 -2 -2 -2 -2 -2 -2 -2 -2 -2 -2 -2 -2 -2 -2 -2 -2 -2 -2 -2 -2 -2 -2\n",
              " [361] -2 -2 -2 -2 -2 -2 -2 -2 -2 -2 -2 -2 -2 -2 -2 -2 -2 -2 -2 -2 -2 -2 -2 -2\n",
              " [385] -2 -2 -2 -2 -2 -2 -2 -2 -2 -2 -2 -2 -2 -2 -2 -2 -2 -2 -2 -2 -2 -2 -2 -2\n",
              " [409] -2 -2 -2 -2 -2 -2 -2 -2 -2 -2 -2 -2 -2 -2 -2 -2 -2 -2 -2 -2 -2 -2 -2 -2\n",
              " [433] -2 -2 -2 -2 -2 -2 -2 -2 -2 -2 -2 -2 -2 -2 -2 -2 -2 -2 -2 -2 -2 -2 -2 -2\n",
              " [457] -2 -2 -2 -2 -2 -2 -2 -2 -2 -2 -2 -2 -2 -2 -2 -2 -2 -2 -2 -2 -2 -2 -2 -2\n",
              " [481] -2 -2 -2 -2 -2 -2 -2 -2 -2 -2 -2 -2 -2 -2 -2 -2 -2 -2 -2 -2 -2 -2 -2 -2\n",
              " [505] -2 -2 -2 -2 -2 -2 -2 -2 -2 -2 -2 -2 -2 -2 -2 -2 -2 -2 -2 -2 -2 -2 -2 -2\n",
              " [529] -2 -2 -2 -2 -2 -2 -2 -2 -2 -2 -2 -2 -2 -2 -2 -2 -2 -2 -2 -2 -2 -2 -2 -2\n",
              " [553] -2 -2 -2 -2 -2 -2 -2 -2 -2 -2 -2 -2 -2 -2 -2 -2 -2 -2 -2 -2 -2 -2 -2 -2\n",
              " [577] -2 -2 -2 -2 -2 -2 -2 -2 -2 -2 -2 -2 -2 -2 -2 -2 -2 -2 -2 -2 -2 -2 -2 -2\n",
              " [601] -2 -2 -2 -2 -2 -2 -2 -2 -2 -2 -2 -2 -2 -2 -2 -2 -2 -2 -2 -2 -2 -2 -2 -2\n",
              " [625] -2 -2 -2 -2 -2 -2 -2 -2 -2 -2 -2 -2 -2 -2 -2 -2 -2 -2 -2 -2 -2 -2 -2 -2\n",
              " [649] -2 -2 -2 -2 -2 -2 -2 -2 -2 -2 -2 -2 -2 -2 -2 -2 -2 -2 -2 -2 -2 -2 -2 -2\n",
              " [673] -2 -2 -2 -2 -2 -2 -2 -2 -2 -2 -2 -2 -2 -2 -2 -2 -2 -2 -2 -2 -2 -2 -2 -2\n",
              " [697] -2 -2 -2 -2 -2 -2 -2 -2 -2 -2 -2 -2 -2 -2 -2 -2 -2 -2 -2 -2 -2 -2 -2 -2\n",
              " [721] -2 -2 -2 -2 -2 -2 -2 -2 -2 -2 -2 -2 -2 -2 -2 -2 -2 -2 -2 -2 -2 -2 -2 -2\n",
              " [745] -2 -2 -2 -2 -2 -2 -2 -2 -2 -2 -2 -2 -2 -2 -2 -2 -2 -2 -2 -2 -2 -2 -2 -2\n",
              " [769] -2 -2 -2 -2 -2 -2 -2 -2 -2 -2 -2 -2 -2 -2 -2 -2 -2 -2 -2 -2 -2 -2 -2 -2\n",
              " [793] -2 -2 -2 -2 -2 -2 -2 -2 -2 -2 -2 -2 -2 -2 -2 -2 -2 -2 -2 -2 -2 -2 -2 -2\n",
              " [817] -2 -2 -2 -2 -2 -2 -2 -2 -2 -2 -2 -2 -2 -2 -2 -2 -2 -2 -2 -2 -2 -2 -2 -2\n",
              " [841] -2 -2 -2 -2 -2 -2 -2 -2 -2 -2 -2 -2 -2 -2 -2 -2 -2 -2 -2 -2 -2 -2 -2 -2\n",
              " [865] -2 -2 -2 -2 -2 -2 -2 -2 -2 -2 -2 -2 -2 -2 -2 -2 -2 -2 -2 -2 -2 -2 -2 -2\n",
              " [889] -2 -2 -2 -2 -2 -2 -2 -2 -2 -2 -2 -2 -2 -2 -2 -2 -2 -2 -2 -2 -2 -2 -2 -2\n",
              " [913] -2 -2 -2 -2 -2 -2 -2 -2 -2 -2 -2 -2 -2 -2 -2 -2 -2 -2 -2 -2 -2 -2 -2 -2\n",
              " [937] -2 -2 -2 -2 -2 -2 -2 -2 -2 -2 -2 -2 -2 -2 -2 -2 -2 -2 -2 -2 -2 -2 -2 -2\n",
              " [961] -2 -2 -2 -2 -2 -2 -2 -2 -2 -2 -2 -2 -2 -2 -2 -2 -2 -2 -2 -2 -2 -2 -2 -2\n",
              " [985] -2 -2 -2 -2 -2 -2 -2 -2 -2 -2 -2 -2 -2 -2 -2 -2 -2 -2 -2 -2 -2 -2 -2 -2\n",
              "[1009] -2 -2 -2 -2 -2 -2 -2 -2 -2 -2 -2 -2 -2 -2 -2 -2 -2 -2 -2 -2 -2 -2 -2 -2\n",
              "[1033] -2 -2 -2 -2 -2 -2 -2 -2 -2 -2 -2 -2 -2 -2 -2 -2 -2 -2 -2 -2 -2 -2 -2 -2\n",
              "[1057] -2 -2 -2 -2 -2 -2 -2 -2 -2 -2 -2 -2 -2 -2 -2 -2 -2 -2 -2 -2 -2 -2 -2 -2\n",
              "[1081] -2 -2 -2 -2 -2 -2 -2 -2 -2 -2 -2 -2 -2 -2 -2 -2 -2 -2 -2 -2 -2 -2 -2 -2\n",
              "[1105] -2 -2 -2 -2 -2 -2 -2 -2 -2 -2 -2 -2 -2 -2 -2 -2 -2 -2 -2 -2 -2 -2 -2 -2\n",
              "[1129] -2 -2 -2 -2 -2 -2 -2 -2 -2 -2 -2 -2 -2 -2 -2 -2 -2 -2 -2 -2 -2 -2 -2 -2\n",
              "[1153] -2 -2 -2 -2 -2 -2 -2 -2 -2 -2 -2 -2 -2 -2 -2 -2 -2 -2 -2 -2 -2 -2 -2 -2\n",
              "[1177] -2 -2 -2 -2 -2 -2 -2 -2 -2 -2 -2 -2 -2 -2 -2 -2 -2 -2 -2 -2 -2 -2 -2 -2\n",
              "[1201] -2 -2 -2 -2 -2 -2 -2 -2 -2 -2 -2 -2 -2 -2 -2 -2 -2 -2 -2 -2 -2 -2 -2 -2\n",
              "[1225] -2 -2 -2 -2 -2 -2 -2 -2 -2 -2 -2 -2 -2 -2 -2 -2 -2 -2 -2 -2 -2 -2 -2 -2\n",
              "[1249] -2 -2 -2 -2 -2 -2 -2 -2 -2 -2 -2 -2 -2 -2 -2 -2 -2 -2 -2 -2 -2 -2 -2 -2\n",
              "[1273] -2 -2 -2 -2 -2 -2 -2 -2 -2 -2 -2 -2 -2 -2 -2 -2 -2 -2 -2 -2 -2 -2 -2 -2\n",
              "[1297] -2 -2 -2 -2 -2 -2 -2 -2 -2 -2 -2 -2 -2 -2 -2 -2 -2 -2 -2 -2 -2 -2 -2 -2\n",
              "[1321] -2 -2 -2 -2 -2 -2 -2 -2 -2 -2 -2 -2 -2 -2 -2 -2 -2 -2 -2 -2 -2 -2 -2 -2\n",
              "[1345] -2 -2 -2 -2 -2 -2 -2 -2 -2 -2 -2 -2 -2 -2 -2 -2 -2 -2 -2 -2 -2 -2 -2 -2\n",
              "[1369] -2 -2 -2 -2 -2 -2 -2 -2 -2 -2 -2 -2 -2 -2 -2 -2 -2 -2 -2 -2 -2 -2 -2 -2\n",
              "[1393] -2 -2 -2 -2 -2 -2 -2 -2 -2 -2 -2 -2 -2 -2 -2 -2 -2 -2 -2 -2 -2 -2 -2 -2\n",
              "[1417] -2 -2 -2 -2 -2 -2 -2 -2 -2 -2 -2 -2 -2 -2 -2 -2 -2 -2 -2 -2 -2 -2 -2 -2\n",
              "[1441] -2 -2 -2 -2 -2 -2 -2 -2 -2 -2 -2 -2 -2 -2 -2 -2 -2 -2 -2 -2 -2 -2 -2 -2\n",
              "[1465] -2 -2 -2 -2 -2 -2 -2 -2 -2 -2 -2 -2 -2 -2 -2 -2 -2 -2 -2 -2 -2 -2 -2 -2\n",
              "[1489] -2 -2 -2 -2 -2 -2 -2 -2 -2 -2 -2 -2 -2 -2 -2 -2 -2 -2 -2 -2 -2 -2 -2 -2\n",
              "[1513] -2 -2 -2 -2 -2 -2 -2 -2 -2 -2 -2 -2 -2 -2 -2 -2 -2 -2 -2 -2 -2 -2 -2 -2\n",
              "[1537] -2 -2 -2 -2 -2 -2 -2 -2 -2 -2 -2 -2 -2 -2 -2 -2 -2 -2 -2 -2 -2 -2 -2 -2\n",
              "[1561] -2 -2 -2 -2 -2 -2 -2 -2 -2 -2 -2 -2 -2 -2 -2 -2 -2 -2 -2 -2 -2 -2 -2 -2\n",
              "[1585] -2 -2 -2 -2 -2 -2 -2 -2 -2 -2 -2 -2 -2 -2 -2 -2 -2 -2 -2 -2 -2 -2 -2 -2\n",
              "[1609] -2 -2 -2 -2 -2 -2 -2 -2 -2 -2 -2 -2 -2 -2 -2 -2 -2 -2 -2 -2 -2 -2 -2 -2\n",
              "[1633] -2 -2 -2 -2 -2 -2 -2 -2 -2 -2 -2 -2 -2 -2 -2 -2 -2 -2 -2 -2 -2 -2 -2 -2\n",
              "[1657] -2 -2 -2 -2 -2 -2 -2 -2 -2 -2 -2 -2 -2 -2 -2 -2 -2 -2 -2 -2 -2 -2 -2 -2\n",
              "[1681] -2 -2 -2 -2 -2 -2 -2 -2 -2 -2 -2 -2 -2 -2 -2 -2 -2 -2 -2 -2 -2 -2 -2 -2\n",
              "[1705] -2 -2 -2 -2 -2 -2 -2 -2 -2 -2 -2 -2 -2 -2 -2 -2 -2 -2 -2 -2 -2 -2 -2 -2\n",
              "[1729] -2 -2 -2 -2 -2 -2 -2 -2 -2 -2 -2 -2 -2 -2 -2 -2 -2 -2 -2 -2 -2 -2 -2 -2\n",
              "[1753] -2 -2 -2 -2 -2 -2 -2 -2 -2 -2 -2 -2 -2 -2 -2 -2 -2 -2 -2 -2 -2 -2 -2 -2\n",
              "[1777] -2 -2 -2 -2 -2 -2 -2 -2 -2 -2 -2 -2 -2 -2 -2 -2 -2 -2 -2 -2 -2 -2 -2 -2\n",
              "[1801] -2 -2 -2 -2 -2 -2 -2 -2 -2 -2 -2 -2 -2 -2 -2 -2 -2 -2 -2 -2 -2 -2 -2 -2\n",
              "[1825] -2 -2 -2 -2 -2 -2 -2 -2 -2 -2 -2 -2 -2 -2 -2 -2 -2 -2 -2 -2 -2 -2 -2 -2\n",
              "[1849] -2 -2 -2 -2 -2 -2 -2 -2 -2 -2 -2 -2 -2 -2 -2 -2 -2 -2 -2 -2 -2 -2 -2 -2\n",
              "[1873] -2 -2 -2 -2 -2 -2 -2 -2 -2 -2 -2 -2 -2 -2 -2 -2 -2 -2 -2 -2 -2 -2 -2 -2\n",
              "[1897] -2 -2 -2 -2 -2 -2 -2 -2 -2 -2 -2 -2 -2 -2 -2 -2 -2 -2 -2 -2 -2 -2 -2 -2\n",
              "[1921] -2 -2 -2 -2 -2 -2 -2 -2 -2 -2 -2 -2 -2 -2 -2 -2 -2 -2 -2 -2 -2 -2 -2 -2\n",
              "[1945] -2 -2 -2 -2 -2 -2 -2 -2 -2 -2 -2 -2 -2 -2 -2 -2 -2 -2 -2 -2 -2 -2 -2 -2\n",
              "[1969] -2 -2 -2 -2 -2 -2 -2 -2 -2 -2 -2 -2 -2 -2 -2 -2 -2 -2 -2 -2 -2 -2 -2 -2\n",
              "[1993] -2 -2 -2 -2 -2 -2 -2 -2 -2 -2 -2 -2 -2 -2 -2 -2 -2 -2 -2 -2 -2 -2 -2 -2\n",
              "[2017] -2 -2 -2 -2 -2 -2 -2 -2 -2 -2 -2 -2 -2 -2 -2 -2 -2 -2 -2 -2 -2 -2 -2 -2\n",
              "[2041] -2 -2 -2 -2 -2 -2 -2 -2 -2 -2 -2 -2 -2 -2 -2 -2 -2 -2 -2 -2 -2 -2 -2 -2\n",
              "[2065] -2 -2 -2 -2 -2 -2 -2 -2 -2 -2 -2 -2 -2 -2 -2 -2 -2 -2 -2 -2 -2 -2 -2 -2\n",
              "[2089] -2 -2 -2 -2 -2 -2 -2 -2 -2 -2 -2 -2 -2 -2 -2 -2 -2 -2 -2 -2 -2 -2 -2 -2\n",
              "[2113] -2 -2 -2 -2 -2 -2 -2 -2 -2 -2 -2 -2 -2 -2 -2 -2 -2 -2 -2 -2 -2 -2 -2 -2\n",
              "[2137] -2 -2 -2 -2 -2 -2 -2 -2 -2 -2 -2 -2 -2 -2 -2 -2 -2 -2 -2 -2 -2 -2 -2 -2\n",
              "[2161] -2 -2 -2 -2 -2 -2 -2 -2 -2 -2 -2 -2 -2 -2 -2 -2 -2 -2 -2 -2 -2 -2 -2 -2\n",
              "[2185] -2 -2 -2 -2 -2 -2 -2 -2 -2 -2 -2 -2 -2 -2 -2 -2 -2 -2 -2 -2 -2 -2 -2 -2\n",
              "[2209] -2 -2 -2 -2 -2 -2 -2 -2 -2 -2 -2 -2 -2 -2 -2 -2 -2 -2 -2 -2 -2 -2 -2 -2\n",
              "[2233] -2 -2 -2 -2 -2 -2 -2 -2 -2 -2 -2 -2 -2 -2 -2 -2 -2 -2 -2 -2 -2 -2 -2 -2\n",
              "[2257] -2 -2 -2 -2 -2 -2 -2 -2 -2 -2 -2 -2 -2 -2 -2 -2 -2 -2 -2 -2 -2 -2 -2 -2\n",
              "[2281] -2 -2 -2 -2 -2 -2 -2 -2 -2 -2 -2 -2 -2 -2 -2 -2 -2 -2 -2 -2 -2 -2 -2 -2\n",
              "[2305] -2 -2 -2 -2 -2 -2 -2 -2 -2 -2 -2 -2 -2 -2 -2 -2 -2 -2 -2 -2 -2 -2 -2 -2\n",
              "[2329] -2 -2 -2 -2 -2 -2 -2 -2 -2 -2 -2 -2 -2 -2 -2 -2 -2 -2 -2 -2 -2 -2 -2 -2\n",
              "[2353] -2 -2 -2 -2 -2 -2 -2 -2 -2 -2 -2 -2 -2 -2 -2 -2 -2 -2 -2 -2 -2 -2 -2 -2\n",
              "[2377] -2 -2 -2 -2 -2 -2 -2 -2 -2 -2 -2 -2 -2 -2 -2 -2 -2 -2 -2 -2 -2 -2 -2 -2\n",
              "[2401] -2 -2 -2 -2 -2 -2 -2 -2 -2 -2 -2 -2 -2 -2 -2 -2 -2 -2 -2 -2 -2 -2 -2 -2\n",
              "[2425] -2 -2 -2 -2 -2 -2 -2 -2 -2 -2 -2 -2 -2 -2 -2 -2 -2 -2 -2 -2 -2 -2 -2 -2\n",
              "[2449] -2 -2 -2 -2 -2 -2 -2 -2 -2 -2 -2 -2 -2 -2 -2 -2 -2 -2 -2 -2 -2 -2 -2 -2\n",
              "[2473] -2 -2 -2 -2 -2 -2 -2 -2 -2 -2 -2 -2 -2 -2 -2 -2 -2 -2 -2 -2 -2 -2 -2 -2\n",
              "[2497] -2 -2 -2 -2 -2 -2 -2 -2 -2 -2 -2 -2 -2 -2 -2 -2 -2 -2 -2 -2 -2 -2 -2 -2\n",
              "[2521] -2 -2 -2 -2 -2 -2 -2 -2 -2 -2 -2 -2 -2 -2 -2 -2 -2 -2 -2 -2 -2 -2 -2 -2\n",
              "[2545] -2 -2 -2 -2 -2 -2 -2 -2 -2 -2 -2 -2 -2 -2 -2 -2 -2 -2 -2 -2 -2 -2 -2 -2\n",
              "[2569] -2 -2 -2 -2 -2 -2 -2 -2 -2 -2 -2 -2 -2 -2 -2 -2 -2 -2 -2 -2 -2 -2 -2 -2\n",
              "[2593] -2 -2 -2 -2 -2 -2 -2 -2 -2 -2 -2 -2 -2 -2 -2 -2 -2 -2 -2 -2 -2 -2 -2 -2\n",
              "[2617] -2 -2 -2 -2 -2 -2 -2 -2 -2 -2 -2 -2 -2 -2 -2 -2 -2 -2 -2 -2 -2 -2 -2 -2\n",
              "[2641] -2 -2 -2 -2 -2 -2 -2 -2 -2 -2 -2 -2 -2 -2 -2 -2 -2 -2 -2 -2 -2 -2 -2 -2\n",
              "[2665] -2 -2 -2 -2 -2 -2 -2 -2 -2 -2 -2 -2 -2 -2 -2 -2 -2 -2 -2 -2 -2 -2 -2 -2\n",
              "[2689] -2 -2 -2 -2 -2 -2 -2 -2 -2 -2 -2 -2 -2 -2 -2 -2 -2 -2 -2 -2 -2 -2 -2 -2\n",
              "[2713] -2 -2 -2 -2 -2 -2 -2 -2 -2 -2 -2 -2 -2 -2 -2 -2 -2 -2 -2 -2 -2 -2 -2 -2\n",
              "[2737] -2 -2 -2 -2 -2 -2 -2 -2 -2 -2 -2 -2 -2 -2 -2 -2 -2 -2 -2 -2 -2 -2 -2"
            ],
            "text/latex": "\\begin{enumerate*}\n\\item -2\n\\item -2\n\\item -2\n\\item -2\n\\item -2\n\\item -2\n\\item -2\n\\item -2\n\\item -2\n\\item -2\n\\item -2\n\\item -2\n\\item -2\n\\item -2\n\\item -2\n\\item -2\n\\item -2\n\\item -2\n\\item -2\n\\item -2\n\\item -2\n\\item -2\n\\item -2\n\\item -2\n\\item -2\n\\item -2\n\\item -2\n\\item -2\n\\item -2\n\\item -2\n\\item -2\n\\item -2\n\\item -2\n\\item -2\n\\item -2\n\\item -2\n\\item -2\n\\item -2\n\\item -2\n\\item -2\n\\item -2\n\\item -2\n\\item -2\n\\item -2\n\\item -2\n\\item -2\n\\item -2\n\\item -2\n\\item -2\n\\item -2\n\\item -2\n\\item -2\n\\item -2\n\\item -2\n\\item -2\n\\item -2\n\\item -2\n\\item -2\n\\item -2\n\\item -2\n\\item -2\n\\item -2\n\\item -2\n\\item -2\n\\item -2\n\\item -2\n\\item -2\n\\item -2\n\\item -2\n\\item -2\n\\item -2\n\\item -2\n\\item -2\n\\item -2\n\\item -2\n\\item -2\n\\item -2\n\\item -2\n\\item -2\n\\item -2\n\\item -2\n\\item -2\n\\item -2\n\\item -2\n\\item -2\n\\item -2\n\\item -2\n\\item -2\n\\item -2\n\\item -2\n\\item -2\n\\item -2\n\\item -2\n\\item -2\n\\item -2\n\\item -2\n\\item -2\n\\item -2\n\\item -2\n\\item -2\n\\item -2\n\\item -2\n\\item -2\n\\item -2\n\\item -2\n\\item -2\n\\item -2\n\\item -2\n\\item -2\n\\item -2\n\\item -2\n\\item -2\n\\item -2\n\\item -2\n\\item -2\n\\item -2\n\\item -2\n\\item -2\n\\item -2\n\\item -2\n\\item -2\n\\item -2\n\\item -2\n\\item -2\n\\item -2\n\\item -2\n\\item -2\n\\item -2\n\\item -2\n\\item -2\n\\item -2\n\\item -2\n\\item -2\n\\item -2\n\\item -2\n\\item -2\n\\item -2\n\\item -2\n\\item -2\n\\item -2\n\\item -2\n\\item -2\n\\item -2\n\\item -2\n\\item -2\n\\item -2\n\\item -2\n\\item -2\n\\item -2\n\\item -2\n\\item -2\n\\item -2\n\\item -2\n\\item -2\n\\item -2\n\\item -2\n\\item -2\n\\item -2\n\\item -2\n\\item -2\n\\item -2\n\\item -2\n\\item -2\n\\item -2\n\\item -2\n\\item -2\n\\item -2\n\\item -2\n\\item -2\n\\item -2\n\\item -2\n\\item -2\n\\item -2\n\\item -2\n\\item -2\n\\item -2\n\\item -2\n\\item -2\n\\item -2\n\\item -2\n\\item -2\n\\item -2\n\\item -2\n\\item -2\n\\item -2\n\\item -2\n\\item -2\n\\item -2\n\\item -2\n\\item -2\n\\item -2\n\\item -2\n\\item -2\n\\item -2\n\\item -2\n\\item -2\n\\item -2\n\\item -2\n\\item -2\n\\item -2\n\\item ⋯\n\\item -2\n\\item -2\n\\item -2\n\\item -2\n\\item -2\n\\item -2\n\\item -2\n\\item -2\n\\item -2\n\\item -2\n\\item -2\n\\item -2\n\\item -2\n\\item -2\n\\item -2\n\\item -2\n\\item -2\n\\item -2\n\\item -2\n\\item -2\n\\item -2\n\\item -2\n\\item -2\n\\item -2\n\\item -2\n\\item -2\n\\item -2\n\\item -2\n\\item -2\n\\item -2\n\\item -2\n\\item -2\n\\item -2\n\\item -2\n\\item -2\n\\item -2\n\\item -2\n\\item -2\n\\item -2\n\\item -2\n\\item -2\n\\item -2\n\\item -2\n\\item -2\n\\item -2\n\\item -2\n\\item -2\n\\item -2\n\\item -2\n\\item -2\n\\item -2\n\\item -2\n\\item -2\n\\item -2\n\\item -2\n\\item -2\n\\item -2\n\\item -2\n\\item -2\n\\item -2\n\\item -2\n\\item -2\n\\item -2\n\\item -2\n\\item -2\n\\item -2\n\\item -2\n\\item -2\n\\item -2\n\\item -2\n\\item -2\n\\item -2\n\\item -2\n\\item -2\n\\item -2\n\\item -2\n\\item -2\n\\item -2\n\\item -2\n\\item -2\n\\item -2\n\\item -2\n\\item -2\n\\item -2\n\\item -2\n\\item -2\n\\item -2\n\\item -2\n\\item -2\n\\item -2\n\\item -2\n\\item -2\n\\item -2\n\\item -2\n\\item -2\n\\item -2\n\\item -2\n\\item -2\n\\item -2\n\\item -2\n\\item -2\n\\item -2\n\\item -2\n\\item -2\n\\item -2\n\\item -2\n\\item -2\n\\item -2\n\\item -2\n\\item -2\n\\item -2\n\\item -2\n\\item -2\n\\item -2\n\\item -2\n\\item -2\n\\item -2\n\\item -2\n\\item -2\n\\item -2\n\\item -2\n\\item -2\n\\item -2\n\\item -2\n\\item -2\n\\item -2\n\\item -2\n\\item -2\n\\item -2\n\\item -2\n\\item -2\n\\item -2\n\\item -2\n\\item -2\n\\item -2\n\\item -2\n\\item -2\n\\item -2\n\\item -2\n\\item -2\n\\item -2\n\\item -2\n\\item -2\n\\item -2\n\\item -2\n\\item -2\n\\item -2\n\\item -2\n\\item -2\n\\item -2\n\\item -2\n\\item -2\n\\item -2\n\\item -2\n\\item -2\n\\item -2\n\\item -2\n\\item -2\n\\item -2\n\\item -2\n\\item -2\n\\item -2\n\\item -2\n\\item -2\n\\item -2\n\\item -2\n\\item -2\n\\item -2\n\\item -2\n\\item -2\n\\item -2\n\\item -2\n\\item -2\n\\item -2\n\\item -2\n\\item -2\n\\item -2\n\\item -2\n\\item -2\n\\item -2\n\\item -2\n\\item -2\n\\item -2\n\\item -2\n\\item -2\n\\item -2\n\\item -2\n\\item -2\n\\item -2\n\\item -2\n\\item -2\n\\item -2\n\\item -2\n\\item -2\n\\item -2\n\\item -2\n\\item -2\n\\item -2\n\\item -2\n\\item -2\n\\end{enumerate*}\n",
            "text/markdown": "1. -2\n2. -2\n3. -2\n4. -2\n5. -2\n6. -2\n7. -2\n8. -2\n9. -2\n10. -2\n11. -2\n12. -2\n13. -2\n14. -2\n15. -2\n16. -2\n17. -2\n18. -2\n19. -2\n20. -2\n21. -2\n22. -2\n23. -2\n24. -2\n25. -2\n26. -2\n27. -2\n28. -2\n29. -2\n30. -2\n31. -2\n32. -2\n33. -2\n34. -2\n35. -2\n36. -2\n37. -2\n38. -2\n39. -2\n40. -2\n41. -2\n42. -2\n43. -2\n44. -2\n45. -2\n46. -2\n47. -2\n48. -2\n49. -2\n50. -2\n51. -2\n52. -2\n53. -2\n54. -2\n55. -2\n56. -2\n57. -2\n58. -2\n59. -2\n60. -2\n61. -2\n62. -2\n63. -2\n64. -2\n65. -2\n66. -2\n67. -2\n68. -2\n69. -2\n70. -2\n71. -2\n72. -2\n73. -2\n74. -2\n75. -2\n76. -2\n77. -2\n78. -2\n79. -2\n80. -2\n81. -2\n82. -2\n83. -2\n84. -2\n85. -2\n86. -2\n87. -2\n88. -2\n89. -2\n90. -2\n91. -2\n92. -2\n93. -2\n94. -2\n95. -2\n96. -2\n97. -2\n98. -2\n99. -2\n100. -2\n101. -2\n102. -2\n103. -2\n104. -2\n105. -2\n106. -2\n107. -2\n108. -2\n109. -2\n110. -2\n111. -2\n112. -2\n113. -2\n114. -2\n115. -2\n116. -2\n117. -2\n118. -2\n119. -2\n120. -2\n121. -2\n122. -2\n123. -2\n124. -2\n125. -2\n126. -2\n127. -2\n128. -2\n129. -2\n130. -2\n131. -2\n132. -2\n133. -2\n134. -2\n135. -2\n136. -2\n137. -2\n138. -2\n139. -2\n140. -2\n141. -2\n142. -2\n143. -2\n144. -2\n145. -2\n146. -2\n147. -2\n148. -2\n149. -2\n150. -2\n151. -2\n152. -2\n153. -2\n154. -2\n155. -2\n156. -2\n157. -2\n158. -2\n159. -2\n160. -2\n161. -2\n162. -2\n163. -2\n164. -2\n165. -2\n166. -2\n167. -2\n168. -2\n169. -2\n170. -2\n171. -2\n172. -2\n173. -2\n174. -2\n175. -2\n176. -2\n177. -2\n178. -2\n179. -2\n180. -2\n181. -2\n182. -2\n183. -2\n184. -2\n185. -2\n186. -2\n187. -2\n188. -2\n189. -2\n190. -2\n191. -2\n192. -2\n193. -2\n194. -2\n195. -2\n196. -2\n197. -2\n198. -2\n199. -2\n200. -2\n201. ⋯\n202. -2\n203. -2\n204. -2\n205. -2\n206. -2\n207. -2\n208. -2\n209. -2\n210. -2\n211. -2\n212. -2\n213. -2\n214. -2\n215. -2\n216. -2\n217. -2\n218. -2\n219. -2\n220. -2\n221. -2\n222. -2\n223. -2\n224. -2\n225. -2\n226. -2\n227. -2\n228. -2\n229. -2\n230. -2\n231. -2\n232. -2\n233. -2\n234. -2\n235. -2\n236. -2\n237. -2\n238. -2\n239. -2\n240. -2\n241. -2\n242. -2\n243. -2\n244. -2\n245. -2\n246. -2\n247. -2\n248. -2\n249. -2\n250. -2\n251. -2\n252. -2\n253. -2\n254. -2\n255. -2\n256. -2\n257. -2\n258. -2\n259. -2\n260. -2\n261. -2\n262. -2\n263. -2\n264. -2\n265. -2\n266. -2\n267. -2\n268. -2\n269. -2\n270. -2\n271. -2\n272. -2\n273. -2\n274. -2\n275. -2\n276. -2\n277. -2\n278. -2\n279. -2\n280. -2\n281. -2\n282. -2\n283. -2\n284. -2\n285. -2\n286. -2\n287. -2\n288. -2\n289. -2\n290. -2\n291. -2\n292. -2\n293. -2\n294. -2\n295. -2\n296. -2\n297. -2\n298. -2\n299. -2\n300. -2\n301. -2\n302. -2\n303. -2\n304. -2\n305. -2\n306. -2\n307. -2\n308. -2\n309. -2\n310. -2\n311. -2\n312. -2\n313. -2\n314. -2\n315. -2\n316. -2\n317. -2\n318. -2\n319. -2\n320. -2\n321. -2\n322. -2\n323. -2\n324. -2\n325. -2\n326. -2\n327. -2\n328. -2\n329. -2\n330. -2\n331. -2\n332. -2\n333. -2\n334. -2\n335. -2\n336. -2\n337. -2\n338. -2\n339. -2\n340. -2\n341. -2\n342. -2\n343. -2\n344. -2\n345. -2\n346. -2\n347. -2\n348. -2\n349. -2\n350. -2\n351. -2\n352. -2\n353. -2\n354. -2\n355. -2\n356. -2\n357. -2\n358. -2\n359. -2\n360. -2\n361. -2\n362. -2\n363. -2\n364. -2\n365. -2\n366. -2\n367. -2\n368. -2\n369. -2\n370. -2\n371. -2\n372. -2\n373. -2\n374. -2\n375. -2\n376. -2\n377. -2\n378. -2\n379. -2\n380. -2\n381. -2\n382. -2\n383. -2\n384. -2\n385. -2\n386. -2\n387. -2\n388. -2\n389. -2\n390. -2\n391. -2\n392. -2\n393. -2\n394. -2\n395. -2\n396. -2\n397. -2\n398. -2\n399. -2\n400. -2\n401. -2\n\n\n",
            "text/html": [
              "<style>\n",
              ".list-inline {list-style: none; margin:0; padding: 0}\n",
              ".list-inline>li {display: inline-block}\n",
              ".list-inline>li:not(:last-child)::after {content: \"\\00b7\"; padding: 0 .5ex}\n",
              "</style>\n",
              "<ol class=list-inline><li>-2</li><li>-2</li><li>-2</li><li>-2</li><li>-2</li><li>-2</li><li>-2</li><li>-2</li><li>-2</li><li>-2</li><li>-2</li><li>-2</li><li>-2</li><li>-2</li><li>-2</li><li>-2</li><li>-2</li><li>-2</li><li>-2</li><li>-2</li><li>-2</li><li>-2</li><li>-2</li><li>-2</li><li>-2</li><li>-2</li><li>-2</li><li>-2</li><li>-2</li><li>-2</li><li>-2</li><li>-2</li><li>-2</li><li>-2</li><li>-2</li><li>-2</li><li>-2</li><li>-2</li><li>-2</li><li>-2</li><li>-2</li><li>-2</li><li>-2</li><li>-2</li><li>-2</li><li>-2</li><li>-2</li><li>-2</li><li>-2</li><li>-2</li><li>-2</li><li>-2</li><li>-2</li><li>-2</li><li>-2</li><li>-2</li><li>-2</li><li>-2</li><li>-2</li><li>-2</li><li>-2</li><li>-2</li><li>-2</li><li>-2</li><li>-2</li><li>-2</li><li>-2</li><li>-2</li><li>-2</li><li>-2</li><li>-2</li><li>-2</li><li>-2</li><li>-2</li><li>-2</li><li>-2</li><li>-2</li><li>-2</li><li>-2</li><li>-2</li><li>-2</li><li>-2</li><li>-2</li><li>-2</li><li>-2</li><li>-2</li><li>-2</li><li>-2</li><li>-2</li><li>-2</li><li>-2</li><li>-2</li><li>-2</li><li>-2</li><li>-2</li><li>-2</li><li>-2</li><li>-2</li><li>-2</li><li>-2</li><li>-2</li><li>-2</li><li>-2</li><li>-2</li><li>-2</li><li>-2</li><li>-2</li><li>-2</li><li>-2</li><li>-2</li><li>-2</li><li>-2</li><li>-2</li><li>-2</li><li>-2</li><li>-2</li><li>-2</li><li>-2</li><li>-2</li><li>-2</li><li>-2</li><li>-2</li><li>-2</li><li>-2</li><li>-2</li><li>-2</li><li>-2</li><li>-2</li><li>-2</li><li>-2</li><li>-2</li><li>-2</li><li>-2</li><li>-2</li><li>-2</li><li>-2</li><li>-2</li><li>-2</li><li>-2</li><li>-2</li><li>-2</li><li>-2</li><li>-2</li><li>-2</li><li>-2</li><li>-2</li><li>-2</li><li>-2</li><li>-2</li><li>-2</li><li>-2</li><li>-2</li><li>-2</li><li>-2</li><li>-2</li><li>-2</li><li>-2</li><li>-2</li><li>-2</li><li>-2</li><li>-2</li><li>-2</li><li>-2</li><li>-2</li><li>-2</li><li>-2</li><li>-2</li><li>-2</li><li>-2</li><li>-2</li><li>-2</li><li>-2</li><li>-2</li><li>-2</li><li>-2</li><li>-2</li><li>-2</li><li>-2</li><li>-2</li><li>-2</li><li>-2</li><li>-2</li><li>-2</li><li>-2</li><li>-2</li><li>-2</li><li>-2</li><li>-2</li><li>-2</li><li>-2</li><li>-2</li><li>-2</li><li>-2</li><li>-2</li><li>-2</li><li>-2</li><li>-2</li><li>-2</li><li>-2</li><li>-2</li><li>⋯</li><li>-2</li><li>-2</li><li>-2</li><li>-2</li><li>-2</li><li>-2</li><li>-2</li><li>-2</li><li>-2</li><li>-2</li><li>-2</li><li>-2</li><li>-2</li><li>-2</li><li>-2</li><li>-2</li><li>-2</li><li>-2</li><li>-2</li><li>-2</li><li>-2</li><li>-2</li><li>-2</li><li>-2</li><li>-2</li><li>-2</li><li>-2</li><li>-2</li><li>-2</li><li>-2</li><li>-2</li><li>-2</li><li>-2</li><li>-2</li><li>-2</li><li>-2</li><li>-2</li><li>-2</li><li>-2</li><li>-2</li><li>-2</li><li>-2</li><li>-2</li><li>-2</li><li>-2</li><li>-2</li><li>-2</li><li>-2</li><li>-2</li><li>-2</li><li>-2</li><li>-2</li><li>-2</li><li>-2</li><li>-2</li><li>-2</li><li>-2</li><li>-2</li><li>-2</li><li>-2</li><li>-2</li><li>-2</li><li>-2</li><li>-2</li><li>-2</li><li>-2</li><li>-2</li><li>-2</li><li>-2</li><li>-2</li><li>-2</li><li>-2</li><li>-2</li><li>-2</li><li>-2</li><li>-2</li><li>-2</li><li>-2</li><li>-2</li><li>-2</li><li>-2</li><li>-2</li><li>-2</li><li>-2</li><li>-2</li><li>-2</li><li>-2</li><li>-2</li><li>-2</li><li>-2</li><li>-2</li><li>-2</li><li>-2</li><li>-2</li><li>-2</li><li>-2</li><li>-2</li><li>-2</li><li>-2</li><li>-2</li><li>-2</li><li>-2</li><li>-2</li><li>-2</li><li>-2</li><li>-2</li><li>-2</li><li>-2</li><li>-2</li><li>-2</li><li>-2</li><li>-2</li><li>-2</li><li>-2</li><li>-2</li><li>-2</li><li>-2</li><li>-2</li><li>-2</li><li>-2</li><li>-2</li><li>-2</li><li>-2</li><li>-2</li><li>-2</li><li>-2</li><li>-2</li><li>-2</li><li>-2</li><li>-2</li><li>-2</li><li>-2</li><li>-2</li><li>-2</li><li>-2</li><li>-2</li><li>-2</li><li>-2</li><li>-2</li><li>-2</li><li>-2</li><li>-2</li><li>-2</li><li>-2</li><li>-2</li><li>-2</li><li>-2</li><li>-2</li><li>-2</li><li>-2</li><li>-2</li><li>-2</li><li>-2</li><li>-2</li><li>-2</li><li>-2</li><li>-2</li><li>-2</li><li>-2</li><li>-2</li><li>-2</li><li>-2</li><li>-2</li><li>-2</li><li>-2</li><li>-2</li><li>-2</li><li>-2</li><li>-2</li><li>-2</li><li>-2</li><li>-2</li><li>-2</li><li>-2</li><li>-2</li><li>-2</li><li>-2</li><li>-2</li><li>-2</li><li>-2</li><li>-2</li><li>-2</li><li>-2</li><li>-2</li><li>-2</li><li>-2</li><li>-2</li><li>-2</li><li>-2</li><li>-2</li><li>-2</li><li>-2</li><li>-2</li><li>-2</li><li>-2</li><li>-2</li><li>-2</li><li>-2</li><li>-2</li><li>-2</li></ol>\n"
            ]
          },
          "metadata": {
            "tags": []
          }
        },
        {
          "output_type": "display_data",
          "data": {
            "text/plain": [
              "   [1] -1 -1 -1 -1 -1 -1 -1 -1 -1 -1 -1 -1 -1 -1 -1 -1 -1 -1 -1 -1 -1 -1 -1 -1\n",
              "  [25] -1 -1 -1 -1 -1 -1 -1 -1 -1 -1 -1 -1 -1 -1 -1 -1 -1 -1 -1 -1 -1 -1 -1 -1\n",
              "  [49] -1 -1 -1 -1 -1 -1 -1 -1 -1 -1 -1 -1 -1 -1 -1 -1 -1 -1 -1 -1 -1 -1 -1 -1\n",
              "  [73] -1 -1 -1 -1 -1 -1 -1 -1 -1 -1 -1 -1 -1 -1 -1 -1 -1 -1 -1 -1 -1 -1 -1 -1\n",
              "  [97] -1 -1 -1 -1 -1 -1 -1 -1 -1 -1 -1 -1 -1 -1 -1 -1 -1 -1 -1 -1 -1 -1 -1 -1\n",
              " [121] -1 -1 -1 -1 -1 -1 -1 -1 -1 -1 -1 -1 -1 -1 -1 -1 -1 -1 -1 -1 -1 -1 -1 -1\n",
              " [145] -1 -1 -1 -1 -1 -1 -1 -1 -1 -1 -1 -1 -1 -1 -1 -1 -1 -1 -1 -1 -1 -1 -1 -1\n",
              " [169] -1 -1 -1 -1 -1 -1 -1 -1 -1 -1 -1 -1 -1 -1 -1 -1 -1 -1 -1 -1 -1 -1 -1 -1\n",
              " [193] -1 -1 -1 -1 -1 -1 -1 -1 -1 -1 -1 -1 -1 -1 -1 -1 -1 -1 -1 -1 -1 -1 -1 -1\n",
              " [217] -1 -1 -1 -1 -1 -1 -1 -1 -1 -1 -1 -1 -1 -1 -1 -1 -1 -1 -1 -1 -1 -1 -1 -1\n",
              " [241] -1 -1 -1 -1 -1 -1 -1 -1 -1 -1 -1 -1 -1 -1 -1 -1 -1 -1 -1 -1 -1 -1 -1 -1\n",
              " [265] -1 -1 -1 -1 -1 -1 -1 -1 -1 -1 -1 -1 -1 -1 -1 -1 -1 -1 -1 -1 -1 -1 -1 -1\n",
              " [289] -1 -1 -1 -1 -1 -1 -1 -1 -1 -1 -1 -1 -1 -1 -1 -1 -1 -1 -1 -1 -1 -1 -1 -1\n",
              " [313] -1 -1 -1 -1 -1 -1 -1 -1 -1 -1 -1 -1 -1 -1 -1 -1 -1 -1 -1 -1 -1 -1 -1 -1\n",
              " [337] -1 -1 -1 -1 -1 -1 -1 -1 -1 -1 -1 -1 -1 -1 -1 -1 -1 -1 -1 -1 -1 -1 -1 -1\n",
              " [361] -1 -1 -1 -1 -1 -1 -1 -1 -1 -1 -1 -1 -1 -1 -1 -1 -1 -1 -1 -1 -1 -1 -1 -1\n",
              " [385] -1 -1 -1 -1 -1 -1 -1 -1 -1 -1 -1 -1 -1 -1 -1 -1 -1 -1 -1 -1 -1 -1 -1 -1\n",
              " [409] -1 -1 -1 -1 -1 -1 -1 -1 -1 -1 -1 -1 -1 -1 -1 -1 -1 -1 -1 -1 -1 -1 -1 -1\n",
              " [433] -1 -1 -1 -1 -1 -1 -1 -1 -1 -1 -1 -1 -1 -1 -1 -1 -1 -1 -1 -1 -1 -1 -1 -1\n",
              " [457] -1 -1 -1 -1 -1 -1 -1 -1 -1 -1 -1 -1 -1 -1 -1 -1 -1 -1 -1 -1 -1 -1 -1 -1\n",
              " [481] -1 -1 -1 -1 -1 -1 -1 -1 -1 -1 -1 -1 -1 -1 -1 -1 -1 -1 -1 -1 -1 -1 -1 -1\n",
              " [505] -1 -1 -1 -1 -1 -1 -1 -1 -1 -1 -1 -1 -1 -1 -1 -1 -1 -1 -1 -1 -1 -1 -1 -1\n",
              " [529] -1 -1 -1 -1 -1 -1 -1 -1 -1 -1 -1 -1 -1 -1 -1 -1 -1 -1 -1 -1 -1 -1 -1 -1\n",
              " [553] -1 -1 -1 -1 -1 -1 -1 -1 -1 -1 -1 -1 -1 -1 -1 -1 -1 -1 -1 -1 -1 -1 -1 -1\n",
              " [577] -1 -1 -1 -1 -1 -1 -1 -1 -1 -1 -1 -1 -1 -1 -1 -1 -1 -1 -1 -1 -1 -1 -1 -1\n",
              " [601] -1 -1 -1 -1 -1 -1 -1 -1 -1 -1 -1 -1 -1 -1 -1 -1 -1 -1 -1 -1 -1 -1 -1 -1\n",
              " [625] -1 -1 -1 -1 -1 -1 -1 -1 -1 -1 -1 -1 -1 -1 -1 -1 -1 -1 -1 -1 -1 -1 -1 -1\n",
              " [649] -1 -1 -1 -1 -1 -1 -1 -1 -1 -1 -1 -1 -1 -1 -1 -1 -1 -1 -1 -1 -1 -1 -1 -1\n",
              " [673] -1 -1 -1 -1 -1 -1 -1 -1 -1 -1 -1 -1 -1 -1 -1 -1 -1 -1 -1 -1 -1 -1 -1 -1\n",
              " [697] -1 -1 -1 -1 -1 -1 -1 -1 -1 -1 -1 -1 -1 -1 -1 -1 -1 -1 -1 -1 -1 -1 -1 -1\n",
              " [721] -1 -1 -1 -1 -1 -1 -1 -1 -1 -1 -1 -1 -1 -1 -1 -1 -1 -1 -1 -1 -1 -1 -1 -1\n",
              " [745] -1 -1 -1 -1 -1 -1 -1 -1 -1 -1 -1 -1 -1 -1 -1 -1 -1 -1 -1 -1 -1 -1 -1 -1\n",
              " [769] -1 -1 -1 -1 -1 -1 -1 -1 -1 -1 -1 -1 -1 -1 -1 -1 -1 -1 -1 -1 -1 -1 -1 -1\n",
              " [793] -1 -1 -1 -1 -1 -1 -1 -1 -1 -1 -1 -1 -1 -1 -1 -1 -1 -1 -1 -1 -1 -1 -1 -1\n",
              " [817] -1 -1 -1 -1 -1 -1 -1 -1 -1 -1 -1 -1 -1 -1 -1 -1 -1 -1 -1 -1 -1 -1 -1 -1\n",
              " [841] -1 -1 -1 -1 -1 -1 -1 -1 -1 -1 -1 -1 -1 -1 -1 -1 -1 -1 -1 -1 -1 -1 -1 -1\n",
              " [865] -1 -1 -1 -1 -1 -1 -1 -1 -1 -1 -1 -1 -1 -1 -1 -1 -1 -1 -1 -1 -1 -1 -1 -1\n",
              " [889] -1 -1 -1 -1 -1 -1 -1 -1 -1 -1 -1 -1 -1 -1 -1 -1 -1 -1 -1 -1 -1 -1 -1 -1\n",
              " [913] -1 -1 -1 -1 -1 -1 -1 -1 -1 -1 -1 -1 -1 -1 -1 -1 -1 -1 -1 -1 -1 -1 -1 -1\n",
              " [937] -1 -1 -1 -1 -1 -1 -1 -1 -1 -1 -1 -1 -1 -1 -1 -1 -1 -1 -1 -1 -1 -1 -1 -1\n",
              " [961] -1 -1 -1 -1 -1 -1 -1 -1 -1 -1 -1 -1 -1 -1 -1 -1 -1 -1 -1 -1 -1 -1 -1 -1\n",
              " [985] -1 -1 -1 -1 -1 -1 -1 -1 -1 -1 -1 -1 -1 -1 -1 -1 -1 -1 -1 -1 -1 -1 -1 -1\n",
              "[1009] -1 -1 -1 -1 -1 -1 -1 -1 -1 -1 -1 -1 -1 -1 -1 -1 -1 -1 -1 -1 -1 -1 -1 -1\n",
              "[1033] -1 -1 -1 -1 -1 -1 -1 -1 -1 -1 -1 -1 -1 -1 -1 -1 -1 -1 -1 -1 -1 -1 -1 -1\n",
              "[1057] -1 -1 -1 -1 -1 -1 -1 -1 -1 -1 -1 -1 -1 -1 -1 -1 -1 -1 -1 -1 -1 -1 -1 -1\n",
              "[1081] -1 -1 -1 -1 -1 -1 -1 -1 -1 -1 -1 -1 -1 -1 -1 -1 -1 -1 -1 -1 -1 -1 -1 -1\n",
              "[1105] -1 -1 -1 -1 -1 -1 -1 -1 -1 -1 -1 -1 -1 -1 -1 -1 -1 -1 -1 -1 -1 -1 -1 -1\n",
              "[1129] -1 -1 -1 -1 -1 -1 -1 -1 -1 -1 -1 -1 -1 -1 -1 -1 -1 -1 -1 -1 -1 -1 -1 -1\n",
              "[1153] -1 -1 -1 -1 -1 -1 -1 -1 -1 -1 -1 -1 -1 -1 -1 -1 -1 -1 -1 -1 -1 -1 -1 -1\n",
              "[1177] -1 -1 -1 -1 -1 -1 -1 -1 -1 -1 -1 -1 -1 -1 -1 -1 -1 -1 -1 -1 -1 -1 -1 -1\n",
              "[1201] -1 -1 -1 -1 -1 -1 -1 -1 -1 -1 -1 -1 -1 -1 -1 -1 -1 -1 -1 -1 -1 -1 -1 -1\n",
              "[1225] -1 -1 -1 -1 -1 -1 -1 -1 -1 -1 -1 -1 -1 -1 -1 -1 -1 -1 -1 -1 -1 -1 -1 -1\n",
              "[1249] -1 -1 -1 -1 -1 -1 -1 -1 -1 -1 -1 -1 -1 -1 -1 -1 -1 -1 -1 -1 -1 -1 -1 -1\n",
              "[1273] -1 -1 -1 -1 -1 -1 -1 -1 -1 -1 -1 -1 -1 -1 -1 -1 -1 -1 -1 -1 -1 -1 -1 -1\n",
              "[1297] -1 -1 -1 -1 -1 -1 -1 -1 -1 -1 -1 -1 -1 -1 -1 -1 -1 -1 -1 -1 -1 -1 -1 -1\n",
              "[1321] -1 -1 -1 -1 -1 -1 -1 -1 -1 -1 -1 -1 -1 -1 -1 -1 -1 -1 -1 -1 -1 -1 -1 -1\n",
              "[1345] -1 -1 -1 -1 -1 -1 -1 -1 -1 -1 -1 -1 -1 -1 -1 -1 -1 -1 -1 -1 -1 -1 -1 -1\n",
              "[1369] -1 -1 -1 -1 -1 -1 -1 -1 -1 -1 -1 -1 -1 -1 -1 -1 -1 -1 -1 -1 -1 -1 -1 -1\n",
              "[1393] -1 -1 -1 -1 -1 -1 -1 -1 -1 -1 -1 -1 -1 -1 -1 -1 -1 -1 -1 -1 -1 -1 -1 -1\n",
              "[1417] -1 -1 -1 -1 -1 -1 -1 -1 -1 -1 -1 -1 -1 -1 -1 -1 -1 -1 -1 -1 -1 -1 -1 -1\n",
              "[1441] -1 -1 -1 -1 -1 -1 -1 -1 -1 -1 -1 -1 -1 -1 -1 -1 -1 -1 -1 -1 -1 -1 -1 -1\n",
              "[1465] -1 -1 -1 -1 -1 -1 -1 -1 -1 -1 -1 -1 -1 -1 -1 -1 -1 -1 -1 -1 -1 -1 -1 -1\n",
              "[1489] -1 -1 -1 -1 -1 -1 -1 -1 -1 -1 -1 -1 -1 -1 -1 -1 -1 -1 -1 -1 -1 -1 -1 -1\n",
              "[1513] -1 -1 -1 -1 -1 -1 -1 -1 -1 -1 -1 -1 -1 -1 -1 -1 -1 -1 -1 -1 -1 -1 -1 -1\n",
              "[1537] -1 -1 -1 -1 -1 -1 -1 -1 -1 -1 -1 -1 -1 -1 -1 -1 -1 -1 -1 -1 -1 -1 -1 -1\n",
              "[1561] -1 -1 -1 -1 -1 -1 -1 -1 -1 -1 -1 -1 -1 -1 -1 -1 -1 -1 -1 -1 -1 -1 -1 -1\n",
              "[1585] -1 -1 -1 -1 -1 -1 -1 -1 -1 -1 -1 -1 -1 -1 -1 -1 -1 -1 -1 -1 -1 -1 -1 -1\n",
              "[1609] -1 -1 -1 -1 -1 -1 -1 -1 -1 -1 -1 -1 -1 -1 -1 -1 -1 -1 -1 -1 -1 -1 -1 -1\n",
              "[1633] -1 -1 -1 -1 -1 -1 -1 -1 -1 -1 -1 -1 -1 -1 -1 -1 -1 -1 -1 -1 -1 -1 -1 -1\n",
              "[1657] -1 -1 -1 -1 -1 -1 -1 -1 -1 -1 -1 -1 -1 -1 -1 -1 -1 -1 -1 -1 -1 -1 -1 -1\n",
              "[1681] -1 -1 -1 -1 -1 -1 -1 -1 -1 -1 -1 -1 -1 -1 -1 -1 -1 -1 -1 -1 -1 -1 -1 -1\n",
              "[1705] -1 -1 -1 -1 -1 -1 -1 -1 -1 -1 -1 -1 -1 -1 -1 -1 -1 -1 -1 -1 -1 -1 -1 -1\n",
              "[1729] -1 -1 -1 -1 -1 -1 -1 -1 -1 -1 -1 -1 -1 -1 -1 -1 -1 -1 -1 -1 -1 -1 -1 -1\n",
              "[1753] -1 -1 -1 -1 -1 -1 -1 -1 -1 -1 -1 -1 -1 -1 -1 -1 -1 -1 -1 -1 -1 -1 -1 -1\n",
              "[1777] -1 -1 -1 -1 -1 -1 -1 -1 -1 -1 -1 -1 -1 -1 -1 -1 -1 -1 -1 -1 -1 -1 -1 -1\n",
              "[1801] -1 -1 -1 -1 -1 -1 -1 -1 -1 -1 -1 -1 -1 -1 -1 -1 -1 -1 -1 -1 -1 -1 -1 -1\n",
              "[1825] -1 -1 -1 -1 -1 -1 -1 -1 -1 -1 -1 -1 -1 -1 -1 -1 -1 -1 -1 -1 -1 -1 -1 -1\n",
              "[1849] -1 -1 -1 -1 -1 -1 -1 -1 -1 -1 -1 -1 -1 -1 -1 -1 -1 -1 -1 -1 -1 -1 -1 -1\n",
              "[1873] -1 -1 -1 -1 -1 -1 -1 -1 -1 -1 -1 -1 -1 -1 -1 -1 -1 -1 -1 -1 -1 -1 -1 -1\n",
              "[1897] -1 -1 -1 -1 -1 -1 -1 -1 -1 -1 -1 -1 -1 -1 -1 -1 -1 -1 -1 -1 -1 -1 -1 -1\n",
              "[1921] -1 -1 -1 -1 -1 -1 -1 -1 -1 -1 -1 -1 -1 -1 -1 -1 -1 -1 -1 -1 -1 -1 -1 -1\n",
              "[1945] -1 -1 -1 -1 -1 -1 -1 -1 -1 -1 -1 -1 -1 -1 -1 -1 -1 -1 -1 -1 -1 -1 -1 -1\n",
              "[1969] -1 -1 -1 -1 -1 -1 -1 -1 -1 -1 -1 -1 -1 -1 -1 -1 -1 -1 -1 -1 -1 -1 -1 -1\n",
              "[1993] -1 -1 -1 -1 -1 -1 -1 -1 -1 -1 -1 -1 -1 -1 -1 -1 -1 -1 -1 -1 -1 -1 -1 -1\n",
              "[2017] -1 -1 -1 -1 -1 -1 -1 -1 -1 -1 -1 -1 -1 -1 -1 -1 -1 -1 -1 -1 -1 -1 -1 -1\n",
              "[2041] -1 -1 -1 -1 -1 -1 -1 -1 -1 -1 -1 -1 -1 -1 -1 -1 -1 -1 -1 -1 -1 -1 -1 -1\n",
              "[2065] -1 -1 -1 -1 -1 -1 -1 -1 -1 -1 -1 -1 -1 -1 -1 -1 -1 -1 -1 -1 -1 -1 -1 -1\n",
              "[2089] -1 -1 -1 -1 -1 -1 -1 -1 -1 -1 -1 -1 -1 -1 -1 -1 -1 -1 -1 -1 -1 -1 -1 -1\n",
              "[2113] -1 -1 -1 -1 -1 -1 -1 -1 -1 -1 -1 -1 -1 -1 -1 -1 -1 -1 -1 -1 -1 -1 -1 -1\n",
              "[2137] -1 -1 -1 -1 -1 -1 -1 -1 -1 -1 -1 -1 -1 -1 -1 -1 -1 -1 -1 -1 -1 -1 -1 -1\n",
              "[2161] -1 -1 -1 -1 -1 -1 -1 -1 -1 -1 -1 -1 -1 -1 -1 -1 -1 -1 -1 -1 -1 -1 -1 -1\n",
              "[2185] -1 -1 -1 -1 -1 -1 -1 -1 -1 -1 -1 -1 -1 -1 -1 -1 -1 -1 -1 -1 -1 -1 -1 -1\n",
              "[2209] -1 -1 -1 -1 -1 -1 -1 -1 -1 -1 -1 -1 -1 -1 -1 -1 -1 -1 -1 -1 -1 -1 -1 -1\n",
              "[2233] -1 -1 -1 -1 -1 -1 -1 -1 -1 -1 -1 -1 -1 -1 -1 -1 -1 -1 -1 -1 -1 -1 -1 -1\n",
              "[2257] -1 -1 -1 -1 -1 -1 -1 -1 -1 -1 -1 -1 -1 -1 -1 -1 -1 -1 -1 -1 -1 -1 -1 -1\n",
              "[2281] -1 -1 -1 -1 -1 -1 -1 -1 -1 -1 -1 -1 -1 -1 -1 -1 -1 -1 -1 -1 -1 -1 -1 -1\n",
              "[2305] -1 -1 -1 -1 -1 -1 -1 -1 -1 -1 -1 -1 -1 -1 -1 -1 -1 -1 -1 -1 -1 -1 -1 -1\n",
              "[2329] -1 -1 -1 -1 -1 -1 -1 -1 -1 -1 -1 -1 -1 -1 -1 -1 -1 -1 -1 -1 -1 -1 -1 -1\n",
              "[2353] -1 -1 -1 -1 -1 -1 -1 -1 -1 -1 -1 -1 -1 -1 -1 -1 -1 -1 -1 -1 -1 -1 -1 -1\n",
              "[2377] -1 -1 -1 -1 -1 -1 -1 -1 -1 -1 -1 -1 -1 -1 -1 -1 -1 -1 -1 -1 -1 -1 -1 -1\n",
              "[2401] -1 -1 -1 -1 -1 -1 -1 -1 -1 -1 -1 -1 -1 -1 -1 -1 -1 -1 -1 -1 -1 -1 -1 -1\n",
              "[2425] -1 -1 -1 -1 -1 -1 -1 -1 -1 -1 -1 -1 -1 -1 -1 -1 -1 -1 -1 -1 -1 -1 -1 -1\n",
              "[2449] -1 -1 -1 -1 -1 -1 -1 -1 -1 -1 -1 -1 -1 -1 -1 -1 -1 -1 -1 -1 -1 -1 -1 -1\n",
              "[2473] -1 -1 -1 -1 -1 -1 -1 -1 -1 -1 -1 -1 -1 -1 -1 -1 -1 -1 -1 -1 -1 -1 -1 -1\n",
              "[2497] -1 -1 -1 -1 -1 -1 -1 -1 -1 -1 -1 -1 -1 -1 -1 -1 -1 -1 -1 -1 -1 -1 -1 -1\n",
              "[2521] -1 -1 -1 -1 -1 -1 -1 -1 -1 -1 -1 -1 -1 -1 -1 -1 -1 -1 -1 -1 -1 -1 -1 -1\n",
              "[2545] -1 -1 -1 -1 -1 -1 -1 -1 -1 -1 -1 -1 -1 -1 -1 -1 -1 -1 -1 -1 -1 -1 -1 -1\n",
              "[2569] -1 -1 -1 -1 -1 -1 -1 -1 -1 -1 -1 -1 -1 -1 -1 -1 -1 -1 -1 -1 -1 -1 -1 -1\n",
              "[2593] -1 -1 -1 -1 -1 -1 -1 -1 -1 -1 -1 -1 -1 -1 -1 -1 -1 -1 -1 -1 -1 -1 -1 -1\n",
              "[2617] -1 -1 -1 -1 -1 -1 -1 -1 -1 -1 -1 -1 -1 -1 -1 -1 -1 -1 -1 -1 -1 -1 -1 -1\n",
              "[2641] -1 -1 -1 -1 -1 -1 -1 -1 -1 -1 -1 -1 -1 -1 -1 -1 -1 -1 -1 -1 -1 -1 -1 -1\n",
              "[2665] -1 -1 -1 -1 -1 -1 -1 -1 -1 -1 -1 -1 -1 -1 -1 -1 -1 -1 -1 -1 -1 -1 -1 -1\n",
              "[2689] -1 -1 -1 -1 -1 -1 -1 -1 -1 -1 -1 -1 -1 -1 -1 -1 -1 -1 -1 -1 -1 -1 -1 -1\n",
              "[2713] -1 -1 -1 -1 -1 -1 -1 -1 -1 -1 -1 -1 -1 -1 -1 -1 -1 -1 -1 -1 -1 -1 -1 -1\n",
              "[2737] -1 -1 -1 -1 -1 -1 -1 -1 -1 -1 -1 -1 -1 -1 -1 -1 -1 -1 -1 -1 -1 -1 -1 -1\n",
              "[2761] -1 -1 -1 -1 -1 -1 -1 -1 -1 -1 -1 -1 -1 -1 -1 -1 -1 -1 -1 -1 -1 -1 -1 -1\n",
              "[2785] -1 -1 -1 -1 -1 -1 -1 -1 -1 -1 -1 -1 -1 -1 -1 -1 -1 -1 -1 -1 -1 -1 -1 -1\n",
              "[2809] -1 -1 -1 -1 -1 -1 -1 -1 -1 -1 -1 -1 -1 -1 -1 -1 -1 -1 -1 -1 -1 -1 -1 -1\n",
              "[2833] -1 -1 -1 -1 -1 -1 -1 -1 -1 -1 -1 -1 -1 -1 -1 -1 -1 -1 -1 -1 -1 -1 -1 -1\n",
              "[2857] -1 -1 -1 -1 -1 -1 -1 -1 -1 -1 -1 -1 -1 -1 -1 -1 -1 -1 -1 -1 -1 -1 -1 -1\n",
              "[2881] -1 -1 -1 -1 -1 -1 -1 -1 -1 -1 -1 -1 -1 -1 -1 -1 -1 -1 -1 -1 -1 -1 -1 -1\n",
              "[2905] -1 -1 -1 -1 -1 -1 -1 -1 -1 -1 -1 -1 -1 -1 -1 -1 -1 -1 -1 -1 -1 -1 -1 -1\n",
              "[2929] -1 -1 -1 -1 -1 -1 -1 -1 -1 -1 -1 -1 -1 -1 -1 -1 -1 -1 -1 -1 -1 -1 -1 -1\n",
              "[2953] -1 -1 -1 -1 -1 -1 -1 -1 -1 -1 -1 -1 -1 -1 -1 -1 -1 -1 -1 -1 -1 -1 -1 -1\n",
              "[2977] -1 -1 -1 -1 -1 -1 -1 -1 -1 -1 -1 -1 -1 -1 -1 -1 -1 -1 -1 -1 -1 -1 -1 -1\n",
              "[3001] -1 -1 -1 -1 -1 -1 -1 -1 -1 -1 -1 -1 -1 -1 -1 -1 -1 -1 -1 -1 -1 -1 -1 -1\n",
              "[3025] -1 -1 -1 -1 -1 -1 -1 -1 -1 -1 -1 -1 -1 -1 -1 -1 -1 -1 -1 -1 -1 -1 -1 -1\n",
              "[3049] -1 -1 -1 -1 -1 -1 -1 -1 -1 -1 -1 -1 -1 -1 -1 -1 -1 -1 -1 -1 -1 -1 -1 -1\n",
              "[3073] -1 -1 -1 -1 -1 -1 -1 -1 -1 -1 -1 -1 -1 -1 -1 -1 -1 -1 -1 -1 -1 -1 -1 -1\n",
              "[3097] -1 -1 -1 -1 -1 -1 -1 -1 -1 -1 -1 -1 -1 -1 -1 -1 -1 -1 -1 -1 -1 -1 -1 -1\n",
              "[3121] -1 -1 -1 -1 -1 -1 -1 -1 -1 -1 -1 -1 -1 -1 -1 -1 -1 -1 -1 -1 -1 -1 -1 -1\n",
              "[3145] -1 -1 -1 -1 -1 -1 -1 -1 -1 -1 -1 -1 -1 -1 -1 -1 -1 -1 -1 -1 -1 -1 -1 -1\n",
              "[3169] -1 -1 -1 -1 -1 -1 -1 -1 -1 -1 -1 -1 -1 -1 -1 -1 -1 -1 -1 -1 -1 -1 -1 -1\n",
              "[3193] -1 -1 -1 -1 -1 -1 -1 -1 -1 -1 -1 -1 -1 -1 -1 -1 -1 -1 -1 -1 -1 -1 -1 -1\n",
              "[3217] -1 -1 -1 -1 -1 -1 -1 -1 -1 -1 -1 -1 -1 -1 -1 -1 -1 -1 -1 -1 -1 -1 -1 -1\n",
              "[3241] -1 -1 -1 -1 -1 -1 -1 -1 -1 -1 -1 -1 -1 -1 -1 -1 -1 -1 -1 -1 -1 -1 -1 -1\n",
              "[3265] -1 -1 -1 -1 -1 -1 -1 -1 -1 -1 -1 -1 -1 -1 -1 -1 -1 -1 -1 -1 -1 -1 -1 -1\n",
              "[3289] -1 -1 -1 -1 -1 -1 -1 -1 -1 -1 -1 -1 -1 -1 -1 -1 -1 -1 -1 -1 -1 -1 -1 -1\n",
              "[3313] -1 -1 -1 -1 -1 -1 -1 -1 -1 -1 -1 -1 -1 -1 -1 -1 -1 -1 -1 -1 -1 -1 -1 -1\n",
              "[3337] -1 -1 -1 -1 -1 -1 -1 -1 -1 -1 -1 -1 -1 -1 -1 -1 -1 -1 -1 -1 -1 -1 -1 -1\n",
              "[3361] -1 -1 -1 -1 -1 -1 -1 -1 -1 -1 -1 -1 -1 -1 -1 -1 -1 -1 -1 -1 -1 -1 -1 -1\n",
              "[3385] -1 -1 -1 -1 -1 -1 -1 -1 -1 -1 -1 -1 -1 -1 -1 -1 -1 -1 -1 -1 -1 -1 -1 -1\n",
              "[3409] -1 -1 -1 -1 -1 -1 -1 -1 -1 -1 -1 -1 -1 -1 -1 -1 -1 -1 -1 -1 -1 -1 -1 -1\n",
              "[3433] -1 -1 -1 -1 -1 -1 -1 -1 -1 -1 -1 -1 -1 -1 -1 -1 -1 -1 -1 -1 -1 -1 -1 -1\n",
              "[3457] -1 -1 -1 -1 -1 -1 -1 -1 -1 -1 -1 -1 -1 -1 -1 -1 -1 -1 -1 -1 -1 -1 -1 -1\n",
              "[3481] -1 -1 -1 -1 -1 -1 -1 -1 -1 -1 -1 -1 -1 -1 -1 -1 -1 -1 -1 -1 -1 -1 -1 -1\n",
              "[3505] -1 -1 -1 -1 -1 -1 -1 -1 -1 -1 -1 -1 -1 -1 -1 -1 -1 -1 -1 -1 -1 -1 -1 -1\n",
              "[3529] -1 -1 -1 -1 -1 -1 -1 -1 -1 -1 -1 -1 -1 -1 -1 -1 -1 -1 -1 -1 -1 -1 -1 -1\n",
              "[3553] -1 -1 -1 -1 -1 -1 -1 -1 -1 -1 -1 -1 -1 -1 -1 -1 -1 -1 -1 -1 -1 -1 -1 -1\n",
              "[3577] -1 -1 -1 -1 -1 -1 -1 -1 -1 -1 -1 -1 -1 -1 -1 -1 -1 -1 -1 -1 -1 -1 -1 -1\n",
              "[3601] -1 -1 -1 -1 -1 -1 -1 -1 -1 -1 -1 -1 -1 -1 -1 -1 -1 -1 -1 -1 -1 -1 -1 -1\n",
              "[3625] -1 -1 -1 -1 -1 -1 -1 -1 -1 -1 -1 -1 -1 -1 -1 -1 -1 -1 -1 -1 -1 -1 -1 -1\n",
              "[3649] -1 -1 -1 -1 -1 -1 -1 -1 -1 -1 -1 -1 -1 -1 -1 -1 -1 -1 -1 -1 -1 -1 -1 -1\n",
              "[3673] -1 -1 -1 -1 -1 -1 -1 -1 -1 -1 -1 -1 -1 -1 -1 -1 -1 -1 -1 -1 -1 -1 -1 -1\n",
              "[3697] -1 -1 -1 -1 -1 -1 -1 -1 -1 -1 -1 -1 -1 -1 -1 -1 -1 -1 -1 -1 -1 -1 -1 -1\n",
              "[3721] -1 -1 -1 -1 -1 -1 -1 -1 -1 -1 -1 -1 -1 -1 -1 -1 -1 -1 -1 -1 -1 -1 -1 -1\n",
              "[3745] -1 -1 -1 -1 -1 -1 -1 -1 -1 -1 -1 -1 -1 -1 -1 -1 -1 -1 -1 -1 -1 -1 -1 -1\n",
              "[3769] -1 -1 -1 -1 -1 -1 -1 -1 -1 -1 -1 -1 -1 -1 -1 -1 -1 -1 -1 -1 -1 -1 -1 -1\n",
              "[3793] -1 -1 -1 -1 -1 -1 -1 -1 -1 -1 -1 -1 -1 -1 -1 -1 -1 -1 -1 -1 -1 -1 -1 -1\n",
              "[3817] -1 -1 -1 -1 -1 -1 -1 -1 -1 -1 -1 -1 -1 -1 -1 -1 -1 -1 -1 -1 -1 -1 -1 -1\n",
              "[3841] -1 -1 -1 -1 -1 -1 -1 -1 -1 -1 -1 -1 -1 -1 -1 -1 -1 -1 -1 -1 -1 -1 -1 -1\n",
              "[3865] -1 -1 -1 -1 -1 -1 -1 -1 -1 -1 -1 -1 -1 -1 -1 -1 -1 -1 -1 -1 -1 -1 -1 -1\n",
              "[3889] -1 -1 -1 -1 -1 -1 -1 -1 -1 -1 -1 -1 -1 -1 -1 -1 -1 -1 -1 -1 -1 -1 -1 -1\n",
              "[3913] -1 -1 -1 -1 -1 -1 -1 -1 -1 -1 -1 -1 -1 -1 -1 -1 -1 -1 -1 -1 -1 -1 -1 -1\n",
              "[3937] -1 -1 -1 -1 -1 -1 -1 -1 -1 -1 -1 -1 -1 -1 -1 -1 -1 -1 -1 -1 -1 -1 -1 -1\n",
              "[3961] -1 -1 -1 -1 -1 -1 -1 -1 -1 -1 -1 -1 -1 -1 -1 -1 -1 -1 -1 -1 -1 -1 -1 -1\n",
              "[3985] -1 -1 -1 -1 -1 -1 -1 -1 -1 -1 -1 -1 -1 -1 -1 -1 -1 -1 -1 -1 -1 -1 -1 -1\n",
              "[4009] -1 -1 -1 -1 -1 -1 -1 -1 -1 -1 -1 -1 -1 -1 -1 -1 -1 -1 -1 -1 -1 -1 -1 -1\n",
              "[4033] -1 -1 -1 -1 -1 -1 -1 -1 -1 -1 -1 -1 -1 -1 -1 -1 -1 -1 -1 -1 -1 -1 -1 -1\n",
              "[4057] -1 -1 -1 -1 -1 -1 -1 -1 -1 -1 -1 -1 -1 -1 -1 -1 -1 -1 -1 -1 -1 -1 -1 -1\n",
              "[4081] -1 -1 -1 -1 -1 -1 -1 -1 -1 -1 -1 -1 -1 -1 -1 -1 -1 -1 -1 -1 -1 -1 -1 -1\n",
              "[4105] -1 -1 -1 -1 -1 -1 -1 -1 -1 -1 -1 -1 -1 -1 -1 -1 -1 -1 -1 -1 -1 -1 -1 -1\n",
              "[4129] -1 -1 -1 -1 -1 -1 -1 -1 -1 -1 -1 -1 -1 -1 -1 -1 -1 -1 -1 -1 -1 -1 -1 -1\n",
              "[4153] -1 -1 -1 -1 -1 -1 -1 -1 -1 -1 -1 -1 -1 -1 -1 -1 -1 -1 -1 -1 -1 -1 -1 -1\n",
              "[4177] -1 -1 -1 -1 -1 -1 -1 -1 -1 -1 -1 -1 -1 -1 -1 -1 -1 -1 -1 -1 -1 -1 -1 -1\n",
              "[4201] -1 -1 -1 -1 -1 -1 -1 -1 -1 -1 -1 -1 -1 -1 -1 -1 -1 -1 -1 -1 -1 -1 -1 -1\n",
              "[4225] -1 -1 -1 -1 -1 -1 -1 -1 -1 -1 -1 -1 -1 -1 -1 -1 -1 -1 -1 -1 -1 -1 -1 -1\n",
              "[4249] -1 -1 -1 -1 -1 -1 -1 -1 -1 -1 -1 -1 -1 -1 -1 -1 -1 -1 -1 -1 -1 -1 -1 -1\n",
              "[4273] -1 -1 -1 -1 -1 -1 -1 -1 -1 -1 -1 -1 -1 -1 -1 -1 -1 -1 -1 -1 -1 -1 -1 -1\n",
              "[4297] -1 -1 -1 -1 -1 -1 -1 -1 -1 -1 -1 -1 -1 -1 -1 -1 -1 -1 -1 -1 -1 -1 -1 -1\n",
              "[4321] -1 -1 -1 -1 -1 -1 -1 -1 -1 -1 -1 -1 -1 -1 -1 -1 -1 -1 -1 -1 -1 -1 -1 -1\n",
              "[4345] -1 -1 -1 -1 -1 -1 -1 -1 -1 -1 -1 -1 -1 -1 -1 -1 -1 -1 -1 -1 -1 -1 -1 -1\n",
              "[4369] -1 -1 -1 -1 -1 -1 -1 -1 -1 -1 -1 -1 -1 -1 -1 -1 -1 -1 -1 -1 -1 -1 -1 -1\n",
              "[4393] -1 -1 -1 -1 -1 -1 -1 -1 -1 -1 -1 -1 -1 -1 -1 -1 -1 -1 -1 -1 -1 -1 -1 -1\n",
              "[4417] -1 -1 -1 -1 -1 -1 -1 -1 -1 -1 -1 -1 -1 -1 -1 -1 -1 -1 -1 -1 -1 -1 -1 -1\n",
              "[4441] -1 -1 -1 -1 -1 -1 -1 -1 -1 -1 -1 -1 -1 -1 -1 -1 -1 -1 -1 -1 -1 -1 -1 -1\n",
              "[4465] -1 -1 -1 -1 -1 -1 -1 -1 -1 -1 -1 -1 -1 -1 -1 -1 -1 -1 -1 -1 -1 -1 -1 -1\n",
              "[4489] -1 -1 -1 -1 -1 -1 -1 -1 -1 -1 -1 -1 -1 -1 -1 -1 -1 -1 -1 -1 -1 -1 -1 -1\n",
              "[4513] -1 -1 -1 -1 -1 -1 -1 -1 -1 -1 -1 -1 -1 -1 -1 -1 -1 -1 -1 -1 -1 -1 -1 -1\n",
              "[4537] -1 -1 -1 -1 -1 -1 -1 -1 -1 -1 -1 -1 -1 -1 -1 -1 -1 -1 -1 -1 -1 -1 -1 -1\n",
              "[4561] -1 -1 -1 -1 -1 -1 -1 -1 -1 -1 -1 -1 -1 -1 -1 -1 -1 -1 -1 -1 -1 -1 -1 -1\n",
              "[4585] -1 -1 -1 -1 -1 -1 -1 -1 -1 -1 -1 -1 -1 -1 -1 -1 -1 -1 -1 -1 -1 -1 -1 -1\n",
              "[4609] -1 -1 -1 -1 -1 -1 -1 -1 -1 -1 -1 -1 -1 -1 -1 -1 -1 -1 -1 -1 -1 -1 -1 -1\n",
              "[4633] -1 -1 -1 -1 -1 -1 -1 -1 -1 -1 -1 -1 -1 -1 -1 -1 -1 -1 -1 -1 -1 -1 -1 -1\n",
              "[4657] -1 -1 -1 -1 -1 -1 -1 -1 -1 -1 -1 -1 -1 -1 -1 -1 -1 -1 -1 -1 -1 -1 -1 -1\n",
              "[4681] -1 -1 -1 -1 -1 -1 -1 -1 -1 -1 -1 -1 -1 -1 -1 -1 -1 -1 -1 -1 -1 -1 -1 -1\n",
              "[4705] -1 -1 -1 -1 -1 -1 -1 -1 -1 -1 -1 -1 -1 -1 -1 -1 -1 -1 -1 -1 -1 -1 -1 -1\n",
              "[4729] -1 -1 -1 -1 -1 -1 -1 -1 -1 -1 -1 -1 -1 -1 -1 -1 -1 -1 -1 -1 -1 -1 -1 -1\n",
              "[4753] -1 -1 -1 -1 -1 -1 -1 -1 -1 -1 -1 -1 -1 -1 -1 -1 -1 -1 -1 -1 -1 -1 -1 -1\n",
              "[4777] -1 -1 -1 -1 -1 -1 -1 -1 -1 -1 -1 -1 -1 -1 -1 -1 -1 -1 -1 -1 -1 -1 -1 -1\n",
              "[4801] -1 -1 -1 -1 -1 -1 -1 -1 -1 -1 -1 -1 -1 -1 -1 -1 -1 -1 -1 -1 -1 -1 -1 -1\n",
              "[4825] -1 -1 -1 -1 -1 -1 -1 -1 -1 -1 -1 -1 -1 -1 -1 -1 -1 -1 -1 -1 -1 -1 -1 -1\n",
              "[4849] -1 -1 -1 -1 -1 -1 -1 -1 -1 -1 -1 -1 -1 -1 -1 -1 -1 -1 -1 -1 -1 -1 -1 -1\n",
              "[4873] -1 -1 -1 -1 -1 -1 -1 -1 -1 -1 -1 -1 -1 -1 -1 -1 -1 -1 -1 -1 -1 -1 -1 -1\n",
              "[4897] -1 -1 -1 -1 -1 -1 -1 -1 -1 -1 -1 -1 -1 -1 -1 -1 -1 -1 -1 -1 -1 -1 -1 -1\n",
              "[4921] -1 -1 -1 -1 -1 -1 -1 -1 -1 -1 -1 -1 -1 -1 -1 -1 -1 -1 -1 -1 -1 -1 -1 -1\n",
              "[4945] -1 -1 -1 -1 -1 -1 -1 -1 -1 -1 -1 -1 -1 -1 -1 -1 -1 -1 -1 -1 -1 -1 -1 -1\n",
              "[4969] -1 -1 -1 -1 -1 -1 -1 -1 -1 -1 -1 -1 -1 -1 -1 -1 -1 -1 -1 -1 -1 -1 -1 -1\n",
              "[4993] -1 -1 -1 -1 -1 -1 -1 -1 -1 -1 -1 -1 -1 -1 -1 -1 -1 -1 -1 -1 -1 -1 -1 -1\n",
              "[5017] -1 -1 -1 -1 -1 -1 -1 -1 -1 -1 -1 -1 -1 -1 -1 -1 -1 -1 -1 -1 -1 -1 -1 -1\n",
              "[5041] -1 -1 -1 -1 -1 -1 -1 -1 -1 -1 -1 -1 -1 -1 -1 -1 -1 -1 -1 -1 -1 -1 -1 -1\n",
              "[5065] -1 -1 -1 -1 -1 -1 -1 -1 -1 -1 -1 -1 -1 -1 -1 -1 -1 -1 -1 -1 -1 -1 -1 -1\n",
              "[5089] -1 -1 -1 -1 -1 -1 -1 -1 -1 -1 -1 -1 -1 -1 -1 -1 -1 -1 -1 -1 -1 -1 -1 -1\n",
              "[5113] -1 -1 -1 -1 -1 -1 -1 -1 -1 -1 -1 -1 -1 -1 -1 -1 -1 -1 -1 -1 -1 -1 -1 -1\n",
              "[5137] -1 -1 -1 -1 -1 -1 -1 -1 -1 -1 -1 -1 -1 -1 -1 -1 -1 -1 -1 -1 -1 -1 -1 -1\n",
              "[5161] -1 -1 -1 -1 -1 -1 -1 -1 -1 -1 -1 -1 -1 -1 -1 -1 -1 -1 -1 -1 -1 -1 -1 -1\n",
              "[5185] -1 -1 -1 -1 -1 -1 -1 -1 -1 -1 -1 -1 -1 -1 -1 -1 -1 -1 -1 -1 -1 -1 -1 -1\n",
              "[5209] -1 -1 -1 -1 -1 -1 -1 -1 -1 -1 -1 -1 -1 -1 -1 -1 -1 -1 -1 -1 -1 -1 -1 -1\n",
              "[5233] -1 -1 -1 -1 -1 -1 -1 -1 -1 -1 -1 -1 -1 -1 -1 -1 -1 -1 -1 -1 -1 -1 -1 -1\n",
              "[5257] -1 -1 -1 -1 -1 -1 -1 -1 -1 -1 -1 -1 -1 -1 -1 -1 -1 -1 -1 -1 -1 -1 -1 -1\n",
              "[5281] -1 -1 -1 -1 -1 -1 -1 -1 -1 -1 -1 -1 -1 -1 -1 -1 -1 -1 -1 -1 -1 -1 -1 -1\n",
              "[5305] -1 -1 -1 -1 -1 -1 -1 -1 -1 -1 -1 -1 -1 -1 -1 -1 -1 -1 -1 -1 -1 -1 -1 -1\n",
              "[5329] -1 -1 -1 -1 -1 -1 -1 -1 -1 -1 -1 -1 -1 -1 -1 -1 -1 -1 -1 -1 -1 -1 -1 -1\n",
              "[5353] -1 -1 -1 -1 -1 -1 -1 -1 -1 -1 -1 -1 -1 -1 -1 -1 -1 -1 -1 -1 -1 -1 -1 -1\n",
              "[5377] -1 -1 -1 -1 -1 -1 -1 -1 -1 -1 -1 -1 -1 -1 -1 -1 -1 -1 -1 -1 -1 -1 -1 -1\n",
              "[5401] -1 -1 -1 -1 -1 -1 -1 -1 -1 -1 -1 -1 -1 -1 -1 -1 -1 -1 -1 -1 -1 -1 -1 -1\n",
              "[5425] -1 -1 -1 -1 -1 -1 -1 -1 -1 -1 -1 -1 -1 -1 -1 -1 -1 -1 -1 -1 -1 -1 -1 -1\n",
              "[5449] -1 -1 -1 -1 -1 -1 -1 -1 -1 -1 -1 -1 -1 -1 -1 -1 -1 -1 -1 -1 -1 -1 -1 -1\n",
              "[5473] -1 -1 -1 -1 -1 -1 -1 -1 -1 -1 -1 -1 -1 -1 -1 -1 -1 -1 -1 -1 -1 -1 -1 -1\n",
              "[5497] -1 -1 -1 -1 -1 -1 -1 -1 -1 -1 -1 -1 -1 -1 -1 -1 -1 -1 -1 -1 -1 -1 -1 -1\n",
              "[5521] -1 -1 -1 -1 -1 -1 -1 -1 -1 -1 -1 -1 -1 -1 -1 -1 -1 -1 -1 -1 -1 -1 -1 -1\n",
              "[5545] -1 -1 -1 -1 -1 -1 -1 -1 -1 -1 -1 -1 -1 -1 -1 -1 -1 -1 -1 -1 -1 -1 -1 -1\n",
              "[5569] -1 -1 -1 -1 -1 -1 -1 -1 -1 -1 -1 -1 -1 -1 -1 -1 -1 -1 -1 -1 -1 -1 -1 -1\n",
              "[5593] -1 -1 -1 -1 -1 -1 -1 -1 -1 -1 -1 -1 -1 -1 -1 -1 -1 -1 -1 -1 -1 -1 -1 -1\n",
              "[5617] -1 -1 -1 -1 -1 -1 -1 -1 -1 -1 -1 -1 -1 -1 -1 -1 -1 -1 -1 -1 -1 -1 -1 -1\n",
              "[5641] -1 -1 -1 -1 -1 -1 -1 -1 -1 -1 -1 -1 -1 -1 -1 -1 -1 -1 -1 -1 -1 -1 -1 -1\n",
              "[5665] -1 -1 -1 -1 -1 -1 -1 -1 -1 -1 -1 -1 -1 -1 -1 -1 -1 -1 -1 -1 -1 -1"
            ],
            "text/latex": "\\begin{enumerate*}\n\\item -1\n\\item -1\n\\item -1\n\\item -1\n\\item -1\n\\item -1\n\\item -1\n\\item -1\n\\item -1\n\\item -1\n\\item -1\n\\item -1\n\\item -1\n\\item -1\n\\item -1\n\\item -1\n\\item -1\n\\item -1\n\\item -1\n\\item -1\n\\item -1\n\\item -1\n\\item -1\n\\item -1\n\\item -1\n\\item -1\n\\item -1\n\\item -1\n\\item -1\n\\item -1\n\\item -1\n\\item -1\n\\item -1\n\\item -1\n\\item -1\n\\item -1\n\\item -1\n\\item -1\n\\item -1\n\\item -1\n\\item -1\n\\item -1\n\\item -1\n\\item -1\n\\item -1\n\\item -1\n\\item -1\n\\item -1\n\\item -1\n\\item -1\n\\item -1\n\\item -1\n\\item -1\n\\item -1\n\\item -1\n\\item -1\n\\item -1\n\\item -1\n\\item -1\n\\item -1\n\\item -1\n\\item -1\n\\item -1\n\\item -1\n\\item -1\n\\item -1\n\\item -1\n\\item -1\n\\item -1\n\\item -1\n\\item -1\n\\item -1\n\\item -1\n\\item -1\n\\item -1\n\\item -1\n\\item -1\n\\item -1\n\\item -1\n\\item -1\n\\item -1\n\\item -1\n\\item -1\n\\item -1\n\\item -1\n\\item -1\n\\item -1\n\\item -1\n\\item -1\n\\item -1\n\\item -1\n\\item -1\n\\item -1\n\\item -1\n\\item -1\n\\item -1\n\\item -1\n\\item -1\n\\item -1\n\\item -1\n\\item -1\n\\item -1\n\\item -1\n\\item -1\n\\item -1\n\\item -1\n\\item -1\n\\item -1\n\\item -1\n\\item -1\n\\item -1\n\\item -1\n\\item -1\n\\item -1\n\\item -1\n\\item -1\n\\item -1\n\\item -1\n\\item -1\n\\item -1\n\\item -1\n\\item -1\n\\item -1\n\\item -1\n\\item -1\n\\item -1\n\\item -1\n\\item -1\n\\item -1\n\\item -1\n\\item -1\n\\item -1\n\\item -1\n\\item -1\n\\item -1\n\\item -1\n\\item -1\n\\item -1\n\\item -1\n\\item -1\n\\item -1\n\\item -1\n\\item -1\n\\item -1\n\\item -1\n\\item -1\n\\item -1\n\\item -1\n\\item -1\n\\item -1\n\\item -1\n\\item -1\n\\item -1\n\\item -1\n\\item -1\n\\item -1\n\\item -1\n\\item -1\n\\item -1\n\\item -1\n\\item -1\n\\item -1\n\\item -1\n\\item -1\n\\item -1\n\\item -1\n\\item -1\n\\item -1\n\\item -1\n\\item -1\n\\item -1\n\\item -1\n\\item -1\n\\item -1\n\\item -1\n\\item -1\n\\item -1\n\\item -1\n\\item -1\n\\item -1\n\\item -1\n\\item -1\n\\item -1\n\\item -1\n\\item -1\n\\item -1\n\\item -1\n\\item -1\n\\item -1\n\\item -1\n\\item -1\n\\item -1\n\\item -1\n\\item -1\n\\item -1\n\\item -1\n\\item -1\n\\item -1\n\\item -1\n\\item -1\n\\item ⋯\n\\item -1\n\\item -1\n\\item -1\n\\item -1\n\\item -1\n\\item -1\n\\item -1\n\\item -1\n\\item -1\n\\item -1\n\\item -1\n\\item -1\n\\item -1\n\\item -1\n\\item -1\n\\item -1\n\\item -1\n\\item -1\n\\item -1\n\\item -1\n\\item -1\n\\item -1\n\\item -1\n\\item -1\n\\item -1\n\\item -1\n\\item -1\n\\item -1\n\\item -1\n\\item -1\n\\item -1\n\\item -1\n\\item -1\n\\item -1\n\\item -1\n\\item -1\n\\item -1\n\\item -1\n\\item -1\n\\item -1\n\\item -1\n\\item -1\n\\item -1\n\\item -1\n\\item -1\n\\item -1\n\\item -1\n\\item -1\n\\item -1\n\\item -1\n\\item -1\n\\item -1\n\\item -1\n\\item -1\n\\item -1\n\\item -1\n\\item -1\n\\item -1\n\\item -1\n\\item -1\n\\item -1\n\\item -1\n\\item -1\n\\item -1\n\\item -1\n\\item -1\n\\item -1\n\\item -1\n\\item -1\n\\item -1\n\\item -1\n\\item -1\n\\item -1\n\\item -1\n\\item -1\n\\item -1\n\\item -1\n\\item -1\n\\item -1\n\\item -1\n\\item -1\n\\item -1\n\\item -1\n\\item -1\n\\item -1\n\\item -1\n\\item -1\n\\item -1\n\\item -1\n\\item -1\n\\item -1\n\\item -1\n\\item -1\n\\item -1\n\\item -1\n\\item -1\n\\item -1\n\\item -1\n\\item -1\n\\item -1\n\\item -1\n\\item -1\n\\item -1\n\\item -1\n\\item -1\n\\item -1\n\\item -1\n\\item -1\n\\item -1\n\\item -1\n\\item -1\n\\item -1\n\\item -1\n\\item -1\n\\item -1\n\\item -1\n\\item -1\n\\item -1\n\\item -1\n\\item -1\n\\item -1\n\\item -1\n\\item -1\n\\item -1\n\\item -1\n\\item -1\n\\item -1\n\\item -1\n\\item -1\n\\item -1\n\\item -1\n\\item -1\n\\item -1\n\\item -1\n\\item -1\n\\item -1\n\\item -1\n\\item -1\n\\item -1\n\\item -1\n\\item -1\n\\item -1\n\\item -1\n\\item -1\n\\item -1\n\\item -1\n\\item -1\n\\item -1\n\\item -1\n\\item -1\n\\item -1\n\\item -1\n\\item -1\n\\item -1\n\\item -1\n\\item -1\n\\item -1\n\\item -1\n\\item -1\n\\item -1\n\\item -1\n\\item -1\n\\item -1\n\\item -1\n\\item -1\n\\item -1\n\\item -1\n\\item -1\n\\item -1\n\\item -1\n\\item -1\n\\item -1\n\\item -1\n\\item -1\n\\item -1\n\\item -1\n\\item -1\n\\item -1\n\\item -1\n\\item -1\n\\item -1\n\\item -1\n\\item -1\n\\item -1\n\\item -1\n\\item -1\n\\item -1\n\\item -1\n\\item -1\n\\item -1\n\\item -1\n\\item -1\n\\item -1\n\\item -1\n\\item -1\n\\item -1\n\\item -1\n\\item -1\n\\item -1\n\\item -1\n\\end{enumerate*}\n",
            "text/markdown": "1. -1\n2. -1\n3. -1\n4. -1\n5. -1\n6. -1\n7. -1\n8. -1\n9. -1\n10. -1\n11. -1\n12. -1\n13. -1\n14. -1\n15. -1\n16. -1\n17. -1\n18. -1\n19. -1\n20. -1\n21. -1\n22. -1\n23. -1\n24. -1\n25. -1\n26. -1\n27. -1\n28. -1\n29. -1\n30. -1\n31. -1\n32. -1\n33. -1\n34. -1\n35. -1\n36. -1\n37. -1\n38. -1\n39. -1\n40. -1\n41. -1\n42. -1\n43. -1\n44. -1\n45. -1\n46. -1\n47. -1\n48. -1\n49. -1\n50. -1\n51. -1\n52. -1\n53. -1\n54. -1\n55. -1\n56. -1\n57. -1\n58. -1\n59. -1\n60. -1\n61. -1\n62. -1\n63. -1\n64. -1\n65. -1\n66. -1\n67. -1\n68. -1\n69. -1\n70. -1\n71. -1\n72. -1\n73. -1\n74. -1\n75. -1\n76. -1\n77. -1\n78. -1\n79. -1\n80. -1\n81. -1\n82. -1\n83. -1\n84. -1\n85. -1\n86. -1\n87. -1\n88. -1\n89. -1\n90. -1\n91. -1\n92. -1\n93. -1\n94. -1\n95. -1\n96. -1\n97. -1\n98. -1\n99. -1\n100. -1\n101. -1\n102. -1\n103. -1\n104. -1\n105. -1\n106. -1\n107. -1\n108. -1\n109. -1\n110. -1\n111. -1\n112. -1\n113. -1\n114. -1\n115. -1\n116. -1\n117. -1\n118. -1\n119. -1\n120. -1\n121. -1\n122. -1\n123. -1\n124. -1\n125. -1\n126. -1\n127. -1\n128. -1\n129. -1\n130. -1\n131. -1\n132. -1\n133. -1\n134. -1\n135. -1\n136. -1\n137. -1\n138. -1\n139. -1\n140. -1\n141. -1\n142. -1\n143. -1\n144. -1\n145. -1\n146. -1\n147. -1\n148. -1\n149. -1\n150. -1\n151. -1\n152. -1\n153. -1\n154. -1\n155. -1\n156. -1\n157. -1\n158. -1\n159. -1\n160. -1\n161. -1\n162. -1\n163. -1\n164. -1\n165. -1\n166. -1\n167. -1\n168. -1\n169. -1\n170. -1\n171. -1\n172. -1\n173. -1\n174. -1\n175. -1\n176. -1\n177. -1\n178. -1\n179. -1\n180. -1\n181. -1\n182. -1\n183. -1\n184. -1\n185. -1\n186. -1\n187. -1\n188. -1\n189. -1\n190. -1\n191. -1\n192. -1\n193. -1\n194. -1\n195. -1\n196. -1\n197. -1\n198. -1\n199. -1\n200. -1\n201. ⋯\n202. -1\n203. -1\n204. -1\n205. -1\n206. -1\n207. -1\n208. -1\n209. -1\n210. -1\n211. -1\n212. -1\n213. -1\n214. -1\n215. -1\n216. -1\n217. -1\n218. -1\n219. -1\n220. -1\n221. -1\n222. -1\n223. -1\n224. -1\n225. -1\n226. -1\n227. -1\n228. -1\n229. -1\n230. -1\n231. -1\n232. -1\n233. -1\n234. -1\n235. -1\n236. -1\n237. -1\n238. -1\n239. -1\n240. -1\n241. -1\n242. -1\n243. -1\n244. -1\n245. -1\n246. -1\n247. -1\n248. -1\n249. -1\n250. -1\n251. -1\n252. -1\n253. -1\n254. -1\n255. -1\n256. -1\n257. -1\n258. -1\n259. -1\n260. -1\n261. -1\n262. -1\n263. -1\n264. -1\n265. -1\n266. -1\n267. -1\n268. -1\n269. -1\n270. -1\n271. -1\n272. -1\n273. -1\n274. -1\n275. -1\n276. -1\n277. -1\n278. -1\n279. -1\n280. -1\n281. -1\n282. -1\n283. -1\n284. -1\n285. -1\n286. -1\n287. -1\n288. -1\n289. -1\n290. -1\n291. -1\n292. -1\n293. -1\n294. -1\n295. -1\n296. -1\n297. -1\n298. -1\n299. -1\n300. -1\n301. -1\n302. -1\n303. -1\n304. -1\n305. -1\n306. -1\n307. -1\n308. -1\n309. -1\n310. -1\n311. -1\n312. -1\n313. -1\n314. -1\n315. -1\n316. -1\n317. -1\n318. -1\n319. -1\n320. -1\n321. -1\n322. -1\n323. -1\n324. -1\n325. -1\n326. -1\n327. -1\n328. -1\n329. -1\n330. -1\n331. -1\n332. -1\n333. -1\n334. -1\n335. -1\n336. -1\n337. -1\n338. -1\n339. -1\n340. -1\n341. -1\n342. -1\n343. -1\n344. -1\n345. -1\n346. -1\n347. -1\n348. -1\n349. -1\n350. -1\n351. -1\n352. -1\n353. -1\n354. -1\n355. -1\n356. -1\n357. -1\n358. -1\n359. -1\n360. -1\n361. -1\n362. -1\n363. -1\n364. -1\n365. -1\n366. -1\n367. -1\n368. -1\n369. -1\n370. -1\n371. -1\n372. -1\n373. -1\n374. -1\n375. -1\n376. -1\n377. -1\n378. -1\n379. -1\n380. -1\n381. -1\n382. -1\n383. -1\n384. -1\n385. -1\n386. -1\n387. -1\n388. -1\n389. -1\n390. -1\n391. -1\n392. -1\n393. -1\n394. -1\n395. -1\n396. -1\n397. -1\n398. -1\n399. -1\n400. -1\n401. -1\n\n\n",
            "text/html": [
              "<style>\n",
              ".list-inline {list-style: none; margin:0; padding: 0}\n",
              ".list-inline>li {display: inline-block}\n",
              ".list-inline>li:not(:last-child)::after {content: \"\\00b7\"; padding: 0 .5ex}\n",
              "</style>\n",
              "<ol class=list-inline><li>-1</li><li>-1</li><li>-1</li><li>-1</li><li>-1</li><li>-1</li><li>-1</li><li>-1</li><li>-1</li><li>-1</li><li>-1</li><li>-1</li><li>-1</li><li>-1</li><li>-1</li><li>-1</li><li>-1</li><li>-1</li><li>-1</li><li>-1</li><li>-1</li><li>-1</li><li>-1</li><li>-1</li><li>-1</li><li>-1</li><li>-1</li><li>-1</li><li>-1</li><li>-1</li><li>-1</li><li>-1</li><li>-1</li><li>-1</li><li>-1</li><li>-1</li><li>-1</li><li>-1</li><li>-1</li><li>-1</li><li>-1</li><li>-1</li><li>-1</li><li>-1</li><li>-1</li><li>-1</li><li>-1</li><li>-1</li><li>-1</li><li>-1</li><li>-1</li><li>-1</li><li>-1</li><li>-1</li><li>-1</li><li>-1</li><li>-1</li><li>-1</li><li>-1</li><li>-1</li><li>-1</li><li>-1</li><li>-1</li><li>-1</li><li>-1</li><li>-1</li><li>-1</li><li>-1</li><li>-1</li><li>-1</li><li>-1</li><li>-1</li><li>-1</li><li>-1</li><li>-1</li><li>-1</li><li>-1</li><li>-1</li><li>-1</li><li>-1</li><li>-1</li><li>-1</li><li>-1</li><li>-1</li><li>-1</li><li>-1</li><li>-1</li><li>-1</li><li>-1</li><li>-1</li><li>-1</li><li>-1</li><li>-1</li><li>-1</li><li>-1</li><li>-1</li><li>-1</li><li>-1</li><li>-1</li><li>-1</li><li>-1</li><li>-1</li><li>-1</li><li>-1</li><li>-1</li><li>-1</li><li>-1</li><li>-1</li><li>-1</li><li>-1</li><li>-1</li><li>-1</li><li>-1</li><li>-1</li><li>-1</li><li>-1</li><li>-1</li><li>-1</li><li>-1</li><li>-1</li><li>-1</li><li>-1</li><li>-1</li><li>-1</li><li>-1</li><li>-1</li><li>-1</li><li>-1</li><li>-1</li><li>-1</li><li>-1</li><li>-1</li><li>-1</li><li>-1</li><li>-1</li><li>-1</li><li>-1</li><li>-1</li><li>-1</li><li>-1</li><li>-1</li><li>-1</li><li>-1</li><li>-1</li><li>-1</li><li>-1</li><li>-1</li><li>-1</li><li>-1</li><li>-1</li><li>-1</li><li>-1</li><li>-1</li><li>-1</li><li>-1</li><li>-1</li><li>-1</li><li>-1</li><li>-1</li><li>-1</li><li>-1</li><li>-1</li><li>-1</li><li>-1</li><li>-1</li><li>-1</li><li>-1</li><li>-1</li><li>-1</li><li>-1</li><li>-1</li><li>-1</li><li>-1</li><li>-1</li><li>-1</li><li>-1</li><li>-1</li><li>-1</li><li>-1</li><li>-1</li><li>-1</li><li>-1</li><li>-1</li><li>-1</li><li>-1</li><li>-1</li><li>-1</li><li>-1</li><li>-1</li><li>-1</li><li>-1</li><li>-1</li><li>-1</li><li>-1</li><li>-1</li><li>-1</li><li>-1</li><li>-1</li><li>-1</li><li>-1</li><li>⋯</li><li>-1</li><li>-1</li><li>-1</li><li>-1</li><li>-1</li><li>-1</li><li>-1</li><li>-1</li><li>-1</li><li>-1</li><li>-1</li><li>-1</li><li>-1</li><li>-1</li><li>-1</li><li>-1</li><li>-1</li><li>-1</li><li>-1</li><li>-1</li><li>-1</li><li>-1</li><li>-1</li><li>-1</li><li>-1</li><li>-1</li><li>-1</li><li>-1</li><li>-1</li><li>-1</li><li>-1</li><li>-1</li><li>-1</li><li>-1</li><li>-1</li><li>-1</li><li>-1</li><li>-1</li><li>-1</li><li>-1</li><li>-1</li><li>-1</li><li>-1</li><li>-1</li><li>-1</li><li>-1</li><li>-1</li><li>-1</li><li>-1</li><li>-1</li><li>-1</li><li>-1</li><li>-1</li><li>-1</li><li>-1</li><li>-1</li><li>-1</li><li>-1</li><li>-1</li><li>-1</li><li>-1</li><li>-1</li><li>-1</li><li>-1</li><li>-1</li><li>-1</li><li>-1</li><li>-1</li><li>-1</li><li>-1</li><li>-1</li><li>-1</li><li>-1</li><li>-1</li><li>-1</li><li>-1</li><li>-1</li><li>-1</li><li>-1</li><li>-1</li><li>-1</li><li>-1</li><li>-1</li><li>-1</li><li>-1</li><li>-1</li><li>-1</li><li>-1</li><li>-1</li><li>-1</li><li>-1</li><li>-1</li><li>-1</li><li>-1</li><li>-1</li><li>-1</li><li>-1</li><li>-1</li><li>-1</li><li>-1</li><li>-1</li><li>-1</li><li>-1</li><li>-1</li><li>-1</li><li>-1</li><li>-1</li><li>-1</li><li>-1</li><li>-1</li><li>-1</li><li>-1</li><li>-1</li><li>-1</li><li>-1</li><li>-1</li><li>-1</li><li>-1</li><li>-1</li><li>-1</li><li>-1</li><li>-1</li><li>-1</li><li>-1</li><li>-1</li><li>-1</li><li>-1</li><li>-1</li><li>-1</li><li>-1</li><li>-1</li><li>-1</li><li>-1</li><li>-1</li><li>-1</li><li>-1</li><li>-1</li><li>-1</li><li>-1</li><li>-1</li><li>-1</li><li>-1</li><li>-1</li><li>-1</li><li>-1</li><li>-1</li><li>-1</li><li>-1</li><li>-1</li><li>-1</li><li>-1</li><li>-1</li><li>-1</li><li>-1</li><li>-1</li><li>-1</li><li>-1</li><li>-1</li><li>-1</li><li>-1</li><li>-1</li><li>-1</li><li>-1</li><li>-1</li><li>-1</li><li>-1</li><li>-1</li><li>-1</li><li>-1</li><li>-1</li><li>-1</li><li>-1</li><li>-1</li><li>-1</li><li>-1</li><li>-1</li><li>-1</li><li>-1</li><li>-1</li><li>-1</li><li>-1</li><li>-1</li><li>-1</li><li>-1</li><li>-1</li><li>-1</li><li>-1</li><li>-1</li><li>-1</li><li>-1</li><li>-1</li><li>-1</li><li>-1</li><li>-1</li><li>-1</li><li>-1</li><li>-1</li><li>-1</li><li>-1</li><li>-1</li></ol>\n"
            ]
          },
          "metadata": {
            "tags": []
          }
        },
        {
          "output_type": "display_data",
          "data": {
            "text/plain": [
              "    [1] 0 0 0 0 0 0 0 0 0 0 0 0 0 0 0 0 0 0 0 0 0 0 0 0 0 0 0 0 0 0 0 0 0 0 0 0\n",
              "   [37] 0 0 0 0 0 0 0 0 0 0 0 0 0 0 0 0 0 0 0 0 0 0 0 0 0 0 0 0 0 0 0 0 0 0 0 0\n",
              "   [73] 0 0 0 0 0 0 0 0 0 0 0 0 0 0 0 0 0 0 0 0 0 0 0 0 0 0 0 0 0 0 0 0 0 0 0 0\n",
              "  [109] 0 0 0 0 0 0 0 0 0 0 0 0 0 0 0 0 0 0 0 0 0 0 0 0 0 0 0 0 0 0 0 0 0 0 0 0\n",
              "  [145] 0 0 0 0 0 0 0 0 0 0 0 0 0 0 0 0 0 0 0 0 0 0 0 0 0 0 0 0 0 0 0 0 0 0 0 0\n",
              "  [181] 0 0 0 0 0 0 0 0 0 0 0 0 0 0 0 0 0 0 0 0 0 0 0 0 0 0 0 0 0 0 0 0 0 0 0 0\n",
              "  [217] 0 0 0 0 0 0 0 0 0 0 0 0 0 0 0 0 0 0 0 0 0 0 0 0 0 0 0 0 0 0 0 0 0 0 0 0\n",
              "  [253] 0 0 0 0 0 0 0 0 0 0 0 0 0 0 0 0 0 0 0 0 0 0 0 0 0 0 0 0 0 0 0 0 0 0 0 0\n",
              "  [289] 0 0 0 0 0 0 0 0 0 0 0 0 0 0 0 0 0 0 0 0 0 0 0 0 0 0 0 0 0 0 0 0 0 0 0 0\n",
              "  [325] 0 0 0 0 0 0 0 0 0 0 0 0 0 0 0 0 0 0 0 0 0 0 0 0 0 0 0 0 0 0 0 0 0 0 0 0\n",
              "  [361] 0 0 0 0 0 0 0 0 0 0 0 0 0 0 0 0 0 0 0 0 0 0 0 0 0 0 0 0 0 0 0 0 0 0 0 0\n",
              "  [397] 0 0 0 0 0 0 0 0 0 0 0 0 0 0 0 0 0 0 0 0 0 0 0 0 0 0 0 0 0 0 0 0 0 0 0 0\n",
              "  [433] 0 0 0 0 0 0 0 0 0 0 0 0 0 0 0 0 0 0 0 0 0 0 0 0 0 0 0 0 0 0 0 0 0 0 0 0\n",
              "  [469] 0 0 0 0 0 0 0 0 0 0 0 0 0 0 0 0 0 0 0 0 0 0 0 0 0 0 0 0 0 0 0 0 0 0 0 0\n",
              "  [505] 0 0 0 0 0 0 0 0 0 0 0 0 0 0 0 0 0 0 0 0 0 0 0 0 0 0 0 0 0 0 0 0 0 0 0 0\n",
              "  [541] 0 0 0 0 0 0 0 0 0 0 0 0 0 0 0 0 0 0 0 0 0 0 0 0 0 0 0 0 0 0 0 0 0 0 0 0\n",
              "  [577] 0 0 0 0 0 0 0 0 0 0 0 0 0 0 0 0 0 0 0 0 0 0 0 0 0 0 0 0 0 0 0 0 0 0 0 0\n",
              "  [613] 0 0 0 0 0 0 0 0 0 0 0 0 0 0 0 0 0 0 0 0 0 0 0 0 0 0 0 0 0 0 0 0 0 0 0 0\n",
              "  [649] 0 0 0 0 0 0 0 0 0 0 0 0 0 0 0 0 0 0 0 0 0 0 0 0 0 0 0 0 0 0 0 0 0 0 0 0\n",
              "  [685] 0 0 0 0 0 0 0 0 0 0 0 0 0 0 0 0 0 0 0 0 0 0 0 0 0 0 0 0 0 0 0 0 0 0 0 0\n",
              "  [721] 0 0 0 0 0 0 0 0 0 0 0 0 0 0 0 0 0 0 0 0 0 0 0 0 0 0 0 0 0 0 0 0 0 0 0 0\n",
              "  [757] 0 0 0 0 0 0 0 0 0 0 0 0 0 0 0 0 0 0 0 0 0 0 0 0 0 0 0 0 0 0 0 0 0 0 0 0\n",
              "  [793] 0 0 0 0 0 0 0 0 0 0 0 0 0 0 0 0 0 0 0 0 0 0 0 0 0 0 0 0 0 0 0 0 0 0 0 0\n",
              "  [829] 0 0 0 0 0 0 0 0 0 0 0 0 0 0 0 0 0 0 0 0 0 0 0 0 0 0 0 0 0 0 0 0 0 0 0 0\n",
              "  [865] 0 0 0 0 0 0 0 0 0 0 0 0 0 0 0 0 0 0 0 0 0 0 0 0 0 0 0 0 0 0 0 0 0 0 0 0\n",
              "  [901] 0 0 0 0 0 0 0 0 0 0 0 0 0 0 0 0 0 0 0 0 0 0 0 0 0 0 0 0 0 0 0 0 0 0 0 0\n",
              "  [937] 0 0 0 0 0 0 0 0 0 0 0 0 0 0 0 0 0 0 0 0 0 0 0 0 0 0 0 0 0 0 0 0 0 0 0 0\n",
              "  [973] 0 0 0 0 0 0 0 0 0 0 0 0 0 0 0 0 0 0 0 0 0 0 0 0 0 0 0 0 0 0 0 0 0 0 0 0\n",
              " [1009] 0 0 0 0 0 0 0 0 0 0 0 0 0 0 0 0 0 0 0 0 0 0 0 0 0 0 0 0 0 0 0 0 0 0 0 0\n",
              " [1045] 0 0 0 0 0 0 0 0 0 0 0 0 0 0 0 0 0 0 0 0 0 0 0 0 0 0 0 0 0 0 0 0 0 0 0 0\n",
              " [1081] 0 0 0 0 0 0 0 0 0 0 0 0 0 0 0 0 0 0 0 0 0 0 0 0 0 0 0 0 0 0 0 0 0 0 0 0\n",
              " [1117] 0 0 0 0 0 0 0 0 0 0 0 0 0 0 0 0 0 0 0 0 0 0 0 0 0 0 0 0 0 0 0 0 0 0 0 0\n",
              " [1153] 0 0 0 0 0 0 0 0 0 0 0 0 0 0 0 0 0 0 0 0 0 0 0 0 0 0 0 0 0 0 0 0 0 0 0 0\n",
              " [1189] 0 0 0 0 0 0 0 0 0 0 0 0 0 0 0 0 0 0 0 0 0 0 0 0 0 0 0 0 0 0 0 0 0 0 0 0\n",
              " [1225] 0 0 0 0 0 0 0 0 0 0 0 0 0 0 0 0 0 0 0 0 0 0 0 0 0 0 0 0 0 0 0 0 0 0 0 0\n",
              " [1261] 0 0 0 0 0 0 0 0 0 0 0 0 0 0 0 0 0 0 0 0 0 0 0 0 0 0 0 0 0 0 0 0 0 0 0 0\n",
              " [1297] 0 0 0 0 0 0 0 0 0 0 0 0 0 0 0 0 0 0 0 0 0 0 0 0 0 0 0 0 0 0 0 0 0 0 0 0\n",
              " [1333] 0 0 0 0 0 0 0 0 0 0 0 0 0 0 0 0 0 0 0 0 0 0 0 0 0 0 0 0 0 0 0 0 0 0 0 0\n",
              " [1369] 0 0 0 0 0 0 0 0 0 0 0 0 0 0 0 0 0 0 0 0 0 0 0 0 0 0 0 0 0 0 0 0 0 0 0 0\n",
              " [1405] 0 0 0 0 0 0 0 0 0 0 0 0 0 0 0 0 0 0 0 0 0 0 0 0 0 0 0 0 0 0 0 0 0 0 0 0\n",
              " [1441] 0 0 0 0 0 0 0 0 0 0 0 0 0 0 0 0 0 0 0 0 0 0 0 0 0 0 0 0 0 0 0 0 0 0 0 0\n",
              " [1477] 0 0 0 0 0 0 0 0 0 0 0 0 0 0 0 0 0 0 0 0 0 0 0 0 0 0 0 0 0 0 0 0 0 0 0 0\n",
              " [1513] 0 0 0 0 0 0 0 0 0 0 0 0 0 0 0 0 0 0 0 0 0 0 0 0 0 0 0 0 0 0 0 0 0 0 0 0\n",
              " [1549] 0 0 0 0 0 0 0 0 0 0 0 0 0 0 0 0 0 0 0 0 0 0 0 0 0 0 0 0 0 0 0 0 0 0 0 0\n",
              " [1585] 0 0 0 0 0 0 0 0 0 0 0 0 0 0 0 0 0 0 0 0 0 0 0 0 0 0 0 0 0 0 0 0 0 0 0 0\n",
              " [1621] 0 0 0 0 0 0 0 0 0 0 0 0 0 0 0 0 0 0 0 0 0 0 0 0 0 0 0 0 0 0 0 0 0 0 0 0\n",
              " [1657] 0 0 0 0 0 0 0 0 0 0 0 0 0 0 0 0 0 0 0 0 0 0 0 0 0 0 0 0 0 0 0 0 0 0 0 0\n",
              " [1693] 0 0 0 0 0 0 0 0 0 0 0 0 0 0 0 0 0 0 0 0 0 0 0 0 0 0 0 0 0 0 0 0 0 0 0 0\n",
              " [1729] 0 0 0 0 0 0 0 0 0 0 0 0 0 0 0 0 0 0 0 0 0 0 0 0 0 0 0 0 0 0 0 0 0 0 0 0\n",
              " [1765] 0 0 0 0 0 0 0 0 0 0 0 0 0 0 0 0 0 0 0 0 0 0 0 0 0 0 0 0 0 0 0 0 0 0 0 0\n",
              " [1801] 0 0 0 0 0 0 0 0 0 0 0 0 0 0 0 0 0 0 0 0 0 0 0 0 0 0 0 0 0 0 0 0 0 0 0 0\n",
              " [1837] 0 0 0 0 0 0 0 0 0 0 0 0 0 0 0 0 0 0 0 0 0 0 0 0 0 0 0 0 0 0 0 0 0 0 0 0\n",
              " [1873] 0 0 0 0 0 0 0 0 0 0 0 0 0 0 0 0 0 0 0 0 0 0 0 0 0 0 0 0 0 0 0 0 0 0 0 0\n",
              " [1909] 0 0 0 0 0 0 0 0 0 0 0 0 0 0 0 0 0 0 0 0 0 0 0 0 0 0 0 0 0 0 0 0 0 0 0 0\n",
              " [1945] 0 0 0 0 0 0 0 0 0 0 0 0 0 0 0 0 0 0 0 0 0 0 0 0 0 0 0 0 0 0 0 0 0 0 0 0\n",
              " [1981] 0 0 0 0 0 0 0 0 0 0 0 0 0 0 0 0 0 0 0 0 0 0 0 0 0 0 0 0 0 0 0 0 0 0 0 0\n",
              " [2017] 0 0 0 0 0 0 0 0 0 0 0 0 0 0 0 0 0 0 0 0 0 0 0 0 0 0 0 0 0 0 0 0 0 0 0 0\n",
              " [2053] 0 0 0 0 0 0 0 0 0 0 0 0 0 0 0 0 0 0 0 0 0 0 0 0 0 0 0 0 0 0 0 0 0 0 0 0\n",
              " [2089] 0 0 0 0 0 0 0 0 0 0 0 0 0 0 0 0 0 0 0 0 0 0 0 0 0 0 0 0 0 0 0 0 0 0 0 0\n",
              " [2125] 0 0 0 0 0 0 0 0 0 0 0 0 0 0 0 0 0 0 0 0 0 0 0 0 0 0 0 0 0 0 0 0 0 0 0 0\n",
              " [2161] 0 0 0 0 0 0 0 0 0 0 0 0 0 0 0 0 0 0 0 0 0 0 0 0 0 0 0 0 0 0 0 0 0 0 0 0\n",
              " [2197] 0 0 0 0 0 0 0 0 0 0 0 0 0 0 0 0 0 0 0 0 0 0 0 0 0 0 0 0 0 0 0 0 0 0 0 0\n",
              " [2233] 0 0 0 0 0 0 0 0 0 0 0 0 0 0 0 0 0 0 0 0 0 0 0 0 0 0 0 0 0 0 0 0 0 0 0 0\n",
              " [2269] 0 0 0 0 0 0 0 0 0 0 0 0 0 0 0 0 0 0 0 0 0 0 0 0 0 0 0 0 0 0 0 0 0 0 0 0\n",
              " [2305] 0 0 0 0 0 0 0 0 0 0 0 0 0 0 0 0 0 0 0 0 0 0 0 0 0 0 0 0 0 0 0 0 0 0 0 0\n",
              " [2341] 0 0 0 0 0 0 0 0 0 0 0 0 0 0 0 0 0 0 0 0 0 0 0 0 0 0 0 0 0 0 0 0 0 0 0 0\n",
              " [2377] 0 0 0 0 0 0 0 0 0 0 0 0 0 0 0 0 0 0 0 0 0 0 0 0 0 0 0 0 0 0 0 0 0 0 0 0\n",
              " [2413] 0 0 0 0 0 0 0 0 0 0 0 0 0 0 0 0 0 0 0 0 0 0 0 0 0 0 0 0 0 0 0 0 0 0 0 0\n",
              " [2449] 0 0 0 0 0 0 0 0 0 0 0 0 0 0 0 0 0 0 0 0 0 0 0 0 0 0 0 0 0 0 0 0 0 0 0 0\n",
              " [2485] 0 0 0 0 0 0 0 0 0 0 0 0 0 0 0 0 0 0 0 0 0 0 0 0 0 0 0 0 0 0 0 0 0 0 0 0\n",
              " [2521] 0 0 0 0 0 0 0 0 0 0 0 0 0 0 0 0 0 0 0 0 0 0 0 0 0 0 0 0 0 0 0 0 0 0 0 0\n",
              " [2557] 0 0 0 0 0 0 0 0 0 0 0 0 0 0 0 0 0 0 0 0 0 0 0 0 0 0 0 0 0 0 0 0 0 0 0 0\n",
              " [2593] 0 0 0 0 0 0 0 0 0 0 0 0 0 0 0 0 0 0 0 0 0 0 0 0 0 0 0 0 0 0 0 0 0 0 0 0\n",
              " [2629] 0 0 0 0 0 0 0 0 0 0 0 0 0 0 0 0 0 0 0 0 0 0 0 0 0 0 0 0 0 0 0 0 0 0 0 0\n",
              " [2665] 0 0 0 0 0 0 0 0 0 0 0 0 0 0 0 0 0 0 0 0 0 0 0 0 0 0 0 0 0 0 0 0 0 0 0 0\n",
              " [2701] 0 0 0 0 0 0 0 0 0 0 0 0 0 0 0 0 0 0 0 0 0 0 0 0 0 0 0 0 0 0 0 0 0 0 0 0\n",
              " [2737] 0 0 0 0 0 0 0 0 0 0 0 0 0 0 0 0 0 0 0 0 0 0 0 0 0 0 0 0 0 0 0 0 0 0 0 0\n",
              " [2773] 0 0 0 0 0 0 0 0 0 0 0 0 0 0 0 0 0 0 0 0 0 0 0 0 0 0 0 0 0 0 0 0 0 0 0 0\n",
              " [2809] 0 0 0 0 0 0 0 0 0 0 0 0 0 0 0 0 0 0 0 0 0 0 0 0 0 0 0 0 0 0 0 0 0 0 0 0\n",
              " [2845] 0 0 0 0 0 0 0 0 0 0 0 0 0 0 0 0 0 0 0 0 0 0 0 0 0 0 0 0 0 0 0 0 0 0 0 0\n",
              " [2881] 0 0 0 0 0 0 0 0 0 0 0 0 0 0 0 0 0 0 0 0 0 0 0 0 0 0 0 0 0 0 0 0 0 0 0 0\n",
              " [2917] 0 0 0 0 0 0 0 0 0 0 0 0 0 0 0 0 0 0 0 0 0 0 0 0 0 0 0 0 0 0 0 0 0 0 0 0\n",
              " [2953] 0 0 0 0 0 0 0 0 0 0 0 0 0 0 0 0 0 0 0 0 0 0 0 0 0 0 0 0 0 0 0 0 0 0 0 0\n",
              " [2989] 0 0 0 0 0 0 0 0 0 0 0 0 0 0 0 0 0 0 0 0 0 0 0 0 0 0 0 0 0 0 0 0 0 0 0 0\n",
              " [3025] 0 0 0 0 0 0 0 0 0 0 0 0 0 0 0 0 0 0 0 0 0 0 0 0 0 0 0 0 0 0 0 0 0 0 0 0\n",
              " [3061] 0 0 0 0 0 0 0 0 0 0 0 0 0 0 0 0 0 0 0 0 0 0 0 0 0 0 0 0 0 0 0 0 0 0 0 0\n",
              " [3097] 0 0 0 0 0 0 0 0 0 0 0 0 0 0 0 0 0 0 0 0 0 0 0 0 0 0 0 0 0 0 0 0 0 0 0 0\n",
              " [3133] 0 0 0 0 0 0 0 0 0 0 0 0 0 0 0 0 0 0 0 0 0 0 0 0 0 0 0 0 0 0 0 0 0 0 0 0\n",
              " [3169] 0 0 0 0 0 0 0 0 0 0 0 0 0 0 0 0 0 0 0 0 0 0 0 0 0 0 0 0 0 0 0 0 0 0 0 0\n",
              " [3205] 0 0 0 0 0 0 0 0 0 0 0 0 0 0 0 0 0 0 0 0 0 0 0 0 0 0 0 0 0 0 0 0 0 0 0 0\n",
              " [3241] 0 0 0 0 0 0 0 0 0 0 0 0 0 0 0 0 0 0 0 0 0 0 0 0 0 0 0 0 0 0 0 0 0 0 0 0\n",
              " [3277] 0 0 0 0 0 0 0 0 0 0 0 0 0 0 0 0 0 0 0 0 0 0 0 0 0 0 0 0 0 0 0 0 0 0 0 0\n",
              " [3313] 0 0 0 0 0 0 0 0 0 0 0 0 0 0 0 0 0 0 0 0 0 0 0 0 0 0 0 0 0 0 0 0 0 0 0 0\n",
              " [3349] 0 0 0 0 0 0 0 0 0 0 0 0 0 0 0 0 0 0 0 0 0 0 0 0 0 0 0 0 0 0 0 0 0 0 0 0\n",
              " [3385] 0 0 0 0 0 0 0 0 0 0 0 0 0 0 0 0 0 0 0 0 0 0 0 0 0 0 0 0 0 0 0 0 0 0 0 0\n",
              " [3421] 0 0 0 0 0 0 0 0 0 0 0 0 0 0 0 0 0 0 0 0 0 0 0 0 0 0 0 0 0 0 0 0 0 0 0 0\n",
              " [3457] 0 0 0 0 0 0 0 0 0 0 0 0 0 0 0 0 0 0 0 0 0 0 0 0 0 0 0 0 0 0 0 0 0 0 0 0\n",
              " [3493] 0 0 0 0 0 0 0 0 0 0 0 0 0 0 0 0 0 0 0 0 0 0 0 0 0 0 0 0 0 0 0 0 0 0 0 0\n",
              " [3529] 0 0 0 0 0 0 0 0 0 0 0 0 0 0 0 0 0 0 0 0 0 0 0 0 0 0 0 0 0 0 0 0 0 0 0 0\n",
              " [3565] 0 0 0 0 0 0 0 0 0 0 0 0 0 0 0 0 0 0 0 0 0 0 0 0 0 0 0 0 0 0 0 0 0 0 0 0\n",
              " [3601] 0 0 0 0 0 0 0 0 0 0 0 0 0 0 0 0 0 0 0 0 0 0 0 0 0 0 0 0 0 0 0 0 0 0 0 0\n",
              " [3637] 0 0 0 0 0 0 0 0 0 0 0 0 0 0 0 0 0 0 0 0 0 0 0 0 0 0 0 0 0 0 0 0 0 0 0 0\n",
              " [3673] 0 0 0 0 0 0 0 0 0 0 0 0 0 0 0 0 0 0 0 0 0 0 0 0 0 0 0 0 0 0 0 0 0 0 0 0\n",
              " [3709] 0 0 0 0 0 0 0 0 0 0 0 0 0 0 0 0 0 0 0 0 0 0 0 0 0 0 0 0 0 0 0 0 0 0 0 0\n",
              " [3745] 0 0 0 0 0 0 0 0 0 0 0 0 0 0 0 0 0 0 0 0 0 0 0 0 0 0 0 0 0 0 0 0 0 0 0 0\n",
              " [3781] 0 0 0 0 0 0 0 0 0 0 0 0 0 0 0 0 0 0 0 0 0 0 0 0 0 0 0 0 0 0 0 0 0 0 0 0\n",
              " [3817] 0 0 0 0 0 0 0 0 0 0 0 0 0 0 0 0 0 0 0 0 0 0 0 0 0 0 0 0 0 0 0 0 0 0 0 0\n",
              " [3853] 0 0 0 0 0 0 0 0 0 0 0 0 0 0 0 0 0 0 0 0 0 0 0 0 0 0 0 0 0 0 0 0 0 0 0 0\n",
              " [3889] 0 0 0 0 0 0 0 0 0 0 0 0 0 0 0 0 0 0 0 0 0 0 0 0 0 0 0 0 0 0 0 0 0 0 0 0\n",
              " [3925] 0 0 0 0 0 0 0 0 0 0 0 0 0 0 0 0 0 0 0 0 0 0 0 0 0 0 0 0 0 0 0 0 0 0 0 0\n",
              " [3961] 0 0 0 0 0 0 0 0 0 0 0 0 0 0 0 0 0 0 0 0 0 0 0 0 0 0 0 0 0 0 0 0 0 0 0 0\n",
              " [3997] 0 0 0 0 0 0 0 0 0 0 0 0 0 0 0 0 0 0 0 0 0 0 0 0 0 0 0 0 0 0 0 0 0 0 0 0\n",
              " [4033] 0 0 0 0 0 0 0 0 0 0 0 0 0 0 0 0 0 0 0 0 0 0 0 0 0 0 0 0 0 0 0 0 0 0 0 0\n",
              " [4069] 0 0 0 0 0 0 0 0 0 0 0 0 0 0 0 0 0 0 0 0 0 0 0 0 0 0 0 0 0 0 0 0 0 0 0 0\n",
              " [4105] 0 0 0 0 0 0 0 0 0 0 0 0 0 0 0 0 0 0 0 0 0 0 0 0 0 0 0 0 0 0 0 0 0 0 0 0\n",
              " [4141] 0 0 0 0 0 0 0 0 0 0 0 0 0 0 0 0 0 0 0 0 0 0 0 0 0 0 0 0 0 0 0 0 0 0 0 0\n",
              " [4177] 0 0 0 0 0 0 0 0 0 0 0 0 0 0 0 0 0 0 0 0 0 0 0 0 0 0 0 0 0 0 0 0 0 0 0 0\n",
              " [4213] 0 0 0 0 0 0 0 0 0 0 0 0 0 0 0 0 0 0 0 0 0 0 0 0 0 0 0 0 0 0 0 0 0 0 0 0\n",
              " [4249] 0 0 0 0 0 0 0 0 0 0 0 0 0 0 0 0 0 0 0 0 0 0 0 0 0 0 0 0 0 0 0 0 0 0 0 0\n",
              " [4285] 0 0 0 0 0 0 0 0 0 0 0 0 0 0 0 0 0 0 0 0 0 0 0 0 0 0 0 0 0 0 0 0 0 0 0 0\n",
              " [4321] 0 0 0 0 0 0 0 0 0 0 0 0 0 0 0 0 0 0 0 0 0 0 0 0 0 0 0 0 0 0 0 0 0 0 0 0\n",
              " [4357] 0 0 0 0 0 0 0 0 0 0 0 0 0 0 0 0 0 0 0 0 0 0 0 0 0 0 0 0 0 0 0 0 0 0 0 0\n",
              " [4393] 0 0 0 0 0 0 0 0 0 0 0 0 0 0 0 0 0 0 0 0 0 0 0 0 0 0 0 0 0 0 0 0 0 0 0 0\n",
              " [4429] 0 0 0 0 0 0 0 0 0 0 0 0 0 0 0 0 0 0 0 0 0 0 0 0 0 0 0 0 0 0 0 0 0 0 0 0\n",
              " [4465] 0 0 0 0 0 0 0 0 0 0 0 0 0 0 0 0 0 0 0 0 0 0 0 0 0 0 0 0 0 0 0 0 0 0 0 0\n",
              " [4501] 0 0 0 0 0 0 0 0 0 0 0 0 0 0 0 0 0 0 0 0 0 0 0 0 0 0 0 0 0 0 0 0 0 0 0 0\n",
              " [4537] 0 0 0 0 0 0 0 0 0 0 0 0 0 0 0 0 0 0 0 0 0 0 0 0 0 0 0 0 0 0 0 0 0 0 0 0\n",
              " [4573] 0 0 0 0 0 0 0 0 0 0 0 0 0 0 0 0 0 0 0 0 0 0 0 0 0 0 0 0 0 0 0 0 0 0 0 0\n",
              " [4609] 0 0 0 0 0 0 0 0 0 0 0 0 0 0 0 0 0 0 0 0 0 0 0 0 0 0 0 0 0 0 0 0 0 0 0 0\n",
              " [4645] 0 0 0 0 0 0 0 0 0 0 0 0 0 0 0 0 0 0 0 0 0 0 0 0 0 0 0 0 0 0 0 0 0 0 0 0\n",
              " [4681] 0 0 0 0 0 0 0 0 0 0 0 0 0 0 0 0 0 0 0 0 0 0 0 0 0 0 0 0 0 0 0 0 0 0 0 0\n",
              " [4717] 0 0 0 0 0 0 0 0 0 0 0 0 0 0 0 0 0 0 0 0 0 0 0 0 0 0 0 0 0 0 0 0 0 0 0 0\n",
              " [4753] 0 0 0 0 0 0 0 0 0 0 0 0 0 0 0 0 0 0 0 0 0 0 0 0 0 0 0 0 0 0 0 0 0 0 0 0\n",
              " [4789] 0 0 0 0 0 0 0 0 0 0 0 0 0 0 0 0 0 0 0 0 0 0 0 0 0 0 0 0 0 0 0 0 0 0 0 0\n",
              " [4825] 0 0 0 0 0 0 0 0 0 0 0 0 0 0 0 0 0 0 0 0 0 0 0 0 0 0 0 0 0 0 0 0 0 0 0 0\n",
              " [4861] 0 0 0 0 0 0 0 0 0 0 0 0 0 0 0 0 0 0 0 0 0 0 0 0 0 0 0 0 0 0 0 0 0 0 0 0\n",
              " [4897] 0 0 0 0 0 0 0 0 0 0 0 0 0 0 0 0 0 0 0 0 0 0 0 0 0 0 0 0 0 0 0 0 0 0 0 0\n",
              " [4933] 0 0 0 0 0 0 0 0 0 0 0 0 0 0 0 0 0 0 0 0 0 0 0 0 0 0 0 0 0 0 0 0 0 0 0 0\n",
              " [4969] 0 0 0 0 0 0 0 0 0 0 0 0 0 0 0 0 0 0 0 0 0 0 0 0 0 0 0 0 0 0 0 0 0 0 0 0\n",
              " [5005] 0 0 0 0 0 0 0 0 0 0 0 0 0 0 0 0 0 0 0 0 0 0 0 0 0 0 0 0 0 0 0 0 0 0 0 0\n",
              " [5041] 0 0 0 0 0 0 0 0 0 0 0 0 0 0 0 0 0 0 0 0 0 0 0 0 0 0 0 0 0 0 0 0 0 0 0 0\n",
              " [5077] 0 0 0 0 0 0 0 0 0 0 0 0 0 0 0 0 0 0 0 0 0 0 0 0 0 0 0 0 0 0 0 0 0 0 0 0\n",
              " [5113] 0 0 0 0 0 0 0 0 0 0 0 0 0 0 0 0 0 0 0 0 0 0 0 0 0 0 0 0 0 0 0 0 0 0 0 0\n",
              " [5149] 0 0 0 0 0 0 0 0 0 0 0 0 0 0 0 0 0 0 0 0 0 0 0 0 0 0 0 0 0 0 0 0 0 0 0 0\n",
              " [5185] 0 0 0 0 0 0 0 0 0 0 0 0 0 0 0 0 0 0 0 0 0 0 0 0 0 0 0 0 0 0 0 0 0 0 0 0\n",
              " [5221] 0 0 0 0 0 0 0 0 0 0 0 0 0 0 0 0 0 0 0 0 0 0 0 0 0 0 0 0 0 0 0 0 0 0 0 0\n",
              " [5257] 0 0 0 0 0 0 0 0 0 0 0 0 0 0 0 0 0 0 0 0 0 0 0 0 0 0 0 0 0 0 0 0 0 0 0 0\n",
              " [5293] 0 0 0 0 0 0 0 0 0 0 0 0 0 0 0 0 0 0 0 0 0 0 0 0 0 0 0 0 0 0 0 0 0 0 0 0\n",
              " [5329] 0 0 0 0 0 0 0 0 0 0 0 0 0 0 0 0 0 0 0 0 0 0 0 0 0 0 0 0 0 0 0 0 0 0 0 0\n",
              " [5365] 0 0 0 0 0 0 0 0 0 0 0 0 0 0 0 0 0 0 0 0 0 0 0 0 0 0 0 0 0 0 0 0 0 0 0 0\n",
              " [5401] 0 0 0 0 0 0 0 0 0 0 0 0 0 0 0 0 0 0 0 0 0 0 0 0 0 0 0 0 0 0 0 0 0 0 0 0\n",
              " [5437] 0 0 0 0 0 0 0 0 0 0 0 0 0 0 0 0 0 0 0 0 0 0 0 0 0 0 0 0 0 0 0 0 0 0 0 0\n",
              " [5473] 0 0 0 0 0 0 0 0 0 0 0 0 0 0 0 0 0 0 0 0 0 0 0 0 0 0 0 0 0 0 0 0 0 0 0 0\n",
              " [5509] 0 0 0 0 0 0 0 0 0 0 0 0 0 0 0 0 0 0 0 0 0 0 0 0 0 0 0 0 0 0 0 0 0 0 0 0\n",
              " [5545] 0 0 0 0 0 0 0 0 0 0 0 0 0 0 0 0 0 0 0 0 0 0 0 0 0 0 0 0 0 0 0 0 0 0 0 0\n",
              " [5581] 0 0 0 0 0 0 0 0 0 0 0 0 0 0 0 0 0 0 0 0 0 0 0 0 0 0 0 0 0 0 0 0 0 0 0 0\n",
              " [5617] 0 0 0 0 0 0 0 0 0 0 0 0 0 0 0 0 0 0 0 0 0 0 0 0 0 0 0 0 0 0 0 0 0 0 0 0\n",
              " [5653] 0 0 0 0 0 0 0 0 0 0 0 0 0 0 0 0 0 0 0 0 0 0 0 0 0 0 0 0 0 0 0 0 0 0 0 0\n",
              " [5689] 0 0 0 0 0 0 0 0 0 0 0 0 0 0 0 0 0 0 0 0 0 0 0 0 0 0 0 0 0 0 0 0 0 0 0 0\n",
              " [5725] 0 0 0 0 0 0 0 0 0 0 0 0 0 0 0 0 0 0 0 0 0 0 0 0 0 0 0 0 0 0 0 0 0 0 0 0\n",
              " [5761] 0 0 0 0 0 0 0 0 0 0 0 0 0 0 0 0 0 0 0 0 0 0 0 0 0 0 0 0 0 0 0 0 0 0 0 0\n",
              " [5797] 0 0 0 0 0 0 0 0 0 0 0 0 0 0 0 0 0 0 0 0 0 0 0 0 0 0 0 0 0 0 0 0 0 0 0 0\n",
              " [5833] 0 0 0 0 0 0 0 0 0 0 0 0 0 0 0 0 0 0 0 0 0 0 0 0 0 0 0 0 0 0 0 0 0 0 0 0\n",
              " [5869] 0 0 0 0 0 0 0 0 0 0 0 0 0 0 0 0 0 0 0 0 0 0 0 0 0 0 0 0 0 0 0 0 0 0 0 0\n",
              " [5905] 0 0 0 0 0 0 0 0 0 0 0 0 0 0 0 0 0 0 0 0 0 0 0 0 0 0 0 0 0 0 0 0 0 0 0 0\n",
              " [5941] 0 0 0 0 0 0 0 0 0 0 0 0 0 0 0 0 0 0 0 0 0 0 0 0 0 0 0 0 0 0 0 0 0 0 0 0\n",
              " [5977] 0 0 0 0 0 0 0 0 0 0 0 0 0 0 0 0 0 0 0 0 0 0 0 0 0 0 0 0 0 0 0 0 0 0 0 0\n",
              " [6013] 0 0 0 0 0 0 0 0 0 0 0 0 0 0 0 0 0 0 0 0 0 0 0 0 0 0 0 0 0 0 0 0 0 0 0 0\n",
              " [6049] 0 0 0 0 0 0 0 0 0 0 0 0 0 0 0 0 0 0 0 0 0 0 0 0 0 0 0 0 0 0 0 0 0 0 0 0\n",
              " [6085] 0 0 0 0 0 0 0 0 0 0 0 0 0 0 0 0 0 0 0 0 0 0 0 0 0 0 0 0 0 0 0 0 0 0 0 0\n",
              " [6121] 0 0 0 0 0 0 0 0 0 0 0 0 0 0 0 0 0 0 0 0 0 0 0 0 0 0 0 0 0 0 0 0 0 0 0 0\n",
              " [6157] 0 0 0 0 0 0 0 0 0 0 0 0 0 0 0 0 0 0 0 0 0 0 0 0 0 0 0 0 0 0 0 0 0 0 0 0\n",
              " [6193] 0 0 0 0 0 0 0 0 0 0 0 0 0 0 0 0 0 0 0 0 0 0 0 0 0 0 0 0 0 0 0 0 0 0 0 0\n",
              " [6229] 0 0 0 0 0 0 0 0 0 0 0 0 0 0 0 0 0 0 0 0 0 0 0 0 0 0 0 0 0 0 0 0 0 0 0 0\n",
              " [6265] 0 0 0 0 0 0 0 0 0 0 0 0 0 0 0 0 0 0 0 0 0 0 0 0 0 0 0 0 0 0 0 0 0 0 0 0\n",
              " [6301] 0 0 0 0 0 0 0 0 0 0 0 0 0 0 0 0 0 0 0 0 0 0 0 0 0 0 0 0 0 0 0 0 0 0 0 0\n",
              " [6337] 0 0 0 0 0 0 0 0 0 0 0 0 0 0 0 0 0 0 0 0 0 0 0 0 0 0 0 0 0 0 0 0 0 0 0 0\n",
              " [6373] 0 0 0 0 0 0 0 0 0 0 0 0 0 0 0 0 0 0 0 0 0 0 0 0 0 0 0 0 0 0 0 0 0 0 0 0\n",
              " [6409] 0 0 0 0 0 0 0 0 0 0 0 0 0 0 0 0 0 0 0 0 0 0 0 0 0 0 0 0 0 0 0 0 0 0 0 0\n",
              " [6445] 0 0 0 0 0 0 0 0 0 0 0 0 0 0 0 0 0 0 0 0 0 0 0 0 0 0 0 0 0 0 0 0 0 0 0 0\n",
              " [6481] 0 0 0 0 0 0 0 0 0 0 0 0 0 0 0 0 0 0 0 0 0 0 0 0 0 0 0 0 0 0 0 0 0 0 0 0\n",
              " [6517] 0 0 0 0 0 0 0 0 0 0 0 0 0 0 0 0 0 0 0 0 0 0 0 0 0 0 0 0 0 0 0 0 0 0 0 0\n",
              " [6553] 0 0 0 0 0 0 0 0 0 0 0 0 0 0 0 0 0 0 0 0 0 0 0 0 0 0 0 0 0 0 0 0 0 0 0 0\n",
              " [6589] 0 0 0 0 0 0 0 0 0 0 0 0 0 0 0 0 0 0 0 0 0 0 0 0 0 0 0 0 0 0 0 0 0 0 0 0\n",
              " [6625] 0 0 0 0 0 0 0 0 0 0 0 0 0 0 0 0 0 0 0 0 0 0 0 0 0 0 0 0 0 0 0 0 0 0 0 0\n",
              " [6661] 0 0 0 0 0 0 0 0 0 0 0 0 0 0 0 0 0 0 0 0 0 0 0 0 0 0 0 0 0 0 0 0 0 0 0 0\n",
              " [6697] 0 0 0 0 0 0 0 0 0 0 0 0 0 0 0 0 0 0 0 0 0 0 0 0 0 0 0 0 0 0 0 0 0 0 0 0\n",
              " [6733] 0 0 0 0 0 0 0 0 0 0 0 0 0 0 0 0 0 0 0 0 0 0 0 0 0 0 0 0 0 0 0 0 0 0 0 0\n",
              " [6769] 0 0 0 0 0 0 0 0 0 0 0 0 0 0 0 0 0 0 0 0 0 0 0 0 0 0 0 0 0 0 0 0 0 0 0 0\n",
              " [6805] 0 0 0 0 0 0 0 0 0 0 0 0 0 0 0 0 0 0 0 0 0 0 0 0 0 0 0 0 0 0 0 0 0 0 0 0\n",
              " [6841] 0 0 0 0 0 0 0 0 0 0 0 0 0 0 0 0 0 0 0 0 0 0 0 0 0 0 0 0 0 0 0 0 0 0 0 0\n",
              " [6877] 0 0 0 0 0 0 0 0 0 0 0 0 0 0 0 0 0 0 0 0 0 0 0 0 0 0 0 0 0 0 0 0 0 0 0 0\n",
              " [6913] 0 0 0 0 0 0 0 0 0 0 0 0 0 0 0 0 0 0 0 0 0 0 0 0 0 0 0 0 0 0 0 0 0 0 0 0\n",
              " [6949] 0 0 0 0 0 0 0 0 0 0 0 0 0 0 0 0 0 0 0 0 0 0 0 0 0 0 0 0 0 0 0 0 0 0 0 0\n",
              " [6985] 0 0 0 0 0 0 0 0 0 0 0 0 0 0 0 0 0 0 0 0 0 0 0 0 0 0 0 0 0 0 0 0 0 0 0 0\n",
              " [7021] 0 0 0 0 0 0 0 0 0 0 0 0 0 0 0 0 0 0 0 0 0 0 0 0 0 0 0 0 0 0 0 0 0 0 0 0\n",
              " [7057] 0 0 0 0 0 0 0 0 0 0 0 0 0 0 0 0 0 0 0 0 0 0 0 0 0 0 0 0 0 0 0 0 0 0 0 0\n",
              " [7093] 0 0 0 0 0 0 0 0 0 0 0 0 0 0 0 0 0 0 0 0 0 0 0 0 0 0 0 0 0 0 0 0 0 0 0 0\n",
              " [7129] 0 0 0 0 0 0 0 0 0 0 0 0 0 0 0 0 0 0 0 0 0 0 0 0 0 0 0 0 0 0 0 0 0 0 0 0\n",
              " [7165] 0 0 0 0 0 0 0 0 0 0 0 0 0 0 0 0 0 0 0 0 0 0 0 0 0 0 0 0 0 0 0 0 0 0 0 0\n",
              " [7201] 0 0 0 0 0 0 0 0 0 0 0 0 0 0 0 0 0 0 0 0 0 0 0 0 0 0 0 0 0 0 0 0 0 0 0 0\n",
              " [7237] 0 0 0 0 0 0 0 0 0 0 0 0 0 0 0 0 0 0 0 0 0 0 0 0 0 0 0 0 0 0 0 0 0 0 0 0\n",
              " [7273] 0 0 0 0 0 0 0 0 0 0 0 0 0 0 0 0 0 0 0 0 0 0 0 0 0 0 0 0 0 0 0 0 0 0 0 0\n",
              " [7309] 0 0 0 0 0 0 0 0 0 0 0 0 0 0 0 0 0 0 0 0 0 0 0 0 0 0 0 0 0 0 0 0 0 0 0 0\n",
              " [7345] 0 0 0 0 0 0 0 0 0 0 0 0 0 0 0 0 0 0 0 0 0 0 0 0 0 0 0 0 0 0 0 0 0 0 0 0\n",
              " [7381] 0 0 0 0 0 0 0 0 0 0 0 0 0 0 0 0 0 0 0 0 0 0 0 0 0 0 0 0 0 0 0 0 0 0 0 0\n",
              " [7417] 0 0 0 0 0 0 0 0 0 0 0 0 0 0 0 0 0 0 0 0 0 0 0 0 0 0 0 0 0 0 0 0 0 0 0 0\n",
              " [7453] 0 0 0 0 0 0 0 0 0 0 0 0 0 0 0 0 0 0 0 0 0 0 0 0 0 0 0 0 0 0 0 0 0 0 0 0\n",
              " [7489] 0 0 0 0 0 0 0 0 0 0 0 0 0 0 0 0 0 0 0 0 0 0 0 0 0 0 0 0 0 0 0 0 0 0 0 0\n",
              " [7525] 0 0 0 0 0 0 0 0 0 0 0 0 0 0 0 0 0 0 0 0 0 0 0 0 0 0 0 0 0 0 0 0 0 0 0 0\n",
              " [7561] 0 0 0 0 0 0 0 0 0 0 0 0 0 0 0 0 0 0 0 0 0 0 0 0 0 0 0 0 0 0 0 0 0 0 0 0\n",
              " [7597] 0 0 0 0 0 0 0 0 0 0 0 0 0 0 0 0 0 0 0 0 0 0 0 0 0 0 0 0 0 0 0 0 0 0 0 0\n",
              " [7633] 0 0 0 0 0 0 0 0 0 0 0 0 0 0 0 0 0 0 0 0 0 0 0 0 0 0 0 0 0 0 0 0 0 0 0 0\n",
              " [7669] 0 0 0 0 0 0 0 0 0 0 0 0 0 0 0 0 0 0 0 0 0 0 0 0 0 0 0 0 0 0 0 0 0 0 0 0\n",
              " [7705] 0 0 0 0 0 0 0 0 0 0 0 0 0 0 0 0 0 0 0 0 0 0 0 0 0 0 0 0 0 0 0 0 0 0 0 0\n",
              " [7741] 0 0 0 0 0 0 0 0 0 0 0 0 0 0 0 0 0 0 0 0 0 0 0 0 0 0 0 0 0 0 0 0 0 0 0 0\n",
              " [7777] 0 0 0 0 0 0 0 0 0 0 0 0 0 0 0 0 0 0 0 0 0 0 0 0 0 0 0 0 0 0 0 0 0 0 0 0\n",
              " [7813] 0 0 0 0 0 0 0 0 0 0 0 0 0 0 0 0 0 0 0 0 0 0 0 0 0 0 0 0 0 0 0 0 0 0 0 0\n",
              " [7849] 0 0 0 0 0 0 0 0 0 0 0 0 0 0 0 0 0 0 0 0 0 0 0 0 0 0 0 0 0 0 0 0 0 0 0 0\n",
              " [7885] 0 0 0 0 0 0 0 0 0 0 0 0 0 0 0 0 0 0 0 0 0 0 0 0 0 0 0 0 0 0 0 0 0 0 0 0\n",
              " [7921] 0 0 0 0 0 0 0 0 0 0 0 0 0 0 0 0 0 0 0 0 0 0 0 0 0 0 0 0 0 0 0 0 0 0 0 0\n",
              " [7957] 0 0 0 0 0 0 0 0 0 0 0 0 0 0 0 0 0 0 0 0 0 0 0 0 0 0 0 0 0 0 0 0 0 0 0 0\n",
              " [7993] 0 0 0 0 0 0 0 0 0 0 0 0 0 0 0 0 0 0 0 0 0 0 0 0 0 0 0 0 0 0 0 0 0 0 0 0\n",
              " [8029] 0 0 0 0 0 0 0 0 0 0 0 0 0 0 0 0 0 0 0 0 0 0 0 0 0 0 0 0 0 0 0 0 0 0 0 0\n",
              " [8065] 0 0 0 0 0 0 0 0 0 0 0 0 0 0 0 0 0 0 0 0 0 0 0 0 0 0 0 0 0 0 0 0 0 0 0 0\n",
              " [8101] 0 0 0 0 0 0 0 0 0 0 0 0 0 0 0 0 0 0 0 0 0 0 0 0 0 0 0 0 0 0 0 0 0 0 0 0\n",
              " [8137] 0 0 0 0 0 0 0 0 0 0 0 0 0 0 0 0 0 0 0 0 0 0 0 0 0 0 0 0 0 0 0 0 0 0 0 0\n",
              " [8173] 0 0 0 0 0 0 0 0 0 0 0 0 0 0 0 0 0 0 0 0 0 0 0 0 0 0 0 0 0 0 0 0 0 0 0 0\n",
              " [8209] 0 0 0 0 0 0 0 0 0 0 0 0 0 0 0 0 0 0 0 0 0 0 0 0 0 0 0 0 0 0 0 0 0 0 0 0\n",
              " [8245] 0 0 0 0 0 0 0 0 0 0 0 0 0 0 0 0 0 0 0 0 0 0 0 0 0 0 0 0 0 0 0 0 0 0 0 0\n",
              " [8281] 0 0 0 0 0 0 0 0 0 0 0 0 0 0 0 0 0 0 0 0 0 0 0 0 0 0 0 0 0 0 0 0 0 0 0 0\n",
              " [8317] 0 0 0 0 0 0 0 0 0 0 0 0 0 0 0 0 0 0 0 0 0 0 0 0 0 0 0 0 0 0 0 0 0 0 0 0\n",
              " [8353] 0 0 0 0 0 0 0 0 0 0 0 0 0 0 0 0 0 0 0 0 0 0 0 0 0 0 0 0 0 0 0 0 0 0 0 0\n",
              " [8389] 0 0 0 0 0 0 0 0 0 0 0 0 0 0 0 0 0 0 0 0 0 0 0 0 0 0 0 0 0 0 0 0 0 0 0 0\n",
              " [8425] 0 0 0 0 0 0 0 0 0 0 0 0 0 0 0 0 0 0 0 0 0 0 0 0 0 0 0 0 0 0 0 0 0 0 0 0\n",
              " [8461] 0 0 0 0 0 0 0 0 0 0 0 0 0 0 0 0 0 0 0 0 0 0 0 0 0 0 0 0 0 0 0 0 0 0 0 0\n",
              " [8497] 0 0 0 0 0 0 0 0 0 0 0 0 0 0 0 0 0 0 0 0 0 0 0 0 0 0 0 0 0 0 0 0 0 0 0 0\n",
              " [8533] 0 0 0 0 0 0 0 0 0 0 0 0 0 0 0 0 0 0 0 0 0 0 0 0 0 0 0 0 0 0 0 0 0 0 0 0\n",
              " [8569] 0 0 0 0 0 0 0 0 0 0 0 0 0 0 0 0 0 0 0 0 0 0 0 0 0 0 0 0 0 0 0 0 0 0 0 0\n",
              " [8605] 0 0 0 0 0 0 0 0 0 0 0 0 0 0 0 0 0 0 0 0 0 0 0 0 0 0 0 0 0 0 0 0 0 0 0 0\n",
              " [8641] 0 0 0 0 0 0 0 0 0 0 0 0 0 0 0 0 0 0 0 0 0 0 0 0 0 0 0 0 0 0 0 0 0 0 0 0\n",
              " [8677] 0 0 0 0 0 0 0 0 0 0 0 0 0 0 0 0 0 0 0 0 0 0 0 0 0 0 0 0 0 0 0 0 0 0 0 0\n",
              " [8713] 0 0 0 0 0 0 0 0 0 0 0 0 0 0 0 0 0 0 0 0 0 0 0 0 0 0 0 0 0 0 0 0 0 0 0 0\n",
              " [8749] 0 0 0 0 0 0 0 0 0 0 0 0 0 0 0 0 0 0 0 0 0 0 0 0 0 0 0 0 0 0 0 0 0 0 0 0\n",
              " [8785] 0 0 0 0 0 0 0 0 0 0 0 0 0 0 0 0 0 0 0 0 0 0 0 0 0 0 0 0 0 0 0 0 0 0 0 0\n",
              " [8821] 0 0 0 0 0 0 0 0 0 0 0 0 0 0 0 0 0 0 0 0 0 0 0 0 0 0 0 0 0 0 0 0 0 0 0 0\n",
              " [8857] 0 0 0 0 0 0 0 0 0 0 0 0 0 0 0 0 0 0 0 0 0 0 0 0 0 0 0 0 0 0 0 0 0 0 0 0\n",
              " [8893] 0 0 0 0 0 0 0 0 0 0 0 0 0 0 0 0 0 0 0 0 0 0 0 0 0 0 0 0 0 0 0 0 0 0 0 0\n",
              " [8929] 0 0 0 0 0 0 0 0 0 0 0 0 0 0 0 0 0 0 0 0 0 0 0 0 0 0 0 0 0 0 0 0 0 0 0 0\n",
              " [8965] 0 0 0 0 0 0 0 0 0 0 0 0 0 0 0 0 0 0 0 0 0 0 0 0 0 0 0 0 0 0 0 0 0 0 0 0\n",
              " [9001] 0 0 0 0 0 0 0 0 0 0 0 0 0 0 0 0 0 0 0 0 0 0 0 0 0 0 0 0 0 0 0 0 0 0 0 0\n",
              " [9037] 0 0 0 0 0 0 0 0 0 0 0 0 0 0 0 0 0 0 0 0 0 0 0 0 0 0 0 0 0 0 0 0 0 0 0 0\n",
              " [9073] 0 0 0 0 0 0 0 0 0 0 0 0 0 0 0 0 0 0 0 0 0 0 0 0 0 0 0 0 0 0 0 0 0 0 0 0\n",
              " [9109] 0 0 0 0 0 0 0 0 0 0 0 0 0 0 0 0 0 0 0 0 0 0 0 0 0 0 0 0 0 0 0 0 0 0 0 0\n",
              " [9145] 0 0 0 0 0 0 0 0 0 0 0 0 0 0 0 0 0 0 0 0 0 0 0 0 0 0 0 0 0 0 0 0 0 0 0 0\n",
              " [9181] 0 0 0 0 0 0 0 0 0 0 0 0 0 0 0 0 0 0 0 0 0 0 0 0 0 0 0 0 0 0 0 0 0 0 0 0\n",
              " [9217] 0 0 0 0 0 0 0 0 0 0 0 0 0 0 0 0 0 0 0 0 0 0 0 0 0 0 0 0 0 0 0 0 0 0 0 0\n",
              " [9253] 0 0 0 0 0 0 0 0 0 0 0 0 0 0 0 0 0 0 0 0 0 0 0 0 0 0 0 0 0 0 0 0 0 0 0 0\n",
              " [9289] 0 0 0 0 0 0 0 0 0 0 0 0 0 0 0 0 0 0 0 0 0 0 0 0 0 0 0 0 0 0 0 0 0 0 0 0\n",
              " [9325] 0 0 0 0 0 0 0 0 0 0 0 0 0 0 0 0 0 0 0 0 0 0 0 0 0 0 0 0 0 0 0 0 0 0 0 0\n",
              " [9361] 0 0 0 0 0 0 0 0 0 0 0 0 0 0 0 0 0 0 0 0 0 0 0 0 0 0 0 0 0 0 0 0 0 0 0 0\n",
              " [9397] 0 0 0 0 0 0 0 0 0 0 0 0 0 0 0 0 0 0 0 0 0 0 0 0 0 0 0 0 0 0 0 0 0 0 0 0\n",
              " [9433] 0 0 0 0 0 0 0 0 0 0 0 0 0 0 0 0 0 0 0 0 0 0 0 0 0 0 0 0 0 0 0 0 0 0 0 0\n",
              " [9469] 0 0 0 0 0 0 0 0 0 0 0 0 0 0 0 0 0 0 0 0 0 0 0 0 0 0 0 0 0 0 0 0 0 0 0 0\n",
              " [9505] 0 0 0 0 0 0 0 0 0 0 0 0 0 0 0 0 0 0 0 0 0 0 0 0 0 0 0 0 0 0 0 0 0 0 0 0\n",
              " [9541] 0 0 0 0 0 0 0 0 0 0 0 0 0 0 0 0 0 0 0 0 0 0 0 0 0 0 0 0 0 0 0 0 0 0 0 0\n",
              " [9577] 0 0 0 0 0 0 0 0 0 0 0 0 0 0 0 0 0 0 0 0 0 0 0 0 0 0 0 0 0 0 0 0 0 0 0 0\n",
              " [9613] 0 0 0 0 0 0 0 0 0 0 0 0 0 0 0 0 0 0 0 0 0 0 0 0 0 0 0 0 0 0 0 0 0 0 0 0\n",
              " [9649] 0 0 0 0 0 0 0 0 0 0 0 0 0 0 0 0 0 0 0 0 0 0 0 0 0 0 0 0 0 0 0 0 0 0 0 0\n",
              " [9685] 0 0 0 0 0 0 0 0 0 0 0 0 0 0 0 0 0 0 0 0 0 0 0 0 0 0 0 0 0 0 0 0 0 0 0 0\n",
              " [9721] 0 0 0 0 0 0 0 0 0 0 0 0 0 0 0 0 0 0 0 0 0 0 0 0 0 0 0 0 0 0 0 0 0 0 0 0\n",
              " [9757] 0 0 0 0 0 0 0 0 0 0 0 0 0 0 0 0 0 0 0 0 0 0 0 0 0 0 0 0 0 0 0 0 0 0 0 0\n",
              " [9793] 0 0 0 0 0 0 0 0 0 0 0 0 0 0 0 0 0 0 0 0 0 0 0 0 0 0 0 0 0 0 0 0 0 0 0 0\n",
              " [9829] 0 0 0 0 0 0 0 0 0 0 0 0 0 0 0 0 0 0 0 0 0 0 0 0 0 0 0 0 0 0 0 0 0 0 0 0\n",
              " [9865] 0 0 0 0 0 0 0 0 0 0 0 0 0 0 0 0 0 0 0 0 0 0 0 0 0 0 0 0 0 0 0 0 0 0 0 0\n",
              " [9901] 0 0 0 0 0 0 0 0 0 0 0 0 0 0 0 0 0 0 0 0 0 0 0 0 0 0 0 0 0 0 0 0 0 0 0 0\n",
              " [9937] 0 0 0 0 0 0 0 0 0 0 0 0 0 0 0 0 0 0 0 0 0 0 0 0 0 0 0 0 0 0 0 0 0 0 0 0\n",
              " [9973] 0 0 0 0 0 0 0 0 0 0 0 0 0 0 0 0 0 0 0 0 0 0 0 0 0 0 0 0 0 0 0 0 0 0 0 0\n",
              "[10009] 0 0 0 0 0 0 0 0 0 0 0 0 0 0 0 0 0 0 0 0 0 0 0 0 0 0 0 0 0 0 0 0 0 0 0 0\n",
              "[10045] 0 0 0 0 0 0 0 0 0 0 0 0 0 0 0 0 0 0 0 0 0 0 0 0 0 0 0 0 0 0 0 0 0 0 0 0\n",
              "[10081] 0 0 0 0 0 0 0 0 0 0 0 0 0 0 0 0 0 0 0 0 0 0 0 0 0 0 0 0 0 0 0 0 0 0 0 0\n",
              "[10117] 0 0 0 0 0 0 0 0 0 0 0 0 0 0 0 0 0 0 0 0 0 0 0 0 0 0 0 0 0 0 0 0 0 0 0 0\n",
              "[10153] 0 0 0 0 0 0 0 0 0 0 0 0 0 0 0 0 0 0 0 0 0 0 0 0 0 0 0 0 0 0 0 0 0 0 0 0\n",
              "[10189] 0 0 0 0 0 0 0 0 0 0 0 0 0 0 0 0 0 0 0 0 0 0 0 0 0 0 0 0 0 0 0 0 0 0 0 0\n",
              "[10225] 0 0 0 0 0 0 0 0 0 0 0 0 0 0 0 0 0 0 0 0 0 0 0 0 0 0 0 0 0 0 0 0 0 0 0 0\n",
              "[10261] 0 0 0 0 0 0 0 0 0 0 0 0 0 0 0 0 0 0 0 0 0 0 0 0 0 0 0 0 0 0 0 0 0 0 0 0\n",
              "[10297] 0 0 0 0 0 0 0 0 0 0 0 0 0 0 0 0 0 0 0 0 0 0 0 0 0 0 0 0 0 0 0 0 0 0 0 0\n",
              "[10333] 0 0 0 0 0 0 0 0 0 0 0 0 0 0 0 0 0 0 0 0 0 0 0 0 0 0 0 0 0 0 0 0 0 0 0 0\n",
              "[10369] 0 0 0 0 0 0 0 0 0 0 0 0 0 0 0 0 0 0 0 0 0 0 0 0 0 0 0 0 0 0 0 0 0 0 0 0\n",
              "[10405] 0 0 0 0 0 0 0 0 0 0 0 0 0 0 0 0 0 0 0 0 0 0 0 0 0 0 0 0 0 0 0 0 0 0 0 0\n",
              "[10441] 0 0 0 0 0 0 0 0 0 0 0 0 0 0 0 0 0 0 0 0 0 0 0 0 0 0 0 0 0 0 0 0 0 0 0 0\n",
              "[10477] 0 0 0 0 0 0 0 0 0 0 0 0 0 0 0 0 0 0 0 0 0 0 0 0 0 0 0 0 0 0 0 0 0 0 0 0\n",
              "[10513] 0 0 0 0 0 0 0 0 0 0 0 0 0 0 0 0 0 0 0 0 0 0 0 0 0 0 0 0 0 0 0 0 0 0 0 0\n",
              "[10549] 0 0 0 0 0 0 0 0 0 0 0 0 0 0 0 0 0 0 0 0 0 0 0 0 0 0 0 0 0 0 0 0 0 0 0 0\n",
              "[10585] 0 0 0 0 0 0 0 0 0 0 0 0 0 0 0 0 0 0 0 0 0 0 0 0 0 0 0 0 0 0 0 0 0 0 0 0\n",
              "[10621] 0 0 0 0 0 0 0 0 0 0 0 0 0 0 0 0 0 0 0 0 0 0 0 0 0 0 0 0 0 0 0 0 0 0 0 0\n",
              "[10657] 0 0 0 0 0 0 0 0 0 0 0 0 0 0 0 0 0 0 0 0 0 0 0 0 0 0 0 0 0 0 0 0 0 0 0 0\n",
              "[10693] 0 0 0 0 0 0 0 0 0 0 0 0 0 0 0 0 0 0 0 0 0 0 0 0 0 0 0 0 0 0 0 0 0 0 0 0\n",
              "[10729] 0 0 0 0 0 0 0 0 0 0 0 0 0 0 0 0 0 0 0 0 0 0 0 0 0 0 0 0 0 0 0 0 0 0 0 0\n",
              "[10765] 0 0 0 0 0 0 0 0 0 0 0 0 0 0 0 0 0 0 0 0 0 0 0 0 0 0 0 0 0 0 0 0 0 0 0 0\n",
              "[10801] 0 0 0 0 0 0 0 0 0 0 0 0 0 0 0 0 0 0 0 0 0 0 0 0 0 0 0 0 0 0 0 0 0 0 0 0\n",
              "[10837] 0 0 0 0 0 0 0 0 0 0 0 0 0 0 0 0 0 0 0 0 0 0 0 0 0 0 0 0 0 0 0 0 0 0 0 0\n",
              "[10873] 0 0 0 0 0 0 0 0 0 0 0 0 0 0 0 0 0 0 0 0 0 0 0 0 0 0 0 0 0 0 0 0 0 0 0 0\n",
              "[10909] 0 0 0 0 0 0 0 0 0 0 0 0 0 0 0 0 0 0 0 0 0 0 0 0 0 0 0 0 0 0 0 0 0 0 0 0\n",
              "[10945] 0 0 0 0 0 0 0 0 0 0 0 0 0 0 0 0 0 0 0 0 0 0 0 0 0 0 0 0 0 0 0 0 0 0 0 0\n",
              "[10981] 0 0 0 0 0 0 0 0 0 0 0 0 0 0 0 0 0 0 0 0 0 0 0 0 0 0 0 0 0 0 0 0 0 0 0 0\n",
              "[11017] 0 0 0 0 0 0 0 0 0 0 0 0 0 0 0 0 0 0 0 0 0 0 0 0 0 0 0 0 0 0 0 0 0 0 0 0\n",
              "[11053] 0 0 0 0 0 0 0 0 0 0 0 0 0 0 0 0 0 0 0 0 0 0 0 0 0 0 0 0 0 0 0 0 0 0 0 0\n",
              "[11089] 0 0 0 0 0 0 0 0 0 0 0 0 0 0 0 0 0 0 0 0 0 0 0 0 0 0 0 0 0 0 0 0 0 0 0 0\n",
              "[11125] 0 0 0 0 0 0 0 0 0 0 0 0 0 0 0 0 0 0 0 0 0 0 0 0 0 0 0 0 0 0 0 0 0 0 0 0\n",
              "[11161] 0 0 0 0 0 0 0 0 0 0 0 0 0 0 0 0 0 0 0 0 0 0 0 0 0 0 0 0 0 0 0 0 0 0 0 0\n",
              "[11197] 0 0 0 0 0 0 0 0 0 0 0 0 0 0 0 0 0 0 0 0 0 0 0 0 0 0 0 0 0 0 0 0 0 0 0 0\n",
              "[11233] 0 0 0 0 0 0 0 0 0 0 0 0 0 0 0 0 0 0 0 0 0 0 0 0 0 0 0 0 0 0 0 0 0 0 0 0\n",
              "[11269] 0 0 0 0 0 0 0 0 0 0 0 0 0 0 0 0 0 0 0 0 0 0 0 0 0 0 0 0 0 0 0 0 0 0 0 0\n",
              "[11305] 0 0 0 0 0 0 0 0 0 0 0 0 0 0 0 0 0 0 0 0 0 0 0 0 0 0 0 0 0 0 0 0 0 0 0 0\n",
              "[11341] 0 0 0 0 0 0 0 0 0 0 0 0 0 0 0 0 0 0 0 0 0 0 0 0 0 0 0 0 0 0 0 0 0 0 0 0\n",
              "[11377] 0 0 0 0 0 0 0 0 0 0 0 0 0 0 0 0 0 0 0 0 0 0 0 0 0 0 0 0 0 0 0 0 0 0 0 0\n",
              "[11413] 0 0 0 0 0 0 0 0 0 0 0 0 0 0 0 0 0 0 0 0 0 0 0 0 0 0 0 0 0 0 0 0 0 0 0 0\n",
              "[11449] 0 0 0 0 0 0 0 0 0 0 0 0 0 0 0 0 0 0 0 0 0 0 0 0 0 0 0 0 0 0 0 0 0 0 0 0\n",
              "[11485] 0 0 0 0 0 0 0 0 0 0 0 0 0 0 0 0 0 0 0 0 0 0 0 0 0 0 0 0 0 0 0 0 0 0 0 0\n",
              "[11521] 0 0 0 0 0 0 0 0 0 0 0 0 0 0 0 0 0 0 0 0 0 0 0 0 0 0 0 0 0 0 0 0 0 0 0 0\n",
              "[11557] 0 0 0 0 0 0 0 0 0 0 0 0 0 0 0 0 0 0 0 0 0 0 0 0 0 0 0 0 0 0 0 0 0 0 0 0\n",
              "[11593] 0 0 0 0 0 0 0 0 0 0 0 0 0 0 0 0 0 0 0 0 0 0 0 0 0 0 0 0 0 0 0 0 0 0 0 0\n",
              "[11629] 0 0 0 0 0 0 0 0 0 0 0 0 0 0 0 0 0 0 0 0 0 0 0 0 0 0 0 0 0 0 0 0 0 0 0 0\n",
              "[11665] 0 0 0 0 0 0 0 0 0 0 0 0 0 0 0 0 0 0 0 0 0 0 0 0 0 0 0 0 0 0 0 0 0 0 0 0\n",
              "[11701] 0 0 0 0 0 0 0 0 0 0 0 0 0 0 0 0 0 0 0 0 0 0 0 0 0 0 0 0 0 0 0 0 0 0 0 0\n",
              "[11737] 0 0 0 0 0 0 0 0 0 0 0 0 0 0 0 0 0 0 0 0 0 0 0 0 0 0 0 0 0 0 0 0 0 0 0 0\n",
              "[11773] 0 0 0 0 0 0 0 0 0 0 0 0 0 0 0 0 0 0 0 0 0 0 0 0 0 0 0 0 0 0 0 0 0 0 0 0\n",
              "[11809] 0 0 0 0 0 0 0 0 0 0 0 0 0 0 0 0 0 0 0 0 0 0 0 0 0 0 0 0 0 0 0 0 0 0 0 0\n",
              "[11845] 0 0 0 0 0 0 0 0 0 0 0 0 0 0 0 0 0 0 0 0 0 0 0 0 0 0 0 0 0 0 0 0 0 0 0 0\n",
              "[11881] 0 0 0 0 0 0 0 0 0 0 0 0 0 0 0 0 0 0 0 0 0 0 0 0 0 0 0 0 0 0 0 0 0 0 0 0\n",
              "[11917] 0 0 0 0 0 0 0 0 0 0 0 0 0 0 0 0 0 0 0 0 0 0 0 0 0 0 0 0 0 0 0 0 0 0 0 0\n",
              "[11953] 0 0 0 0 0 0 0 0 0 0 0 0 0 0 0 0 0 0 0 0 0 0 0 0 0 0 0 0 0 0 0 0 0 0 0 0\n",
              "[11989] 0 0 0 0 0 0 0 0 0 0 0 0 0 0 0 0 0 0 0 0 0 0 0 0 0 0 0 0 0 0 0 0 0 0 0 0\n",
              "[12025] 0 0 0 0 0 0 0 0 0 0 0 0 0 0 0 0 0 0 0 0 0 0 0 0 0 0 0 0 0 0 0 0 0 0 0 0\n",
              "[12061] 0 0 0 0 0 0 0 0 0 0 0 0 0 0 0 0 0 0 0 0 0 0 0 0 0 0 0 0 0 0 0 0 0 0 0 0\n",
              "[12097] 0 0 0 0 0 0 0 0 0 0 0 0 0 0 0 0 0 0 0 0 0 0 0 0 0 0 0 0 0 0 0 0 0 0 0 0\n",
              "[12133] 0 0 0 0 0 0 0 0 0 0 0 0 0 0 0 0 0 0 0 0 0 0 0 0 0 0 0 0 0 0 0 0 0 0 0 0\n",
              "[12169] 0 0 0 0 0 0 0 0 0 0 0 0 0 0 0 0 0 0 0 0 0 0 0 0 0 0 0 0 0 0 0 0 0 0 0 0\n",
              "[12205] 0 0 0 0 0 0 0 0 0 0 0 0 0 0 0 0 0 0 0 0 0 0 0 0 0 0 0 0 0 0 0 0 0 0 0 0\n",
              "[12241] 0 0 0 0 0 0 0 0 0 0 0 0 0 0 0 0 0 0 0 0 0 0 0 0 0 0 0 0 0 0 0 0 0 0 0 0\n",
              "[12277] 0 0 0 0 0 0 0 0 0 0 0 0 0 0 0 0 0 0 0 0 0 0 0 0 0 0 0 0 0 0 0 0 0 0 0 0\n",
              "[12313] 0 0 0 0 0 0 0 0 0 0 0 0 0 0 0 0 0 0 0 0 0 0 0 0 0 0 0 0 0 0 0 0 0 0 0 0\n",
              "[12349] 0 0 0 0 0 0 0 0 0 0 0 0 0 0 0 0 0 0 0 0 0 0 0 0 0 0 0 0 0 0 0 0 0 0 0 0\n",
              "[12385] 0 0 0 0 0 0 0 0 0 0 0 0 0 0 0 0 0 0 0 0 0 0 0 0 0 0 0 0 0 0 0 0 0 0 0 0\n",
              "[12421] 0 0 0 0 0 0 0 0 0 0 0 0 0 0 0 0 0 0 0 0 0 0 0 0 0 0 0 0 0 0 0 0 0 0 0 0\n",
              "[12457] 0 0 0 0 0 0 0 0 0 0 0 0 0 0 0 0 0 0 0 0 0 0 0 0 0 0 0 0 0 0 0 0 0 0 0 0\n",
              "[12493] 0 0 0 0 0 0 0 0 0 0 0 0 0 0 0 0 0 0 0 0 0 0 0 0 0 0 0 0 0 0 0 0 0 0 0 0\n",
              "[12529] 0 0 0 0 0 0 0 0 0 0 0 0 0 0 0 0 0 0 0 0 0 0 0 0 0 0 0 0 0 0 0 0 0 0 0 0\n",
              "[12565] 0 0 0 0 0 0 0 0 0 0 0 0 0 0 0 0 0 0 0 0 0 0 0 0 0 0 0 0 0 0 0 0 0 0 0 0\n",
              "[12601] 0 0 0 0 0 0 0 0 0 0 0 0 0 0 0 0 0 0 0 0 0 0 0 0 0 0 0 0 0 0 0 0 0 0 0 0\n",
              "[12637] 0 0 0 0 0 0 0 0 0 0 0 0 0 0 0 0 0 0 0 0 0 0 0 0 0 0 0 0 0 0 0 0 0 0 0 0\n",
              "[12673] 0 0 0 0 0 0 0 0 0 0 0 0 0 0 0 0 0 0 0 0 0 0 0 0 0 0 0 0 0 0 0 0 0 0 0 0\n",
              "[12709] 0 0 0 0 0 0 0 0 0 0 0 0 0 0 0 0 0 0 0 0 0 0 0 0 0 0 0 0 0 0 0 0 0 0 0 0\n",
              "[12745] 0 0 0 0 0 0 0 0 0 0 0 0 0 0 0 0 0 0 0 0 0 0 0 0 0 0 0 0 0 0 0 0 0 0 0 0\n",
              "[12781] 0 0 0 0 0 0 0 0 0 0 0 0 0 0 0 0 0 0 0 0 0 0 0 0 0 0 0 0 0 0 0 0 0 0 0 0\n",
              "[12817] 0 0 0 0 0 0 0 0 0 0 0 0 0 0 0 0 0 0 0 0 0 0 0 0 0 0 0 0 0 0 0 0 0 0 0 0\n",
              "[12853] 0 0 0 0 0 0 0 0 0 0 0 0 0 0 0 0 0 0 0 0 0 0 0 0 0 0 0 0 0 0 0 0 0 0 0 0\n",
              "[12889] 0 0 0 0 0 0 0 0 0 0 0 0 0 0 0 0 0 0 0 0 0 0 0 0 0 0 0 0 0 0 0 0 0 0 0 0\n",
              "[12925] 0 0 0 0 0 0 0 0 0 0 0 0 0 0 0 0 0 0 0 0 0 0 0 0 0 0 0 0 0 0 0 0 0 0 0 0\n",
              "[12961] 0 0 0 0 0 0 0 0 0 0 0 0 0 0 0 0 0 0 0 0 0 0 0 0 0 0 0 0 0 0 0 0 0 0 0 0\n",
              "[12997] 0 0 0 0 0 0 0 0 0 0 0 0 0 0 0 0 0 0 0 0 0 0 0 0 0 0 0 0 0 0 0 0 0 0 0 0\n",
              "[13033] 0 0 0 0 0 0 0 0 0 0 0 0 0 0 0 0 0 0 0 0 0 0 0 0 0 0 0 0 0 0 0 0 0 0 0 0\n",
              "[13069] 0 0 0 0 0 0 0 0 0 0 0 0 0 0 0 0 0 0 0 0 0 0 0 0 0 0 0 0 0 0 0 0 0 0 0 0\n",
              "[13105] 0 0 0 0 0 0 0 0 0 0 0 0 0 0 0 0 0 0 0 0 0 0 0 0 0 0 0 0 0 0 0 0 0 0 0 0\n",
              "[13141] 0 0 0 0 0 0 0 0 0 0 0 0 0 0 0 0 0 0 0 0 0 0 0 0 0 0 0 0 0 0 0 0 0 0 0 0\n",
              "[13177] 0 0 0 0 0 0 0 0 0 0 0 0 0 0 0 0 0 0 0 0 0 0 0 0 0 0 0 0 0 0 0 0 0 0 0 0\n",
              "[13213] 0 0 0 0 0 0 0 0 0 0 0 0 0 0 0 0 0 0 0 0 0 0 0 0 0 0 0 0 0 0 0 0 0 0 0 0\n",
              "[13249] 0 0 0 0 0 0 0 0 0 0 0 0 0 0 0 0 0 0 0 0 0 0 0 0 0 0 0 0 0 0 0 0 0 0 0 0\n",
              "[13285] 0 0 0 0 0 0 0 0 0 0 0 0 0 0 0 0 0 0 0 0 0 0 0 0 0 0 0 0 0 0 0 0 0 0 0 0\n",
              "[13321] 0 0 0 0 0 0 0 0 0 0 0 0 0 0 0 0 0 0 0 0 0 0 0 0 0 0 0 0 0 0 0 0 0 0 0 0\n",
              "[13357] 0 0 0 0 0 0 0 0 0 0 0 0 0 0 0 0 0 0 0 0 0 0 0 0 0 0 0 0 0 0 0 0 0 0 0 0\n",
              "[13393] 0 0 0 0 0 0 0 0 0 0 0 0 0 0 0 0 0 0 0 0 0 0 0 0 0 0 0 0 0 0 0 0 0 0 0 0\n",
              "[13429] 0 0 0 0 0 0 0 0 0 0 0 0 0 0 0 0 0 0 0 0 0 0 0 0 0 0 0 0 0 0 0 0 0 0 0 0\n",
              "[13465] 0 0 0 0 0 0 0 0 0 0 0 0 0 0 0 0 0 0 0 0 0 0 0 0 0 0 0 0 0 0 0 0 0 0 0 0\n",
              "[13501] 0 0 0 0 0 0 0 0 0 0 0 0 0 0 0 0 0 0 0 0 0 0 0 0 0 0 0 0 0 0 0 0 0 0 0 0\n",
              "[13537] 0 0 0 0 0 0 0 0 0 0 0 0 0 0 0 0 0 0 0 0 0 0 0 0 0 0 0 0 0 0 0 0 0 0 0 0\n",
              "[13573] 0 0 0 0 0 0 0 0 0 0 0 0 0 0 0 0 0 0 0 0 0 0 0 0 0 0 0 0 0 0 0 0 0 0 0 0\n",
              "[13609] 0 0 0 0 0 0 0 0 0 0 0 0 0 0 0 0 0 0 0 0 0 0 0 0 0 0 0 0 0 0 0 0 0 0 0 0\n",
              "[13645] 0 0 0 0 0 0 0 0 0 0 0 0 0 0 0 0 0 0 0 0 0 0 0 0 0 0 0 0 0 0 0 0 0 0 0 0\n",
              "[13681] 0 0 0 0 0 0 0 0 0 0 0 0 0 0 0 0 0 0 0 0 0 0 0 0 0 0 0 0 0 0 0 0 0 0 0 0\n",
              "[13717] 0 0 0 0 0 0 0 0 0 0 0 0 0 0 0 0 0 0 0 0 0 0 0 0 0 0 0 0 0 0 0 0 0 0 0 0\n",
              "[13753] 0 0 0 0 0 0 0 0 0 0 0 0 0 0 0 0 0 0 0 0 0 0 0 0 0 0 0 0 0 0 0 0 0 0 0 0\n",
              "[13789] 0 0 0 0 0 0 0 0 0 0 0 0 0 0 0 0 0 0 0 0 0 0 0 0 0 0 0 0 0 0 0 0 0 0 0 0\n",
              "[13825] 0 0 0 0 0 0 0 0 0 0 0 0 0 0 0 0 0 0 0 0 0 0 0 0 0 0 0 0 0 0 0 0 0 0 0 0\n",
              "[13861] 0 0 0 0 0 0 0 0 0 0 0 0 0 0 0 0 0 0 0 0 0 0 0 0 0 0 0 0 0 0 0 0 0 0 0 0\n",
              "[13897] 0 0 0 0 0 0 0 0 0 0 0 0 0 0 0 0 0 0 0 0 0 0 0 0 0 0 0 0 0 0 0 0 0 0 0 0\n",
              "[13933] 0 0 0 0 0 0 0 0 0 0 0 0 0 0 0 0 0 0 0 0 0 0 0 0 0 0 0 0 0 0 0 0 0 0 0 0\n",
              "[13969] 0 0 0 0 0 0 0 0 0 0 0 0 0 0 0 0 0 0 0 0 0 0 0 0 0 0 0 0 0 0 0 0 0 0 0 0\n",
              "[14005] 0 0 0 0 0 0 0 0 0 0 0 0 0 0 0 0 0 0 0 0 0 0 0 0 0 0 0 0 0 0 0 0 0 0 0 0\n",
              "[14041] 0 0 0 0 0 0 0 0 0 0 0 0 0 0 0 0 0 0 0 0 0 0 0 0 0 0 0 0 0 0 0 0 0 0 0 0\n",
              "[14077] 0 0 0 0 0 0 0 0 0 0 0 0 0 0 0 0 0 0 0 0 0 0 0 0 0 0 0 0 0 0 0 0 0 0 0 0\n",
              "[14113] 0 0 0 0 0 0 0 0 0 0 0 0 0 0 0 0 0 0 0 0 0 0 0 0 0 0 0 0 0 0 0 0 0 0 0 0\n",
              "[14149] 0 0 0 0 0 0 0 0 0 0 0 0 0 0 0 0 0 0 0 0 0 0 0 0 0 0 0 0 0 0 0 0 0 0 0 0\n",
              "[14185] 0 0 0 0 0 0 0 0 0 0 0 0 0 0 0 0 0 0 0 0 0 0 0 0 0 0 0 0 0 0 0 0 0 0 0 0\n",
              "[14221] 0 0 0 0 0 0 0 0 0 0 0 0 0 0 0 0 0 0 0 0 0 0 0 0 0 0 0 0 0 0 0 0 0 0 0 0\n",
              "[14257] 0 0 0 0 0 0 0 0 0 0 0 0 0 0 0 0 0 0 0 0 0 0 0 0 0 0 0 0 0 0 0 0 0 0 0 0\n",
              "[14293] 0 0 0 0 0 0 0 0 0 0 0 0 0 0 0 0 0 0 0 0 0 0 0 0 0 0 0 0 0 0 0 0 0 0 0 0\n",
              "[14329] 0 0 0 0 0 0 0 0 0 0 0 0 0 0 0 0 0 0 0 0 0 0 0 0 0 0 0 0 0 0 0 0 0 0 0 0\n",
              "[14365] 0 0 0 0 0 0 0 0 0 0 0 0 0 0 0 0 0 0 0 0 0 0 0 0 0 0 0 0 0 0 0 0 0 0 0 0\n",
              "[14401] 0 0 0 0 0 0 0 0 0 0 0 0 0 0 0 0 0 0 0 0 0 0 0 0 0 0 0 0 0 0 0 0 0 0 0 0\n",
              "[14437] 0 0 0 0 0 0 0 0 0 0 0 0 0 0 0 0 0 0 0 0 0 0 0 0 0 0 0 0 0 0 0 0 0 0 0 0\n",
              "[14473] 0 0 0 0 0 0 0 0 0 0 0 0 0 0 0 0 0 0 0 0 0 0 0 0 0 0 0 0 0 0 0 0 0 0 0 0\n",
              "[14509] 0 0 0 0 0 0 0 0 0 0 0 0 0 0 0 0 0 0 0 0 0 0 0 0 0 0 0 0 0 0 0 0 0 0 0 0\n",
              "[14545] 0 0 0 0 0 0 0 0 0 0 0 0 0 0 0 0 0 0 0 0 0 0 0 0 0 0 0 0 0 0 0 0 0 0 0 0\n",
              "[14581] 0 0 0 0 0 0 0 0 0 0 0 0 0 0 0 0 0 0 0 0 0 0 0 0 0 0 0 0 0 0 0 0 0 0 0 0\n",
              "[14617] 0 0 0 0 0 0 0 0 0 0 0 0 0 0 0 0 0 0 0 0 0 0 0 0 0 0 0 0 0 0 0 0 0 0 0 0\n",
              "[14653] 0 0 0 0 0 0 0 0 0 0 0 0 0 0 0 0 0 0 0 0 0 0 0 0 0 0 0 0 0 0 0 0 0 0 0 0\n",
              "[14689] 0 0 0 0 0 0 0 0 0 0 0 0 0 0 0 0 0 0 0 0 0 0 0 0 0 0 0 0 0 0 0 0 0 0 0 0\n",
              "[14725] 0 0 0 0 0 0 0 0 0 0 0 0 0"
            ],
            "text/latex": "\\begin{enumerate*}\n\\item 0\n\\item 0\n\\item 0\n\\item 0\n\\item 0\n\\item 0\n\\item 0\n\\item 0\n\\item 0\n\\item 0\n\\item 0\n\\item 0\n\\item 0\n\\item 0\n\\item 0\n\\item 0\n\\item 0\n\\item 0\n\\item 0\n\\item 0\n\\item 0\n\\item 0\n\\item 0\n\\item 0\n\\item 0\n\\item 0\n\\item 0\n\\item 0\n\\item 0\n\\item 0\n\\item 0\n\\item 0\n\\item 0\n\\item 0\n\\item 0\n\\item 0\n\\item 0\n\\item 0\n\\item 0\n\\item 0\n\\item 0\n\\item 0\n\\item 0\n\\item 0\n\\item 0\n\\item 0\n\\item 0\n\\item 0\n\\item 0\n\\item 0\n\\item 0\n\\item 0\n\\item 0\n\\item 0\n\\item 0\n\\item 0\n\\item 0\n\\item 0\n\\item 0\n\\item 0\n\\item 0\n\\item 0\n\\item 0\n\\item 0\n\\item 0\n\\item 0\n\\item 0\n\\item 0\n\\item 0\n\\item 0\n\\item 0\n\\item 0\n\\item 0\n\\item 0\n\\item 0\n\\item 0\n\\item 0\n\\item 0\n\\item 0\n\\item 0\n\\item 0\n\\item 0\n\\item 0\n\\item 0\n\\item 0\n\\item 0\n\\item 0\n\\item 0\n\\item 0\n\\item 0\n\\item 0\n\\item 0\n\\item 0\n\\item 0\n\\item 0\n\\item 0\n\\item 0\n\\item 0\n\\item 0\n\\item 0\n\\item 0\n\\item 0\n\\item 0\n\\item 0\n\\item 0\n\\item 0\n\\item 0\n\\item 0\n\\item 0\n\\item 0\n\\item 0\n\\item 0\n\\item 0\n\\item 0\n\\item 0\n\\item 0\n\\item 0\n\\item 0\n\\item 0\n\\item 0\n\\item 0\n\\item 0\n\\item 0\n\\item 0\n\\item 0\n\\item 0\n\\item 0\n\\item 0\n\\item 0\n\\item 0\n\\item 0\n\\item 0\n\\item 0\n\\item 0\n\\item 0\n\\item 0\n\\item 0\n\\item 0\n\\item 0\n\\item 0\n\\item 0\n\\item 0\n\\item 0\n\\item 0\n\\item 0\n\\item 0\n\\item 0\n\\item 0\n\\item 0\n\\item 0\n\\item 0\n\\item 0\n\\item 0\n\\item 0\n\\item 0\n\\item 0\n\\item 0\n\\item 0\n\\item 0\n\\item 0\n\\item 0\n\\item 0\n\\item 0\n\\item 0\n\\item 0\n\\item 0\n\\item 0\n\\item 0\n\\item 0\n\\item 0\n\\item 0\n\\item 0\n\\item 0\n\\item 0\n\\item 0\n\\item 0\n\\item 0\n\\item 0\n\\item 0\n\\item 0\n\\item 0\n\\item 0\n\\item 0\n\\item 0\n\\item 0\n\\item 0\n\\item 0\n\\item 0\n\\item 0\n\\item 0\n\\item 0\n\\item 0\n\\item 0\n\\item 0\n\\item 0\n\\item 0\n\\item 0\n\\item 0\n\\item 0\n\\item 0\n\\item ⋯\n\\item 0\n\\item 0\n\\item 0\n\\item 0\n\\item 0\n\\item 0\n\\item 0\n\\item 0\n\\item 0\n\\item 0\n\\item 0\n\\item 0\n\\item 0\n\\item 0\n\\item 0\n\\item 0\n\\item 0\n\\item 0\n\\item 0\n\\item 0\n\\item 0\n\\item 0\n\\item 0\n\\item 0\n\\item 0\n\\item 0\n\\item 0\n\\item 0\n\\item 0\n\\item 0\n\\item 0\n\\item 0\n\\item 0\n\\item 0\n\\item 0\n\\item 0\n\\item 0\n\\item 0\n\\item 0\n\\item 0\n\\item 0\n\\item 0\n\\item 0\n\\item 0\n\\item 0\n\\item 0\n\\item 0\n\\item 0\n\\item 0\n\\item 0\n\\item 0\n\\item 0\n\\item 0\n\\item 0\n\\item 0\n\\item 0\n\\item 0\n\\item 0\n\\item 0\n\\item 0\n\\item 0\n\\item 0\n\\item 0\n\\item 0\n\\item 0\n\\item 0\n\\item 0\n\\item 0\n\\item 0\n\\item 0\n\\item 0\n\\item 0\n\\item 0\n\\item 0\n\\item 0\n\\item 0\n\\item 0\n\\item 0\n\\item 0\n\\item 0\n\\item 0\n\\item 0\n\\item 0\n\\item 0\n\\item 0\n\\item 0\n\\item 0\n\\item 0\n\\item 0\n\\item 0\n\\item 0\n\\item 0\n\\item 0\n\\item 0\n\\item 0\n\\item 0\n\\item 0\n\\item 0\n\\item 0\n\\item 0\n\\item 0\n\\item 0\n\\item 0\n\\item 0\n\\item 0\n\\item 0\n\\item 0\n\\item 0\n\\item 0\n\\item 0\n\\item 0\n\\item 0\n\\item 0\n\\item 0\n\\item 0\n\\item 0\n\\item 0\n\\item 0\n\\item 0\n\\item 0\n\\item 0\n\\item 0\n\\item 0\n\\item 0\n\\item 0\n\\item 0\n\\item 0\n\\item 0\n\\item 0\n\\item 0\n\\item 0\n\\item 0\n\\item 0\n\\item 0\n\\item 0\n\\item 0\n\\item 0\n\\item 0\n\\item 0\n\\item 0\n\\item 0\n\\item 0\n\\item 0\n\\item 0\n\\item 0\n\\item 0\n\\item 0\n\\item 0\n\\item 0\n\\item 0\n\\item 0\n\\item 0\n\\item 0\n\\item 0\n\\item 0\n\\item 0\n\\item 0\n\\item 0\n\\item 0\n\\item 0\n\\item 0\n\\item 0\n\\item 0\n\\item 0\n\\item 0\n\\item 0\n\\item 0\n\\item 0\n\\item 0\n\\item 0\n\\item 0\n\\item 0\n\\item 0\n\\item 0\n\\item 0\n\\item 0\n\\item 0\n\\item 0\n\\item 0\n\\item 0\n\\item 0\n\\item 0\n\\item 0\n\\item 0\n\\item 0\n\\item 0\n\\item 0\n\\item 0\n\\item 0\n\\item 0\n\\item 0\n\\item 0\n\\item 0\n\\item 0\n\\item 0\n\\item 0\n\\item 0\n\\item 0\n\\item 0\n\\item 0\n\\end{enumerate*}\n",
            "text/markdown": "1. 0\n2. 0\n3. 0\n4. 0\n5. 0\n6. 0\n7. 0\n8. 0\n9. 0\n10. 0\n11. 0\n12. 0\n13. 0\n14. 0\n15. 0\n16. 0\n17. 0\n18. 0\n19. 0\n20. 0\n21. 0\n22. 0\n23. 0\n24. 0\n25. 0\n26. 0\n27. 0\n28. 0\n29. 0\n30. 0\n31. 0\n32. 0\n33. 0\n34. 0\n35. 0\n36. 0\n37. 0\n38. 0\n39. 0\n40. 0\n41. 0\n42. 0\n43. 0\n44. 0\n45. 0\n46. 0\n47. 0\n48. 0\n49. 0\n50. 0\n51. 0\n52. 0\n53. 0\n54. 0\n55. 0\n56. 0\n57. 0\n58. 0\n59. 0\n60. 0\n61. 0\n62. 0\n63. 0\n64. 0\n65. 0\n66. 0\n67. 0\n68. 0\n69. 0\n70. 0\n71. 0\n72. 0\n73. 0\n74. 0\n75. 0\n76. 0\n77. 0\n78. 0\n79. 0\n80. 0\n81. 0\n82. 0\n83. 0\n84. 0\n85. 0\n86. 0\n87. 0\n88. 0\n89. 0\n90. 0\n91. 0\n92. 0\n93. 0\n94. 0\n95. 0\n96. 0\n97. 0\n98. 0\n99. 0\n100. 0\n101. 0\n102. 0\n103. 0\n104. 0\n105. 0\n106. 0\n107. 0\n108. 0\n109. 0\n110. 0\n111. 0\n112. 0\n113. 0\n114. 0\n115. 0\n116. 0\n117. 0\n118. 0\n119. 0\n120. 0\n121. 0\n122. 0\n123. 0\n124. 0\n125. 0\n126. 0\n127. 0\n128. 0\n129. 0\n130. 0\n131. 0\n132. 0\n133. 0\n134. 0\n135. 0\n136. 0\n137. 0\n138. 0\n139. 0\n140. 0\n141. 0\n142. 0\n143. 0\n144. 0\n145. 0\n146. 0\n147. 0\n148. 0\n149. 0\n150. 0\n151. 0\n152. 0\n153. 0\n154. 0\n155. 0\n156. 0\n157. 0\n158. 0\n159. 0\n160. 0\n161. 0\n162. 0\n163. 0\n164. 0\n165. 0\n166. 0\n167. 0\n168. 0\n169. 0\n170. 0\n171. 0\n172. 0\n173. 0\n174. 0\n175. 0\n176. 0\n177. 0\n178. 0\n179. 0\n180. 0\n181. 0\n182. 0\n183. 0\n184. 0\n185. 0\n186. 0\n187. 0\n188. 0\n189. 0\n190. 0\n191. 0\n192. 0\n193. 0\n194. 0\n195. 0\n196. 0\n197. 0\n198. 0\n199. 0\n200. 0\n201. ⋯\n202. 0\n203. 0\n204. 0\n205. 0\n206. 0\n207. 0\n208. 0\n209. 0\n210. 0\n211. 0\n212. 0\n213. 0\n214. 0\n215. 0\n216. 0\n217. 0\n218. 0\n219. 0\n220. 0\n221. 0\n222. 0\n223. 0\n224. 0\n225. 0\n226. 0\n227. 0\n228. 0\n229. 0\n230. 0\n231. 0\n232. 0\n233. 0\n234. 0\n235. 0\n236. 0\n237. 0\n238. 0\n239. 0\n240. 0\n241. 0\n242. 0\n243. 0\n244. 0\n245. 0\n246. 0\n247. 0\n248. 0\n249. 0\n250. 0\n251. 0\n252. 0\n253. 0\n254. 0\n255. 0\n256. 0\n257. 0\n258. 0\n259. 0\n260. 0\n261. 0\n262. 0\n263. 0\n264. 0\n265. 0\n266. 0\n267. 0\n268. 0\n269. 0\n270. 0\n271. 0\n272. 0\n273. 0\n274. 0\n275. 0\n276. 0\n277. 0\n278. 0\n279. 0\n280. 0\n281. 0\n282. 0\n283. 0\n284. 0\n285. 0\n286. 0\n287. 0\n288. 0\n289. 0\n290. 0\n291. 0\n292. 0\n293. 0\n294. 0\n295. 0\n296. 0\n297. 0\n298. 0\n299. 0\n300. 0\n301. 0\n302. 0\n303. 0\n304. 0\n305. 0\n306. 0\n307. 0\n308. 0\n309. 0\n310. 0\n311. 0\n312. 0\n313. 0\n314. 0\n315. 0\n316. 0\n317. 0\n318. 0\n319. 0\n320. 0\n321. 0\n322. 0\n323. 0\n324. 0\n325. 0\n326. 0\n327. 0\n328. 0\n329. 0\n330. 0\n331. 0\n332. 0\n333. 0\n334. 0\n335. 0\n336. 0\n337. 0\n338. 0\n339. 0\n340. 0\n341. 0\n342. 0\n343. 0\n344. 0\n345. 0\n346. 0\n347. 0\n348. 0\n349. 0\n350. 0\n351. 0\n352. 0\n353. 0\n354. 0\n355. 0\n356. 0\n357. 0\n358. 0\n359. 0\n360. 0\n361. 0\n362. 0\n363. 0\n364. 0\n365. 0\n366. 0\n367. 0\n368. 0\n369. 0\n370. 0\n371. 0\n372. 0\n373. 0\n374. 0\n375. 0\n376. 0\n377. 0\n378. 0\n379. 0\n380. 0\n381. 0\n382. 0\n383. 0\n384. 0\n385. 0\n386. 0\n387. 0\n388. 0\n389. 0\n390. 0\n391. 0\n392. 0\n393. 0\n394. 0\n395. 0\n396. 0\n397. 0\n398. 0\n399. 0\n400. 0\n401. 0\n\n\n",
            "text/html": [
              "<style>\n",
              ".list-inline {list-style: none; margin:0; padding: 0}\n",
              ".list-inline>li {display: inline-block}\n",
              ".list-inline>li:not(:last-child)::after {content: \"\\00b7\"; padding: 0 .5ex}\n",
              "</style>\n",
              "<ol class=list-inline><li>0</li><li>0</li><li>0</li><li>0</li><li>0</li><li>0</li><li>0</li><li>0</li><li>0</li><li>0</li><li>0</li><li>0</li><li>0</li><li>0</li><li>0</li><li>0</li><li>0</li><li>0</li><li>0</li><li>0</li><li>0</li><li>0</li><li>0</li><li>0</li><li>0</li><li>0</li><li>0</li><li>0</li><li>0</li><li>0</li><li>0</li><li>0</li><li>0</li><li>0</li><li>0</li><li>0</li><li>0</li><li>0</li><li>0</li><li>0</li><li>0</li><li>0</li><li>0</li><li>0</li><li>0</li><li>0</li><li>0</li><li>0</li><li>0</li><li>0</li><li>0</li><li>0</li><li>0</li><li>0</li><li>0</li><li>0</li><li>0</li><li>0</li><li>0</li><li>0</li><li>0</li><li>0</li><li>0</li><li>0</li><li>0</li><li>0</li><li>0</li><li>0</li><li>0</li><li>0</li><li>0</li><li>0</li><li>0</li><li>0</li><li>0</li><li>0</li><li>0</li><li>0</li><li>0</li><li>0</li><li>0</li><li>0</li><li>0</li><li>0</li><li>0</li><li>0</li><li>0</li><li>0</li><li>0</li><li>0</li><li>0</li><li>0</li><li>0</li><li>0</li><li>0</li><li>0</li><li>0</li><li>0</li><li>0</li><li>0</li><li>0</li><li>0</li><li>0</li><li>0</li><li>0</li><li>0</li><li>0</li><li>0</li><li>0</li><li>0</li><li>0</li><li>0</li><li>0</li><li>0</li><li>0</li><li>0</li><li>0</li><li>0</li><li>0</li><li>0</li><li>0</li><li>0</li><li>0</li><li>0</li><li>0</li><li>0</li><li>0</li><li>0</li><li>0</li><li>0</li><li>0</li><li>0</li><li>0</li><li>0</li><li>0</li><li>0</li><li>0</li><li>0</li><li>0</li><li>0</li><li>0</li><li>0</li><li>0</li><li>0</li><li>0</li><li>0</li><li>0</li><li>0</li><li>0</li><li>0</li><li>0</li><li>0</li><li>0</li><li>0</li><li>0</li><li>0</li><li>0</li><li>0</li><li>0</li><li>0</li><li>0</li><li>0</li><li>0</li><li>0</li><li>0</li><li>0</li><li>0</li><li>0</li><li>0</li><li>0</li><li>0</li><li>0</li><li>0</li><li>0</li><li>0</li><li>0</li><li>0</li><li>0</li><li>0</li><li>0</li><li>0</li><li>0</li><li>0</li><li>0</li><li>0</li><li>0</li><li>0</li><li>0</li><li>0</li><li>0</li><li>0</li><li>0</li><li>0</li><li>0</li><li>0</li><li>0</li><li>0</li><li>0</li><li>0</li><li>0</li><li>⋯</li><li>0</li><li>0</li><li>0</li><li>0</li><li>0</li><li>0</li><li>0</li><li>0</li><li>0</li><li>0</li><li>0</li><li>0</li><li>0</li><li>0</li><li>0</li><li>0</li><li>0</li><li>0</li><li>0</li><li>0</li><li>0</li><li>0</li><li>0</li><li>0</li><li>0</li><li>0</li><li>0</li><li>0</li><li>0</li><li>0</li><li>0</li><li>0</li><li>0</li><li>0</li><li>0</li><li>0</li><li>0</li><li>0</li><li>0</li><li>0</li><li>0</li><li>0</li><li>0</li><li>0</li><li>0</li><li>0</li><li>0</li><li>0</li><li>0</li><li>0</li><li>0</li><li>0</li><li>0</li><li>0</li><li>0</li><li>0</li><li>0</li><li>0</li><li>0</li><li>0</li><li>0</li><li>0</li><li>0</li><li>0</li><li>0</li><li>0</li><li>0</li><li>0</li><li>0</li><li>0</li><li>0</li><li>0</li><li>0</li><li>0</li><li>0</li><li>0</li><li>0</li><li>0</li><li>0</li><li>0</li><li>0</li><li>0</li><li>0</li><li>0</li><li>0</li><li>0</li><li>0</li><li>0</li><li>0</li><li>0</li><li>0</li><li>0</li><li>0</li><li>0</li><li>0</li><li>0</li><li>0</li><li>0</li><li>0</li><li>0</li><li>0</li><li>0</li><li>0</li><li>0</li><li>0</li><li>0</li><li>0</li><li>0</li><li>0</li><li>0</li><li>0</li><li>0</li><li>0</li><li>0</li><li>0</li><li>0</li><li>0</li><li>0</li><li>0</li><li>0</li><li>0</li><li>0</li><li>0</li><li>0</li><li>0</li><li>0</li><li>0</li><li>0</li><li>0</li><li>0</li><li>0</li><li>0</li><li>0</li><li>0</li><li>0</li><li>0</li><li>0</li><li>0</li><li>0</li><li>0</li><li>0</li><li>0</li><li>0</li><li>0</li><li>0</li><li>0</li><li>0</li><li>0</li><li>0</li><li>0</li><li>0</li><li>0</li><li>0</li><li>0</li><li>0</li><li>0</li><li>0</li><li>0</li><li>0</li><li>0</li><li>0</li><li>0</li><li>0</li><li>0</li><li>0</li><li>0</li><li>0</li><li>0</li><li>0</li><li>0</li><li>0</li><li>0</li><li>0</li><li>0</li><li>0</li><li>0</li><li>0</li><li>0</li><li>0</li><li>0</li><li>0</li><li>0</li><li>0</li><li>0</li><li>0</li><li>0</li><li>0</li><li>0</li><li>0</li><li>0</li><li>0</li><li>0</li><li>0</li><li>0</li><li>0</li><li>0</li><li>0</li><li>0</li><li>0</li><li>0</li></ol>\n"
            ]
          },
          "metadata": {
            "tags": []
          }
        }
      ]
    },
    {
      "cell_type": "code",
      "metadata": {
        "id": "5jEXqPXFOIUA"
      },
      "source": [
        "# Probably no payment delay should be 0, so either bump all values up by 1\n",
        "# and then convert -1 into 0\n",
        "# First let's change the name of PAY_0 to PAY_1 to make in consistent with the rest of names\n",
        "names(df)[match(\"PAY_0\", names(df))] <- \"PAY_1\""
      ],
      "execution_count": 18,
      "outputs": []
    },
    {
      "cell_type": "code",
      "metadata": {
        "id": "Kx7akDf6OLok"
      },
      "source": [
        "# We bum up by 1\n",
        "for (i in seq(match(\"PAY_1\", names(df)), match(\"PAY_6\", names(df)))) {\n",
        "  df[,i] <- df[,i] + 1\n",
        "}\n",
        "# Turn -1 into 0\n",
        "for (i in seq(match(\"PAY_1\", names(df)), match(\"PAY_6\", names(df)))) {\n",
        "  df[,i][df[,i] == -1] = 0\n",
        "}"
      ],
      "execution_count": 19,
      "outputs": []
    },
    {
      "cell_type": "code",
      "metadata": {
        "id": "eeHHyZUoOU82"
      },
      "source": [
        "### Not execute this for now\n",
        "\n",
        "# Convert variables to factors where applicable: Sex, Education, Marriage, Default\n",
        "# We could convert PAY_X as well but that one could work either way so we'll leave it\n",
        "#df$Sex <- as.factor(df$Sex)\n",
        "#df$Education <- as.factor(df$Education)\n",
        "#df$Marriage <- as.factor(df$Marriage)\n",
        "df$Default <- as.factor(df$Default)"
      ],
      "execution_count": 24,
      "outputs": []
    },
    {
      "cell_type": "code",
      "metadata": {
        "id": "eNH075uPOZm3"
      },
      "source": [
        ""
      ],
      "execution_count": null,
      "outputs": []
    },
    {
      "cell_type": "markdown",
      "metadata": {
        "id": "Kr4GHtlRR8SI"
      },
      "source": [
        "# Split in Train and Test"
      ]
    },
    {
      "cell_type": "code",
      "metadata": {
        "id": "pW2sB-QySBOH"
      },
      "source": [
        "# SPLIT IN TRAIN AND TEST\n",
        "\n",
        "trainIndex <- createDataPartition(df$Default, times = 1, p = 0.8, list = FALSE)\n",
        "df_train <- df[trainIndex,]\n",
        "df_test  <- df[-trainIndex,]"
      ],
      "execution_count": null,
      "outputs": []
    },
    {
      "cell_type": "code",
      "metadata": {
        "id": "3x3buZ2YSA89"
      },
      "source": [
        ""
      ],
      "execution_count": null,
      "outputs": []
    },
    {
      "cell_type": "markdown",
      "metadata": {
        "id": "oq5XzNS4Rqcq"
      },
      "source": [
        "# KNN with built-in function"
      ]
    },
    {
      "cell_type": "code",
      "metadata": {
        "id": "fRrNytatRuZk"
      },
      "source": [
        "# Extra split for this KNN function\n",
        "df_train_knn = df_train[,-24]\n",
        "df_test_knn = df_test[,-24]\n",
        "default_train = df_train$Default\n",
        "default_test = df_test$Default\n"
      ],
      "execution_count": 39,
      "outputs": []
    },
    {
      "cell_type": "code",
      "metadata": {
        "id": "55sllpCDRugr"
      },
      "source": [
        "model <- knn(df_train_knn, df_test_knn, default_train, k = 155) # It works with the cl I just did. Why like that???\n"
      ],
      "execution_count": 50,
      "outputs": []
    },
    {
      "cell_type": "code",
      "metadata": {
        "id": "vKA-ZhE4SNJf",
        "outputId": "3a6c1b69-111e-47e6-90ff-442503f260b9",
        "colab": {
          "base_uri": "https://localhost:8080/",
          "height": 160
        }
      },
      "source": [
        "str(model)\n",
        "table(model, default_test)"
      ],
      "execution_count": 47,
      "outputs": [
        {
          "output_type": "stream",
          "text": [
            " Factor w/ 2 levels \"0\",\"1\": 1 1 1 1 1 1 1 1 1 1 ...\n",
            " - attr(*, \"nn.index\")= int [1:5999, 1:155] 4495 18255 12402 7761 16784 3037 5681 11971 23724 16113 ...\n",
            " - attr(*, \"nn.dist\")= num [1:5999, 1:155] 10847 21032 1458 4473 14136 ...\n"
          ],
          "name": "stdout"
        },
        {
          "output_type": "display_data",
          "data": {
            "text/plain": [
              "     default_test\n",
              "model    0    1\n",
              "    0 4625 1286\n",
              "    1   47   41"
            ]
          },
          "metadata": {
            "tags": []
          }
        }
      ]
    },
    {
      "cell_type": "code",
      "metadata": {
        "id": "lSDqAk5lTua7",
        "outputId": "420e7666-195c-4a1d-8602-d18d61b51b3c",
        "colab": {
          "base_uri": "https://localhost:8080/",
          "height": 72
        }
      },
      "source": [
        "err.rate <- mean(model != default_test)\n",
        "err.rate\n",
        "Acc <- 1 - err.rate\n",
        "Acc\n"
      ],
      "execution_count": 63,
      "outputs": [
        {
          "output_type": "display_data",
          "data": {
            "text/plain": [
              "[1] 0.2222037"
            ],
            "text/latex": "0.222203700616769",
            "text/markdown": "0.222203700616769",
            "text/html": [
              "0.222203700616769"
            ]
          },
          "metadata": {
            "tags": []
          }
        },
        {
          "output_type": "display_data",
          "data": {
            "text/plain": [
              "[1] 0.7777963"
            ],
            "text/latex": "0.777796299383231",
            "text/markdown": "0.777796299383231",
            "text/html": [
              "0.777796299383231"
            ]
          },
          "metadata": {
            "tags": []
          }
        }
      ]
    },
    {
      "cell_type": "code",
      "metadata": {
        "id": "67G_nAOZeDqW",
        "outputId": "e596ee8f-0ab9-48e5-d389-2dfa3dca7bf5",
        "colab": {
          "base_uri": "https://localhost:8080/",
          "height": 1000
        }
      },
      "source": [
        "save.pred <- data.frame()\n",
        "\n",
        "for (K in 135:175) {\n",
        "  pred <- knn(df_train_knn, df_test_knn, cl = default_train, k = K)\n",
        "  error.rate <- mean(pred != default_test)\n",
        "  save.pred <- rbind(save.pred, data.frame(error.rate, K))\n",
        "}\n",
        "save.pred"
      ],
      "execution_count": 66,
      "outputs": [
        {
          "output_type": "display_data",
          "data": {
            "text/plain": [
              "   error.rate K  \n",
              "1  0.2228705  135\n",
              "2  0.2223704  136\n",
              "3  0.2223704  137\n",
              "4  0.2220370  138\n",
              "5  0.2223704  139\n",
              "6  0.2217036  140\n",
              "7  0.2218703  141\n",
              "8  0.2213702  142\n",
              "9  0.2213702  143\n",
              "10 0.2212035  144\n",
              "11 0.2218703  145\n",
              "12 0.2220370  146\n",
              "13 0.2225371  147\n",
              "14 0.2228705  148\n",
              "15 0.2232039  149\n",
              "16 0.2222037  150\n",
              "17 0.2225371  151\n",
              "18 0.2217036  152\n",
              "19 0.2220370  153\n",
              "20 0.2213702  154\n",
              "21 0.2222037  155\n",
              "22 0.2215369  156\n",
              "23 0.2220370  157\n",
              "24 0.2212035  158\n",
              "25 0.2222037  159\n",
              "26 0.2217036  160\n",
              "27 0.2220370  161\n",
              "28 0.2215369  162\n",
              "29 0.2212035  163\n",
              "30 0.2213702  164\n",
              "31 0.2217036  165\n",
              "32 0.2215369  166\n",
              "33 0.2218703  167\n",
              "34 0.2218703  168\n",
              "35 0.2217036  169\n",
              "36 0.2220370  170\n",
              "37 0.2222037  171\n",
              "38 0.2218703  172\n",
              "39 0.2218703  173\n",
              "40 0.2213702  174\n",
              "41 0.2217036  175"
            ],
            "text/latex": "A data.frame: 41 × 2\n\\begin{tabular}{ll}\n error.rate & K\\\\\n <dbl> & <int>\\\\\n\\hline\n\t 0.2228705 & 135\\\\\n\t 0.2223704 & 136\\\\\n\t 0.2223704 & 137\\\\\n\t 0.2220370 & 138\\\\\n\t 0.2223704 & 139\\\\\n\t 0.2217036 & 140\\\\\n\t 0.2218703 & 141\\\\\n\t 0.2213702 & 142\\\\\n\t 0.2213702 & 143\\\\\n\t 0.2212035 & 144\\\\\n\t 0.2218703 & 145\\\\\n\t 0.2220370 & 146\\\\\n\t 0.2225371 & 147\\\\\n\t 0.2228705 & 148\\\\\n\t 0.2232039 & 149\\\\\n\t 0.2222037 & 150\\\\\n\t 0.2225371 & 151\\\\\n\t 0.2217036 & 152\\\\\n\t 0.2220370 & 153\\\\\n\t 0.2213702 & 154\\\\\n\t 0.2222037 & 155\\\\\n\t 0.2215369 & 156\\\\\n\t 0.2220370 & 157\\\\\n\t 0.2212035 & 158\\\\\n\t 0.2222037 & 159\\\\\n\t 0.2217036 & 160\\\\\n\t 0.2220370 & 161\\\\\n\t 0.2215369 & 162\\\\\n\t 0.2212035 & 163\\\\\n\t 0.2213702 & 164\\\\\n\t 0.2217036 & 165\\\\\n\t 0.2215369 & 166\\\\\n\t 0.2218703 & 167\\\\\n\t 0.2218703 & 168\\\\\n\t 0.2217036 & 169\\\\\n\t 0.2220370 & 170\\\\\n\t 0.2222037 & 171\\\\\n\t 0.2218703 & 172\\\\\n\t 0.2218703 & 173\\\\\n\t 0.2213702 & 174\\\\\n\t 0.2217036 & 175\\\\\n\\end{tabular}\n",
            "text/markdown": "\nA data.frame: 41 × 2\n\n| error.rate &lt;dbl&gt; | K &lt;int&gt; |\n|---|---|\n| 0.2228705 | 135 |\n| 0.2223704 | 136 |\n| 0.2223704 | 137 |\n| 0.2220370 | 138 |\n| 0.2223704 | 139 |\n| 0.2217036 | 140 |\n| 0.2218703 | 141 |\n| 0.2213702 | 142 |\n| 0.2213702 | 143 |\n| 0.2212035 | 144 |\n| 0.2218703 | 145 |\n| 0.2220370 | 146 |\n| 0.2225371 | 147 |\n| 0.2228705 | 148 |\n| 0.2232039 | 149 |\n| 0.2222037 | 150 |\n| 0.2225371 | 151 |\n| 0.2217036 | 152 |\n| 0.2220370 | 153 |\n| 0.2213702 | 154 |\n| 0.2222037 | 155 |\n| 0.2215369 | 156 |\n| 0.2220370 | 157 |\n| 0.2212035 | 158 |\n| 0.2222037 | 159 |\n| 0.2217036 | 160 |\n| 0.2220370 | 161 |\n| 0.2215369 | 162 |\n| 0.2212035 | 163 |\n| 0.2213702 | 164 |\n| 0.2217036 | 165 |\n| 0.2215369 | 166 |\n| 0.2218703 | 167 |\n| 0.2218703 | 168 |\n| 0.2217036 | 169 |\n| 0.2220370 | 170 |\n| 0.2222037 | 171 |\n| 0.2218703 | 172 |\n| 0.2218703 | 173 |\n| 0.2213702 | 174 |\n| 0.2217036 | 175 |\n\n",
            "text/html": [
              "<table>\n",
              "<caption>A data.frame: 41 × 2</caption>\n",
              "<thead>\n",
              "\t<tr><th scope=col>error.rate</th><th scope=col>K</th></tr>\n",
              "\t<tr><th scope=col>&lt;dbl&gt;</th><th scope=col>&lt;int&gt;</th></tr>\n",
              "</thead>\n",
              "<tbody>\n",
              "\t<tr><td>0.2228705</td><td>135</td></tr>\n",
              "\t<tr><td>0.2223704</td><td>136</td></tr>\n",
              "\t<tr><td>0.2223704</td><td>137</td></tr>\n",
              "\t<tr><td>0.2220370</td><td>138</td></tr>\n",
              "\t<tr><td>0.2223704</td><td>139</td></tr>\n",
              "\t<tr><td>0.2217036</td><td>140</td></tr>\n",
              "\t<tr><td>0.2218703</td><td>141</td></tr>\n",
              "\t<tr><td>0.2213702</td><td>142</td></tr>\n",
              "\t<tr><td>0.2213702</td><td>143</td></tr>\n",
              "\t<tr><td>0.2212035</td><td>144</td></tr>\n",
              "\t<tr><td>0.2218703</td><td>145</td></tr>\n",
              "\t<tr><td>0.2220370</td><td>146</td></tr>\n",
              "\t<tr><td>0.2225371</td><td>147</td></tr>\n",
              "\t<tr><td>0.2228705</td><td>148</td></tr>\n",
              "\t<tr><td>0.2232039</td><td>149</td></tr>\n",
              "\t<tr><td>0.2222037</td><td>150</td></tr>\n",
              "\t<tr><td>0.2225371</td><td>151</td></tr>\n",
              "\t<tr><td>0.2217036</td><td>152</td></tr>\n",
              "\t<tr><td>0.2220370</td><td>153</td></tr>\n",
              "\t<tr><td>0.2213702</td><td>154</td></tr>\n",
              "\t<tr><td>0.2222037</td><td>155</td></tr>\n",
              "\t<tr><td>0.2215369</td><td>156</td></tr>\n",
              "\t<tr><td>0.2220370</td><td>157</td></tr>\n",
              "\t<tr><td>0.2212035</td><td>158</td></tr>\n",
              "\t<tr><td>0.2222037</td><td>159</td></tr>\n",
              "\t<tr><td>0.2217036</td><td>160</td></tr>\n",
              "\t<tr><td>0.2220370</td><td>161</td></tr>\n",
              "\t<tr><td>0.2215369</td><td>162</td></tr>\n",
              "\t<tr><td>0.2212035</td><td>163</td></tr>\n",
              "\t<tr><td>0.2213702</td><td>164</td></tr>\n",
              "\t<tr><td>0.2217036</td><td>165</td></tr>\n",
              "\t<tr><td>0.2215369</td><td>166</td></tr>\n",
              "\t<tr><td>0.2218703</td><td>167</td></tr>\n",
              "\t<tr><td>0.2218703</td><td>168</td></tr>\n",
              "\t<tr><td>0.2217036</td><td>169</td></tr>\n",
              "\t<tr><td>0.2220370</td><td>170</td></tr>\n",
              "\t<tr><td>0.2222037</td><td>171</td></tr>\n",
              "\t<tr><td>0.2218703</td><td>172</td></tr>\n",
              "\t<tr><td>0.2218703</td><td>173</td></tr>\n",
              "\t<tr><td>0.2213702</td><td>174</td></tr>\n",
              "\t<tr><td>0.2217036</td><td>175</td></tr>\n",
              "</tbody>\n",
              "</table>\n"
            ]
          },
          "metadata": {
            "tags": []
          }
        }
      ]
    },
    {
      "cell_type": "code",
      "metadata": {
        "id": "720hxN-bfy8V",
        "outputId": "a0cd0349-32b8-47c5-bcdc-b20d70a91907",
        "colab": {
          "base_uri": "https://localhost:8080/",
          "height": 457
        }
      },
      "source": [
        "plot(save.pred$K, save.pred$error.rate)"
      ],
      "execution_count": 67,
      "outputs": [
        {
          "output_type": "display_data",
          "data": {
            "image/png": "[encoded data removed]",
            "text/plain": [
              "plot without title"
            ]
          },
          "metadata": {
            "tags": [],
            "image/png": {
              "width": 420,
              "height": 420
            }
          }
        }
      ]
    },
    {
      "cell_type": "code",
      "metadata": {
        "id": "dep3Pkxff_lj"
      },
      "source": [
        "error.rate <- mean(caret.knn != dfsmall_test)\n",
        "error.rate\n",
        "Acc <- 1 - error.rate\n",
        "Acc\n",
        "### RMSE as well?\n",
        "pred <- predict(caret.knn, newdata = dfsmall_test)\n",
        "RMSE(pred = pred, obs = dfsmall_test$Default)"
      ],
      "execution_count": null,
      "outputs": []
    },
    {
      "cell_type": "code",
      "metadata": {
        "id": "5bHR5pGrhKBg",
        "outputId": "30d6f9d1-8dc4-42ab-ae87-cc649c2ff8dc",
        "colab": {
          "base_uri": "https://localhost:8080/",
          "height": 982
        }
      },
      "source": [
        "save.pred.lowk <- data.frame()\n",
        "\n",
        "for (K in 1:40) {\n",
        "  pred <- knn(df_train_knn, df_test_knn, cl = default_train, k = K)\n",
        "  error.rate <- mean(pred != default_test)\n",
        "  save.pred.lowk <- rbind(save.pred.lowk, data.frame(error.rate, K))\n",
        "}\n",
        "save.pred.lowk\n",
        "\n"
      ],
      "execution_count": 64,
      "outputs": [
        {
          "output_type": "display_data",
          "data": {
            "text/plain": [
              "   error.rate K \n",
              "1  0.3017170   1\n",
              "2  0.2302050   2\n",
              "3  0.2567095   3\n",
              "4  0.2290382   4\n",
              "5  0.2417070   5\n",
              "6  0.2287048   6\n",
              "7  0.2372062   7\n",
              "8  0.2277046   8\n",
              "9  0.2310385   9\n",
              "10 0.2258710  10\n",
              "11 0.2280380  11\n",
              "12 0.2227038  12\n",
              "13 0.2298716  13\n",
              "14 0.2210368  14\n",
              "15 0.2250375  15\n",
              "16 0.2210368  16\n",
              "17 0.2233706  17\n",
              "18 0.2222037  18\n",
              "19 0.2237040  19\n",
              "20 0.2212035  20\n",
              "21 0.2225371  21\n",
              "22 0.2208701  22\n",
              "23 0.2202034  23\n",
              "24 0.2187031  24\n",
              "25 0.2222037  25\n",
              "26 0.2217036  26\n",
              "27 0.2192032  27\n",
              "28 0.2183697  28\n",
              "29 0.2183697  29\n",
              "30 0.2162027  30\n",
              "31 0.2177030  31\n",
              "32 0.2175363  32\n",
              "33 0.2175363  33\n",
              "34 0.2182030  34\n",
              "35 0.2180363  35\n",
              "36 0.2180363  36\n",
              "37 0.2185364  37\n",
              "38 0.2177030  38\n",
              "39 0.2183697  39\n",
              "40 0.2182030  40"
            ],
            "text/latex": "A data.frame: 40 × 2\n\\begin{tabular}{ll}\n error.rate & K\\\\\n <dbl> & <int>\\\\\n\\hline\n\t 0.3017170 &  1\\\\\n\t 0.2302050 &  2\\\\\n\t 0.2567095 &  3\\\\\n\t 0.2290382 &  4\\\\\n\t 0.2417070 &  5\\\\\n\t 0.2287048 &  6\\\\\n\t 0.2372062 &  7\\\\\n\t 0.2277046 &  8\\\\\n\t 0.2310385 &  9\\\\\n\t 0.2258710 & 10\\\\\n\t 0.2280380 & 11\\\\\n\t 0.2227038 & 12\\\\\n\t 0.2298716 & 13\\\\\n\t 0.2210368 & 14\\\\\n\t 0.2250375 & 15\\\\\n\t 0.2210368 & 16\\\\\n\t 0.2233706 & 17\\\\\n\t 0.2222037 & 18\\\\\n\t 0.2237040 & 19\\\\\n\t 0.2212035 & 20\\\\\n\t 0.2225371 & 21\\\\\n\t 0.2208701 & 22\\\\\n\t 0.2202034 & 23\\\\\n\t 0.2187031 & 24\\\\\n\t 0.2222037 & 25\\\\\n\t 0.2217036 & 26\\\\\n\t 0.2192032 & 27\\\\\n\t 0.2183697 & 28\\\\\n\t 0.2183697 & 29\\\\\n\t 0.2162027 & 30\\\\\n\t 0.2177030 & 31\\\\\n\t 0.2175363 & 32\\\\\n\t 0.2175363 & 33\\\\\n\t 0.2182030 & 34\\\\\n\t 0.2180363 & 35\\\\\n\t 0.2180363 & 36\\\\\n\t 0.2185364 & 37\\\\\n\t 0.2177030 & 38\\\\\n\t 0.2183697 & 39\\\\\n\t 0.2182030 & 40\\\\\n\\end{tabular}\n",
            "text/markdown": "\nA data.frame: 40 × 2\n\n| error.rate &lt;dbl&gt; | K &lt;int&gt; |\n|---|---|\n| 0.3017170 |  1 |\n| 0.2302050 |  2 |\n| 0.2567095 |  3 |\n| 0.2290382 |  4 |\n| 0.2417070 |  5 |\n| 0.2287048 |  6 |\n| 0.2372062 |  7 |\n| 0.2277046 |  8 |\n| 0.2310385 |  9 |\n| 0.2258710 | 10 |\n| 0.2280380 | 11 |\n| 0.2227038 | 12 |\n| 0.2298716 | 13 |\n| 0.2210368 | 14 |\n| 0.2250375 | 15 |\n| 0.2210368 | 16 |\n| 0.2233706 | 17 |\n| 0.2222037 | 18 |\n| 0.2237040 | 19 |\n| 0.2212035 | 20 |\n| 0.2225371 | 21 |\n| 0.2208701 | 22 |\n| 0.2202034 | 23 |\n| 0.2187031 | 24 |\n| 0.2222037 | 25 |\n| 0.2217036 | 26 |\n| 0.2192032 | 27 |\n| 0.2183697 | 28 |\n| 0.2183697 | 29 |\n| 0.2162027 | 30 |\n| 0.2177030 | 31 |\n| 0.2175363 | 32 |\n| 0.2175363 | 33 |\n| 0.2182030 | 34 |\n| 0.2180363 | 35 |\n| 0.2180363 | 36 |\n| 0.2185364 | 37 |\n| 0.2177030 | 38 |\n| 0.2183697 | 39 |\n| 0.2182030 | 40 |\n\n",
            "text/html": [
              "<table>\n",
              "<caption>A data.frame: 40 × 2</caption>\n",
              "<thead>\n",
              "\t<tr><th scope=col>error.rate</th><th scope=col>K</th></tr>\n",
              "\t<tr><th scope=col>&lt;dbl&gt;</th><th scope=col>&lt;int&gt;</th></tr>\n",
              "</thead>\n",
              "<tbody>\n",
              "\t<tr><td>0.3017170</td><td> 1</td></tr>\n",
              "\t<tr><td>0.2302050</td><td> 2</td></tr>\n",
              "\t<tr><td>0.2567095</td><td> 3</td></tr>\n",
              "\t<tr><td>0.2290382</td><td> 4</td></tr>\n",
              "\t<tr><td>0.2417070</td><td> 5</td></tr>\n",
              "\t<tr><td>0.2287048</td><td> 6</td></tr>\n",
              "\t<tr><td>0.2372062</td><td> 7</td></tr>\n",
              "\t<tr><td>0.2277046</td><td> 8</td></tr>\n",
              "\t<tr><td>0.2310385</td><td> 9</td></tr>\n",
              "\t<tr><td>0.2258710</td><td>10</td></tr>\n",
              "\t<tr><td>0.2280380</td><td>11</td></tr>\n",
              "\t<tr><td>0.2227038</td><td>12</td></tr>\n",
              "\t<tr><td>0.2298716</td><td>13</td></tr>\n",
              "\t<tr><td>0.2210368</td><td>14</td></tr>\n",
              "\t<tr><td>0.2250375</td><td>15</td></tr>\n",
              "\t<tr><td>0.2210368</td><td>16</td></tr>\n",
              "\t<tr><td>0.2233706</td><td>17</td></tr>\n",
              "\t<tr><td>0.2222037</td><td>18</td></tr>\n",
              "\t<tr><td>0.2237040</td><td>19</td></tr>\n",
              "\t<tr><td>0.2212035</td><td>20</td></tr>\n",
              "\t<tr><td>0.2225371</td><td>21</td></tr>\n",
              "\t<tr><td>0.2208701</td><td>22</td></tr>\n",
              "\t<tr><td>0.2202034</td><td>23</td></tr>\n",
              "\t<tr><td>0.2187031</td><td>24</td></tr>\n",
              "\t<tr><td>0.2222037</td><td>25</td></tr>\n",
              "\t<tr><td>0.2217036</td><td>26</td></tr>\n",
              "\t<tr><td>0.2192032</td><td>27</td></tr>\n",
              "\t<tr><td>0.2183697</td><td>28</td></tr>\n",
              "\t<tr><td>0.2183697</td><td>29</td></tr>\n",
              "\t<tr><td>0.2162027</td><td>30</td></tr>\n",
              "\t<tr><td>0.2177030</td><td>31</td></tr>\n",
              "\t<tr><td>0.2175363</td><td>32</td></tr>\n",
              "\t<tr><td>0.2175363</td><td>33</td></tr>\n",
              "\t<tr><td>0.2182030</td><td>34</td></tr>\n",
              "\t<tr><td>0.2180363</td><td>35</td></tr>\n",
              "\t<tr><td>0.2180363</td><td>36</td></tr>\n",
              "\t<tr><td>0.2185364</td><td>37</td></tr>\n",
              "\t<tr><td>0.2177030</td><td>38</td></tr>\n",
              "\t<tr><td>0.2183697</td><td>39</td></tr>\n",
              "\t<tr><td>0.2182030</td><td>40</td></tr>\n",
              "</tbody>\n",
              "</table>\n"
            ]
          },
          "metadata": {
            "tags": []
          }
        }
      ]
    },
    {
      "cell_type": "code",
      "metadata": {
        "id": "N_HYS_jyhTfM",
        "outputId": "7cd9c4ee-fff0-4ca8-d726-21bb70e53b05",
        "colab": {
          "base_uri": "https://localhost:8080/",
          "height": 457
        }
      },
      "source": [
        "plot(save.pred.lowk$K, save.pred.lowk$error.rate)"
      ],
      "execution_count": 65,
      "outputs": [
        {
          "output_type": "display_data",
          "data": {
            "image/png": "[encoded data removed]",
            "text/plain": [
              "plot without title"
            ]
          },
          "metadata": {
            "tags": [],
            "image/png": {
              "width": 420,
              "height": 420
            }
          }
        }
      ]
    },
    {
      "cell_type": "code",
      "metadata": {
        "id": "KPZwUAhUj20P",
        "outputId": "f72c740a-ddcd-4b58-f16e-620c84c7ad0a",
        "colab": {
          "base_uri": "https://localhost:8080/",
          "height": 982
        }
      },
      "source": [
        "save.pred.medk <- data.frame()\n",
        "\n",
        "for (K in 41:80) {\n",
        "  pred <- knn(df_train_knn, df_test_knn, cl = default_train, k = K)\n",
        "  error.rate <- mean(pred != default_test)\n",
        "  save.pred.medk <- rbind(save.pred.medk, data.frame(error.rate, K))\n",
        "}\n",
        "save.pred.medk\n",
        "\n"
      ],
      "execution_count": 69,
      "outputs": [
        {
          "output_type": "display_data",
          "data": {
            "text/plain": [
              "   error.rate K \n",
              "1  0.2193699  41\n",
              "2  0.2200367  42\n",
              "3  0.2188698  43\n",
              "4  0.2190365  44\n",
              "5  0.2183697  45\n",
              "6  0.2185364  46\n",
              "7  0.2188698  47\n",
              "8  0.2190365  48\n",
              "9  0.2178696  49\n",
              "10 0.2198700  50\n",
              "11 0.2192032  51\n",
              "12 0.2195366  52\n",
              "13 0.2198700  53\n",
              "14 0.2185364  54\n",
              "15 0.2192032  55\n",
              "16 0.2198700  56\n",
              "17 0.2197033  57\n",
              "18 0.2203701  58\n",
              "19 0.2203701  59\n",
              "20 0.2203701  60\n",
              "21 0.2205368  61\n",
              "22 0.2192032  62\n",
              "23 0.2197033  63\n",
              "24 0.2190365  64\n",
              "25 0.2197033  65\n",
              "26 0.2188698  66\n",
              "27 0.2188698  67\n",
              "28 0.2188698  68\n",
              "29 0.2187031  69\n",
              "30 0.2188698  70\n",
              "31 0.2188698  71\n",
              "32 0.2188698  72\n",
              "33 0.2195366  73\n",
              "34 0.2188698  74\n",
              "35 0.2190365  75\n",
              "36 0.2187031  76\n",
              "37 0.2182030  77\n",
              "38 0.2190365  78\n",
              "39 0.2187031  79\n",
              "40 0.2192032  80"
            ],
            "text/latex": "A data.frame: 40 × 2\n\\begin{tabular}{ll}\n error.rate & K\\\\\n <dbl> & <int>\\\\\n\\hline\n\t 0.2193699 & 41\\\\\n\t 0.2200367 & 42\\\\\n\t 0.2188698 & 43\\\\\n\t 0.2190365 & 44\\\\\n\t 0.2183697 & 45\\\\\n\t 0.2185364 & 46\\\\\n\t 0.2188698 & 47\\\\\n\t 0.2190365 & 48\\\\\n\t 0.2178696 & 49\\\\\n\t 0.2198700 & 50\\\\\n\t 0.2192032 & 51\\\\\n\t 0.2195366 & 52\\\\\n\t 0.2198700 & 53\\\\\n\t 0.2185364 & 54\\\\\n\t 0.2192032 & 55\\\\\n\t 0.2198700 & 56\\\\\n\t 0.2197033 & 57\\\\\n\t 0.2203701 & 58\\\\\n\t 0.2203701 & 59\\\\\n\t 0.2203701 & 60\\\\\n\t 0.2205368 & 61\\\\\n\t 0.2192032 & 62\\\\\n\t 0.2197033 & 63\\\\\n\t 0.2190365 & 64\\\\\n\t 0.2197033 & 65\\\\\n\t 0.2188698 & 66\\\\\n\t 0.2188698 & 67\\\\\n\t 0.2188698 & 68\\\\\n\t 0.2187031 & 69\\\\\n\t 0.2188698 & 70\\\\\n\t 0.2188698 & 71\\\\\n\t 0.2188698 & 72\\\\\n\t 0.2195366 & 73\\\\\n\t 0.2188698 & 74\\\\\n\t 0.2190365 & 75\\\\\n\t 0.2187031 & 76\\\\\n\t 0.2182030 & 77\\\\\n\t 0.2190365 & 78\\\\\n\t 0.2187031 & 79\\\\\n\t 0.2192032 & 80\\\\\n\\end{tabular}\n",
            "text/markdown": "\nA data.frame: 40 × 2\n\n| error.rate &lt;dbl&gt; | K &lt;int&gt; |\n|---|---|\n| 0.2193699 | 41 |\n| 0.2200367 | 42 |\n| 0.2188698 | 43 |\n| 0.2190365 | 44 |\n| 0.2183697 | 45 |\n| 0.2185364 | 46 |\n| 0.2188698 | 47 |\n| 0.2190365 | 48 |\n| 0.2178696 | 49 |\n| 0.2198700 | 50 |\n| 0.2192032 | 51 |\n| 0.2195366 | 52 |\n| 0.2198700 | 53 |\n| 0.2185364 | 54 |\n| 0.2192032 | 55 |\n| 0.2198700 | 56 |\n| 0.2197033 | 57 |\n| 0.2203701 | 58 |\n| 0.2203701 | 59 |\n| 0.2203701 | 60 |\n| 0.2205368 | 61 |\n| 0.2192032 | 62 |\n| 0.2197033 | 63 |\n| 0.2190365 | 64 |\n| 0.2197033 | 65 |\n| 0.2188698 | 66 |\n| 0.2188698 | 67 |\n| 0.2188698 | 68 |\n| 0.2187031 | 69 |\n| 0.2188698 | 70 |\n| 0.2188698 | 71 |\n| 0.2188698 | 72 |\n| 0.2195366 | 73 |\n| 0.2188698 | 74 |\n| 0.2190365 | 75 |\n| 0.2187031 | 76 |\n| 0.2182030 | 77 |\n| 0.2190365 | 78 |\n| 0.2187031 | 79 |\n| 0.2192032 | 80 |\n\n",
            "text/html": [
              "<table>\n",
              "<caption>A data.frame: 40 × 2</caption>\n",
              "<thead>\n",
              "\t<tr><th scope=col>error.rate</th><th scope=col>K</th></tr>\n",
              "\t<tr><th scope=col>&lt;dbl&gt;</th><th scope=col>&lt;int&gt;</th></tr>\n",
              "</thead>\n",
              "<tbody>\n",
              "\t<tr><td>0.2193699</td><td>41</td></tr>\n",
              "\t<tr><td>0.2200367</td><td>42</td></tr>\n",
              "\t<tr><td>0.2188698</td><td>43</td></tr>\n",
              "\t<tr><td>0.2190365</td><td>44</td></tr>\n",
              "\t<tr><td>0.2183697</td><td>45</td></tr>\n",
              "\t<tr><td>0.2185364</td><td>46</td></tr>\n",
              "\t<tr><td>0.2188698</td><td>47</td></tr>\n",
              "\t<tr><td>0.2190365</td><td>48</td></tr>\n",
              "\t<tr><td>0.2178696</td><td>49</td></tr>\n",
              "\t<tr><td>0.2198700</td><td>50</td></tr>\n",
              "\t<tr><td>0.2192032</td><td>51</td></tr>\n",
              "\t<tr><td>0.2195366</td><td>52</td></tr>\n",
              "\t<tr><td>0.2198700</td><td>53</td></tr>\n",
              "\t<tr><td>0.2185364</td><td>54</td></tr>\n",
              "\t<tr><td>0.2192032</td><td>55</td></tr>\n",
              "\t<tr><td>0.2198700</td><td>56</td></tr>\n",
              "\t<tr><td>0.2197033</td><td>57</td></tr>\n",
              "\t<tr><td>0.2203701</td><td>58</td></tr>\n",
              "\t<tr><td>0.2203701</td><td>59</td></tr>\n",
              "\t<tr><td>0.2203701</td><td>60</td></tr>\n",
              "\t<tr><td>0.2205368</td><td>61</td></tr>\n",
              "\t<tr><td>0.2192032</td><td>62</td></tr>\n",
              "\t<tr><td>0.2197033</td><td>63</td></tr>\n",
              "\t<tr><td>0.2190365</td><td>64</td></tr>\n",
              "\t<tr><td>0.2197033</td><td>65</td></tr>\n",
              "\t<tr><td>0.2188698</td><td>66</td></tr>\n",
              "\t<tr><td>0.2188698</td><td>67</td></tr>\n",
              "\t<tr><td>0.2188698</td><td>68</td></tr>\n",
              "\t<tr><td>0.2187031</td><td>69</td></tr>\n",
              "\t<tr><td>0.2188698</td><td>70</td></tr>\n",
              "\t<tr><td>0.2188698</td><td>71</td></tr>\n",
              "\t<tr><td>0.2188698</td><td>72</td></tr>\n",
              "\t<tr><td>0.2195366</td><td>73</td></tr>\n",
              "\t<tr><td>0.2188698</td><td>74</td></tr>\n",
              "\t<tr><td>0.2190365</td><td>75</td></tr>\n",
              "\t<tr><td>0.2187031</td><td>76</td></tr>\n",
              "\t<tr><td>0.2182030</td><td>77</td></tr>\n",
              "\t<tr><td>0.2190365</td><td>78</td></tr>\n",
              "\t<tr><td>0.2187031</td><td>79</td></tr>\n",
              "\t<tr><td>0.2192032</td><td>80</td></tr>\n",
              "</tbody>\n",
              "</table>\n"
            ]
          },
          "metadata": {
            "tags": []
          }
        }
      ]
    },
    {
      "cell_type": "code",
      "metadata": {
        "id": "bymlkZAFkGD8",
        "outputId": "21f68cc5-05a5-40df-b7cc-2f1ffee507d8",
        "colab": {
          "base_uri": "https://localhost:8080/",
          "height": 457
        }
      },
      "source": [
        "plot(save.pred.medk$K, save.pred.medk$error.rate)"
      ],
      "execution_count": 71,
      "outputs": [
        {
          "output_type": "display_data",
          "data": {
            "image/png": "[encoded data removed]",
            "text/plain": [
              "plot without title"
            ]
          },
          "metadata": {
            "tags": [],
            "image/png": {
              "width": 420,
              "height": 420
            }
          }
        }
      ]
    },
    {
      "cell_type": "code",
      "metadata": {
        "id": "MNyMHd4-kgap",
        "outputId": "bd1cc9e9-e977-4f60-9216-84c0ac8da4cc",
        "colab": {
          "base_uri": "https://localhost:8080/",
          "height": 291
        }
      },
      "source": [
        "save.pred.lowk[which.min(save.pred.lowk$error.rate),]\n",
        "\n",
        "save.pred.medk[which.min(save.pred.medk$error.rate),]\n",
        "\n",
        "save.pred[which.min(save.pred$error.rate),]"
      ],
      "execution_count": 77,
      "outputs": [
        {
          "output_type": "display_data",
          "data": {
            "text/plain": [
              "   error.rate K \n",
              "30 0.2162027  30"
            ],
            "text/latex": "A data.frame: 1 × 2\n\\begin{tabular}{r|ll}\n  & error.rate & K\\\\\n  & <dbl> & <int>\\\\\n\\hline\n\t30 & 0.2162027 & 30\\\\\n\\end{tabular}\n",
            "text/markdown": "\nA data.frame: 1 × 2\n\n| <!--/--> | error.rate &lt;dbl&gt; | K &lt;int&gt; |\n|---|---|---|\n| 30 | 0.2162027 | 30 |\n\n",
            "text/html": [
              "<table>\n",
              "<caption>A data.frame: 1 × 2</caption>\n",
              "<thead>\n",
              "\t<tr><th></th><th scope=col>error.rate</th><th scope=col>K</th></tr>\n",
              "\t<tr><th></th><th scope=col>&lt;dbl&gt;</th><th scope=col>&lt;int&gt;</th></tr>\n",
              "</thead>\n",
              "<tbody>\n",
              "\t<tr><th scope=row>30</th><td>0.2162027</td><td>30</td></tr>\n",
              "</tbody>\n",
              "</table>\n"
            ]
          },
          "metadata": {
            "tags": []
          }
        },
        {
          "output_type": "display_data",
          "data": {
            "text/plain": [
              "  error.rate K \n",
              "9 0.2178696  49"
            ],
            "text/latex": "A data.frame: 1 × 2\n\\begin{tabular}{r|ll}\n  & error.rate & K\\\\\n  & <dbl> & <int>\\\\\n\\hline\n\t9 & 0.2178696 & 49\\\\\n\\end{tabular}\n",
            "text/markdown": "\nA data.frame: 1 × 2\n\n| <!--/--> | error.rate &lt;dbl&gt; | K &lt;int&gt; |\n|---|---|---|\n| 9 | 0.2178696 | 49 |\n\n",
            "text/html": [
              "<table>\n",
              "<caption>A data.frame: 1 × 2</caption>\n",
              "<thead>\n",
              "\t<tr><th></th><th scope=col>error.rate</th><th scope=col>K</th></tr>\n",
              "\t<tr><th></th><th scope=col>&lt;dbl&gt;</th><th scope=col>&lt;int&gt;</th></tr>\n",
              "</thead>\n",
              "<tbody>\n",
              "\t<tr><th scope=row>9</th><td>0.2178696</td><td>49</td></tr>\n",
              "</tbody>\n",
              "</table>\n"
            ]
          },
          "metadata": {
            "tags": []
          }
        },
        {
          "output_type": "display_data",
          "data": {
            "text/plain": [
              "   error.rate K  \n",
              "10 0.2212035  144"
            ],
            "text/latex": "A data.frame: 1 × 2\n\\begin{tabular}{r|ll}\n  & error.rate & K\\\\\n  & <dbl> & <int>\\\\\n\\hline\n\t10 & 0.2212035 & 144\\\\\n\\end{tabular}\n",
            "text/markdown": "\nA data.frame: 1 × 2\n\n| <!--/--> | error.rate &lt;dbl&gt; | K &lt;int&gt; |\n|---|---|---|\n| 10 | 0.2212035 | 144 |\n\n",
            "text/html": [
              "<table>\n",
              "<caption>A data.frame: 1 × 2</caption>\n",
              "<thead>\n",
              "\t<tr><th></th><th scope=col>error.rate</th><th scope=col>K</th></tr>\n",
              "\t<tr><th></th><th scope=col>&lt;dbl&gt;</th><th scope=col>&lt;int&gt;</th></tr>\n",
              "</thead>\n",
              "<tbody>\n",
              "\t<tr><th scope=row>10</th><td>0.2212035</td><td>144</td></tr>\n",
              "</tbody>\n",
              "</table>\n"
            ]
          },
          "metadata": {
            "tags": []
          }
        }
      ]
    },
    {
      "cell_type": "markdown",
      "metadata": {
        "id": "MfZe7O6zlO24"
      },
      "source": [
        "Looks like the best k would be k = 30"
      ]
    },
    {
      "cell_type": "markdown",
      "metadata": {
        "id": "qJMyU-p6OeQ0"
      },
      "source": [
        "# KNN in Caret"
      ]
    },
    {
      "cell_type": "code",
      "metadata": {
        "id": "hs9J-1slOZqE"
      },
      "source": [
        ""
      ],
      "execution_count": 25,
      "outputs": []
    },
    {
      "cell_type": "code",
      "metadata": {
        "id": "s_n0B7n3OZtX"
      },
      "source": [
        "fitControl10 <- trainControl(## 10-fold CV\n",
        "  method = \"repeatedcv\",\n",
        "  number = 10,\n",
        "  ## repeated ten times\n",
        "  repeats = 10\n",
        ")\n",
        "tune_grid = expand.grid(k=150:160)\n"
      ],
      "execution_count": 22,
      "outputs": []
    },
    {
      "cell_type": "code",
      "metadata": {
        "id": "nmziFXOQQTSZ",
        "outputId": "f0e6d9f3-edd4-4418-e660-1dfeebc44f07",
        "colab": {
          "base_uri": "https://localhost:8080/"
        }
      },
      "source": [
        "str(tune_grid)"
      ],
      "execution_count": 34,
      "outputs": [
        {
          "output_type": "stream",
          "text": [
            "'data.frame':\t6 obs. of  1 variable:\n",
            " $ k: int  150 151 152 153 154 155\n",
            " - attr(*, \"out.attrs\")=List of 2\n",
            "  ..$ dim     : Named int 6\n",
            "  .. ..- attr(*, \"names\")= chr \"k\"\n",
            "  ..$ dimnames:List of 1\n",
            "  .. ..$ k: chr [1:6] \"k=150\" \"k=151\" \"k=152\" \"k=153\" ...\n"
          ],
          "name": "stdout"
        }
      ]
    },
    {
      "cell_type": "code",
      "metadata": {
        "id": "IxZpvAxYPJq9"
      },
      "source": [
        "caret.knn.cv10 <- train(Default ~ ., data = df_train, method = \"knn\",\n",
        "                        preProcess = c('center', 'scale')) "
      ],
      "execution_count": 61,
      "outputs": []
    },
    {
      "cell_type": "code",
      "metadata": {
        "id": "tNmcvwJfkU38"
      },
      "source": [
        "caret.knn.cv10 <- train(Default ~ ., data = df_train, method = \"knn\",\n",
        "                        trControl = fitControl10,\n",
        "                        preProcess = c('center', 'scale')) "
      ],
      "execution_count": null,
      "outputs": []
    },
    {
      "cell_type": "code",
      "metadata": {
        "id": "1q2ftv8DgphV"
      },
      "source": [
        "# varImp(caret.knn.cv10) \n",
        "# Function can be used with caret, but not with preious model\n",
        "# When it works with caret this will be very useful"
      ],
      "execution_count": null,
      "outputs": []
    }
  ]
}